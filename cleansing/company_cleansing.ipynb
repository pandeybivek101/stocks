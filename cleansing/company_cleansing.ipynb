{
 "cells": [
  {
   "cell_type": "code",
   "execution_count": 0,
   "metadata": {
    "application/vnd.databricks.v1+cell": {
     "cellMetadata": {
      "byteLimit": 2048000,
      "rowLimit": 10000
     },
     "inputWidgets": {},
     "nuid": "58d78c5c-075e-4b2d-a057-11cd07587e03",
     "showTitle": false,
     "title": ""
    }
   },
   "outputs": [],
   "source": [
    "%run /stockexhange/crawler/crawler.py"
   ]
  },
  {
   "cell_type": "code",
   "execution_count": 0,
   "metadata": {
    "application/vnd.databricks.v1+cell": {
     "cellMetadata": {
      "byteLimit": 2048000,
      "rowLimit": 10000
     },
     "inputWidgets": {},
     "nuid": "7ee9e009-22bc-4824-bee9-e66c2aeed844",
     "showTitle": false,
     "title": ""
    }
   },
   "outputs": [
    {
     "output_type": "stream",
     "name": "stdout",
     "output_type": "stream",
     "text": [
      "something went wrong while scrapping Preferred Stock\n[('Capital', 'GlobalIMECapital', 'Global IME Capital Limited', '0', '0.00', '0.00'), ('Capital', 'ACL', 'Aakash Capital Limited', '0', '0.00', '0.00'), ('Capital', 'BOKCML', 'BOK Capital Market Limited', '0', '0.00', '0.00'), ('Capital', 'NIMBACL', 'NIMB Ace Capital Limited', '0', '0.00', '0.00'), ('Commercial Banks', 'ADBL', 'Agriculture Development Bank Limited', '134,516,741', '100.00', '13,187,915,800.00'), ('Commercial Banks', 'CZBIL', 'Citizen Bank International Limited', '142,009,741', '100.00', '14,200,974,100.00'), ('Commercial Banks', 'EBL', 'Everest Bank Limited', '106,980,945', '100.00', '10,698,094,500.00'), ('Commercial Banks', 'GBIME', 'Global IME Bank Limited', '357,710,597', '100.00', '35,771,059,700.00'), ('Commercial Banks', 'HBL', 'Himalayan Bank Limited', '216,566,158', '100.00', '14,006,223,872.00'), ('Commercial Banks', 'KBL', 'Kumari Bank Limited', '262,258,613', '100.00', '26,225,861,300.00'), ('Commercial Banks', 'LBL', 'Laxmi Bank Limited', '115,513,451', '100.00', '11,551,345,100.00'), ('Commercial Banks', 'MBL', 'Machhapuchchhre Bank Limited', '102,571,556', '100.00', '10,257,155,600.00'), ('Commercial Banks', 'NABIL', 'Nabil Bank Limited', '270,569,984', '100.00', '27,056,996,352.00'), ('Commercial Banks', 'NBL', 'Nepal Bank Limited', '146,940,224', '100.00', '4,000,000,000.00'), ('Commercial Banks', 'NICA', 'NIC Asia Bank Ltd.', '115,640,056', '100.00', '11,564,005,600.00'), ('Commercial Banks', 'NMB', 'NMB Bank Limited', '183,667,060', '100.00', '18,366,706,000.00'), ('Commercial Banks', 'PCBL', 'Prime Commercial Bank Ltd.', '194,025,760', '100.00', '19,402,575,872.00'), ('Commercial Banks', 'SANIMA', 'Sanima Bank Limited', '124,601,152', '100.00', '12,460,114,944.00'), ('Commercial Banks', 'SBI', 'Nepal SBI Bank Limited', '101,206,288', '100.00', '10,120,629,248.00'), ('Commercial Banks', 'SBL', 'Siddhartha Bank Limited', '140,899,808', '100.00', '14,089,979,904.00'), ('Commercial Banks', 'SCB', 'Standard Chartered Bank Limited', '94,294,539', '100.00', '9,429,453,900.00'), ('Commercial Banks', 'SRBL', 'Sunrise Bank Limited', '101,188,929', '100.00', '10,118,892,900.00'), ('Commercial Banks', 'PRVU', 'Prabhu Bank Limited', '135,347,696', '100.00', '13,534,770,176.00'), ('Commercial Banks', 'RBB', 'Rastriya Banijya Bank Limited', '0', '0.00', '0.00'), ('Commercial Banks', 'NIMB', 'Nepal Investment Mega Bank Limited ', '341,285,949', '100.00', '34,128,594,900.00'), ('Commercial Banks', 'LSL', 'Laxmi Sunrise Bank Limited', '216,702,379', '100.00', '21,670,237,900.00'), ('Corporate Debenture', 'EBLB2079', 'Everest Bank Limited--2079', '468,850', '100.00', '46,885,000.00'), ('Corporate Debenture', 'GBIMEB2076', 'Global IME Bank -2076', '400,000', '100.00', '40,000,000.00'), ('Corporate Debenture', 'SBIB2079', 'Nepal SBI Bank - 2079', '400,000', '100.00', '40,000,000.00'), ('Corporate Debenture', 'SBLB2076', 'Siddhartha Bank Ltd. Bond -2076', '303,520', '100.00', '30,352,000.00'), ('Corporate Debenture', 'SAND2085', '10% Sanima Bank Limited Debenture', '2,000,000', '1,000.00', '2,000,000,000.00'), ('Corporate Debenture', 'NICAD 85/86', 'NIC Asia Debenture 2085/86', '2,404,688', '1,000.00', '2,404,688,000.00'), ('Corporate Debenture', 'NICAD8283', '11% NIC Asia Debenture 082/83', '0', '0.00', '0.00'), ('Corporate Debenture', 'SBLD2082', '10.50% SBL Debenture 2082', '0', '0.00', '0.00'), ('Corporate Debenture', 'NMBD2085', '10% NMB DEBENTURE 2085', '0', '0.00', '0.00'), ('Corporate Debenture', 'SRD80', '10% Sunrise Debenture 2080', '1,000,000', '1,000.00', '1,000,000,000.00'), ('Corporate Debenture', 'NICD83/84', '10.25% NIC Asia Debenture 2083/84', '0', '0.00', '0.00'), ('Corporate Debenture', 'PBLD86', '10.25% Prabhu Bank Debenture 2086', '0', '0.00', '0.00'), ('Corporate Debenture', 'SBLD83', '10.25% SBL Debenture 2083', '2,401,482', '1,000.00', '2,401,482,000.00'), ('Corporate Debenture', 'SRBLD83', '10.25% Sunrise Bank Debenture 2083', '0', '0.00', '0.00'), ('Corporate Debenture', 'BOKD2079', '8% BOK Debenture 2079', '0', '0.00', '0.00'), ('Corporate Debenture', 'NIBD2082', '10.5% Nepal Investment Debenture 2082', '0', '0.00', '0.00'), ('Corporate Debenture', 'KBLD86', '10.25% Kumari Bank Debenture 2086', '3,000,000', '1,000.00', '3,000,000,000.00'), ('Corporate Debenture', 'SBIBD86', '10% Nepal SBI Bank Debenture 2086', '0', '0.00', '0.00'), ('Corporate Debenture', 'GBD80/81', '10.25% Global IME Bank Limited Debenture 2080/81', '103,105,160', '1,000.00', '103,105,160,000.00'), ('Corporate Debenture', 'PBLD84', '10% Prabhu Bank Debenture 2084 ', '0', '0.00', '0.00'), ('Corporate Debenture', 'BOKD2086', '8.5% Bank of Kathmadu Limited 2086', '0', '0.00', '0.00'), ('Corporate Debenture', 'HBLD83', '10% Himalayan Bank Debenture 2083', '0', '0.00', '0.00'), ('Corporate Debenture', 'BOKD86', '8.5% BOK Debenture 2086', '1,600,000', '1,000.00', '1,600,000,000.00'), ('Corporate Debenture', 'NICAD8182', '9% NIC Asia Debenture 2081/82', '0', '0.00', '0.00'), ('Corporate Debenture', 'NIBD2084', '8.5% Nepal Investment Bank Bond ', '0', '0.00', '0.00'), ('Corporate Debenture', 'ICFCD83', '12% ICFC Finance Limited Debenture 2083', '200,000', '1,000.00', '200,000,000.00'), ('Corporate Debenture', 'GWFD83', '12% Goodwill finance Debenture 2083', '0', '0.00', '0.00'), ('Corporate Debenture', 'PBD85', '8.75% Prime Commercial Bank Debenture 2085', '2,447,963', '1,000.00', '2,447,963,000.00'), ('Corporate Debenture', 'GBILD86/87', '8.5% Global IME Bank Limited Debenture 2086/87', '3,000,000', '1,000.00', '3,000,000,000.00'), ('Corporate Debenture', 'NBBD2085', '10.25% NBB Debenture 2085', '0', '0.00', '0.00'), ('Corporate Debenture', 'MFLD85', '9.5% Manjushree Finance Limited Debenture 2085', '500,000', '1,000.00', '500,000,000.00'), ('Corporate Debenture', 'NBR2087', '8.5% Nepal Bank Rinpatra 2087', '3,500,000', '1,000.00', '3,500,000,000.00'), ('Corporate Debenture', 'MBLD2085', '10.25% Machhapuchhre Bank Debenture 2085', '0', '0.00', '0.00'), ('Corporate Debenture', 'LBLD86', '10% Laxmi Bank Debenture 2086', '0', '0.00', '0.00'), ('Corporate Debenture', 'ADBLD83', '10.35% Agricultural Bank Debenture 2083', '0', '0.00', '0.00'), ('Corporate Debenture', 'NMBD87/88', '8.50% NMB Rinpatra 2087/88', '2,000,000', '1,000.00', '2,000,000,000.00'), ('Corporate Debenture', 'PBLD87', '8.5% Prabhu Bank Debenture 2087', '2,650,000', '1,000.00', '2,650,000,000.00'), ('Corporate Debenture', 'NMBEB92/93', '4% NMB Urja Rinpatra (Energy Bond) 2092/93', '1,500,000', '1,000.00', '1,500,000,000.00'), ('Corporate Debenture', 'NBLD82', '10% Nabil Debenture 2082', '0', '0.00', '0.00'), ('Corporate Debenture', 'RBBD83', '8.5% RBBL Debenture 2083', '0', '0.00', '0.00'), ('Corporate Debenture', 'SBD87', '8.5% Sanima Debenture 2087', '0', '0.00', '0.00'), ('Corporate Debenture', 'SBLD84', '8.5% SBL Debenture 2084', '0', '0.00', '0.00'), ('Corporate Debenture', 'SDBD87', '9% Shangri-la Development Bank Debenture 2087', '750,000', '1,000.00', '750,000,000.00'), ('Corporate Debenture', 'NICD88', '8.5% NIC Asia Rinpatra 2088', '1,573,872', '1,000.00', '1,573,872,000.00'), ('Corporate Debenture', 'JBBD87', '9% Jyoti Bikas Bank Bond', '1,500,000', '1,000.00', '1,500,000,000.00'), ('Corporate Debenture', 'LBLD88', '8.5% Laxmi Bank Debenture 2088', '2,000,000', '1,000.00', '2,000,000,000.00'), ('Corporate Debenture', 'MBLD87', '8.50% Machhapuchchhre Debenture 2087\\t', '3,000,000', '1,000.00', '3,000,000,000.00'), ('Corporate Debenture', 'MND84/85', '8.75% Muktinath Debenture/Rinpatra 2084/85', '1,250,000', '1,000.00', '1,250,000,000.00'), ('Corporate Debenture', 'NBLD85', '8% Nabil Debenture 2085', '3,000,000', '1,000.00', '3,000,000,000.00'), ('Corporate Debenture', 'NCCD86', '9.5% NCC Debenture 2086', '0', '0.00', '0.00'), ('Corporate Debenture', 'GBBD85', 'Garima Debenture, 2085', '1,000,000', '1,000.00', '1,000,000,000.00'), ('Corporate Debenture', 'NIBD84', '8.5% Nepal Investment Bank Debenture 2084', '4,000,000', '1,000.00', '4,000,000,000.00'), ('Corporate Debenture', 'CBLD88', 'Civil Bank Debenture 2088', '3,000,000', '1,000.00', '3,000,000,000.00'), ('Corporate Debenture', 'EBLD86', '8.5% of Everest Bank Limited Debenture 2086', '2,000,000', '1,000.00', '2,000,000,000.00'), ('Corporate Debenture', 'PBD88', '10% Prime Debenture 2088', '1,741,884', '1,000.00', '1,741,884,000.00'), ('Corporate Debenture', 'NBLD87', '8.5% Nepal Bank Debenture 2087', '3,500,000', '1,000.00', '3,500,000,000.00'), ('Corporate Debenture', 'NMBUR93/94', '4% NMB Urja Rinpatra (Energy Bond II) 4%-2093/94', '2,727,437', '1,000.00', '2,727,437,000.00'), ('Corporate Debenture', 'CCBD88', 'Century Debenture 2088', '2,200,000', '1,000.00', '2,200,000,000.00'), ('Corporate Debenture', 'PBD84', '10.15% Prime Debenture 2084\\t', '5,000,000', '1,000.00', '5,000,000,000.00'), ('Corporate Debenture', 'SBLD89', '10.75% SBL Debenture 2089', '4,000,000', '1,000.00', '4,000,000,000.00'), ('Corporate Debenture', 'SBD89', '10.25% Sanima Debenture 2089', '5,000,000', '1,000.00', '5,000,000,000.00'), ('Corporate Debenture', 'EBLD85', 'Everest Bank Limited Rinpatra 2085', '2,000,000', '1,000.00', '2,000,000,000.00'), ('Corporate Debenture', 'BOKD86KA', 'BOK Debenture 2086 (Ka)', '1,100,000', '1,000.00', '1,100,000,000.00'), ('Corporate Debenture', 'HBLD86', 'Himalayan Bank Limited Bond 2086', '2,500,000', '1,000.00', '2,500,000,000.00'), ('Corporate Debenture', 'KBLD89', '11% KBL Debenture 2089', '3,000,000', '1,000.00', '3,000,000,000.00'), ('Corporate Debenture', 'SBID83', '10.25% Nepal SBI Bank Debenture 2083', '0', '0.00', '0.00'), ('Corporate Debenture', 'NIFRAUR85/86', 'Nifra Urja 7% -2085/86', '5,000,000', '1,000.00', '5,000,000,000.00'), ('Corporate Debenture', 'SCBD', '10.30% Standard Chartered Bank Nepal Limited Rinpatra', '2,400,000', '1,000.00', '2,400,000,000.00'), ('Corporate Debenture', 'GBILD84/85', 'Global IME Bank Debenture 2084/85', '5,000,000', '1,000.00', '5,000,000,000.00'), ('Corporate Debenture', 'NMBD89/90', 'NMB Debenture 10.75%-2089/2090', '4,000,000', '1,000.00', '4,000,000,000.00'), ('Corporate Debenture', 'MLBLD89', '11% Mahalaxmi Debenture-2089', '1,000,000', '1,000.00', '1,000,000,000.00'), ('Corporate Debenture', 'EBLE89', 'Everest Bank Limited Urja Rinpatra 2089', '746,830', '1,000.00', '746,830,000.00'), ('Corporate Debenture', 'LBBLD89', '11% L.B.B.L Debenture 2089', '1,000,000', '1,000.00', '1,000,000,000.00'), ('Corporate Debenture', 'CIZBD86', '10.25% Citizens Bank Debenture 2086', '2,500,000', '1,000.00', '2,500,000,000.00'), ('Development Bank Limited', 'CORBL', 'Corporate Development Bank Limited', '5,250,000', '100.00', '525,000,000.00'), ('Development Bank Limited', 'EDBL', 'Excel Development Bank Ltd.', '12,496,945', '100.00', '1,249,694,464.00'), ('Development Bank Limited', 'GBBL', 'Garima Bikas Bank Limited', '51,752,784', '100.00', '5,175,278,592.00'), ('Development Bank Limited', 'JBBL', 'Jyoti Bikas Bank Limited', '43,957,860', '100.00', '4,395,786,000.00'), ('Development Bank Limited', 'KRBL', 'Karnali Development Bank Limited', '5,300,100', '100.00', '530,010,000.00'), ('Development Bank Limited', 'MDB', 'Miteri Development Bank Limited', '10,150,015', '100.00', '1,015,001,472.00'), ('Development Bank Limited', 'MNBBL', 'Muktinath Bikas Bank Ltd.', '64,209,004', '100.00', '6,420,900,352.00'), ('Development Bank Limited', 'NABBC', 'Narayani Development Bank Limited', '2,624,676', '100.00', '262,467,600.00'), ('Development Bank Limited', 'SADBL', 'Shangrila Development Bank Ltd.', '30,106,697', '100.00', '3,010,669,700.00'), ('Development Bank Limited', 'SHINE', 'Shine Resunga Development Bank Ltd.', '42,838,832', '100.00', '4,283,883,264.00'), ('Development Bank Limited', 'SINDU', 'Sindhu Bikash Bank Ltd', '5,574,561', '100.00', '557,456,100.00'), ('Development Bank Limited', 'GRDBL', 'Green Development Bank Ltd.', '5,190,000', '100.00', '519,000,000.00'), ('Development Bank Limited', 'MLBL', 'Mahalaxmi Bikas Bank Ltd.', '41,713,184', '100.00', '4,171,318,528.00'), ('Development Bank Limited', 'LBBL', 'Lumbini Bikas Bank Ltd.', '33,828,216', '100.00', '3,382,821,376.00'), ('Development Bank Limited', 'KSBBL', 'Kamana Sewa Bikas Bank Limited', '31,425,771', '100.00', '3,142,577,100.00'), ('Development Bank Limited', 'SAPDBL', 'Saptakoshi Development Bank Ltd', '8,343,385', '100.00', '834,338,500.00'), ('Finance', 'CFCL', 'Central Finance Co. Ltd.', '9,488,756', '100.00', '948,875,584.00'), ('Finance', 'GFCL', 'Goodwill Finance Co. Ltd.', '9,461,152', '100.00', '946,115,200.00'), ('Finance', 'GMFIL', 'Guheshowori Merchant Bank & Finance Co. Ltd.', '10,121,760', '100.00', '1,012,176,000.00'), ('Finance', 'ICFC', 'ICFC Finance Limited', '11,834,710', '100.00', '1,183,470,976.00'), ('Finance', 'JFL', 'Janaki Finance Ltd.', '6,904,728', '100.00', '690,472,832.00'), ('Finance', 'MFIL', 'Manjushree Finance Ltd.', '13,515,529', '100.00', '1,351,552,896.00'), ('Finance', 'MPFL', 'Multipurpose Finance Company Limited', '4,520,000', '100.00', '452,000,000.00'), ('Finance', 'NFS', 'Nepal Finance Ltd.', '8,389,439', '100.00', '838,943,872.00'), ('Finance', 'PFL', 'Pokhara Finance Ltd.', '10,825,567', '100.00', '1,082,556,672.00'), ('Finance', 'PROFL', 'Progressive Finance Limited', '8,561,070', '100.00', '856,107,008.00'), ('Finance', 'SIFC', 'Shree Investment Finance Co. Ltd.', '9,816,832', '100.00', '981,683,200.00'), ('Finance', 'RLFL', 'Reliance Finance Ltd.', '10,530,064', '100.00', '1,053,006,400.00'), ('Finance', 'GUFL', 'Gurkhas Finance Ltd.', '8,679,937', '100.00', '867,993,700.00'), ('Finance', 'BFC', 'Best Finance Company Ltd.', '8,289,138', '100.00', '828,913,800.00'), ('Finance', 'SFCL', 'Samriddhi Finance Company Limited', '8,189,114', '100.00', '818,911,400.00'), ('Government Bond', 'NRBBR2067', 'Bikash Rinpatra 2067', '5,000,000', '100.00', '500,000,000.00'), ('Government Bond', 'NRBBR2067ga', 'Bikash Rinpatra 2067 Ga', '7,500,000', '100.00', '750,000,000.00'), ('Government Bond', 'NRBBR2067ka', 'Bikash Rinpatra 2067 Ka', '10,000,000', '100.00', '1,000,000,000.00'), ('Government Bond', 'NRBBR2067kha', 'Bikash Rinpatra 2067 Kha', '7,500,000', '100.00', '750,000,000.00'), ('Government Bond', 'NRBBR2069', 'Bikash Rinpatra 2069', '15,000,000', '100.00', '1,500,000,000.00'), ('Government Bond', 'NRBBR2071ka', 'Bikash Rinpatra 2071 Ka', '20,000,000', '100.00', '2,000,000,000.00'), ('Government Bond', 'NRBBR2071Kha', 'Bikash Rinpatra 2071 Kha', '30,000,000', '100.00', '3,000,000,000.00'), ('Government Bond', 'NRBBR2072', 'Bikash Rinpatra 2072', '7,500,000', '100.00', '750,000,000.00'), ('Government Bond', 'NRBBR2072ka', 'Bikash Rinpatra 2072 Ka', '15,000,000', '100.00', '1,500,000,000.00'), ('Government Bond', 'NRBBR2073 KA', 'Bikash Rinpatra 2073 Ka', '27,500,000', '100.00', '2,750,000,000.00'), ('Government Bond', 'NRBBR2075', 'Bikash Rinpatra 2075', '12,000,000', '100.00', '1,200,000,000.00'), ('Government Bond', 'NRBBR2075ka', 'Bikash Rinpatra 2075 Ka', '21,000,000', '100.00', '2,100,000,000.00'), ('Government Bond', 'NRBBR2076', 'Bikash Rinpatra 2076', '22,000,000', '100.00', '2,200,000,000.00'), ('Government Bond', 'NRBBR2076Ga', 'Bikash Rinpatra 2076 Ga', '4,600,000', '100.00', '460,000,000.00'), ('Government Bond', 'NRBBR2076ka', 'Bikash Rinpatra 2076 Ka', '9,000,000', '100.00', '900,000,000.00'), ('Government Bond', 'NRBBR2076Kha', 'Bikash Rinpatra 2076 Kha', '10,400,000', '100.00', '1,040,000,000.00'), ('Government Bond', '9%CSB2082', 'Nepal Rastra Bank Nagarik Bachatpatra 2082 Ka', '0', '0.00', '0.00'), ('Government Bond', 'NRBBR2085Gha', 'Bikash Rinpatra 2085 Gha', '0', '0.00', '0.00'), ('Government Bond', '9%CSB2083', 'Nepal Rastra Bank Nagarik Bachatpatra 2083 (5 Years)', '0', '0.00', '0.00'), ('Government Bond', 'NRBBR2083Gha', 'Nepal Rastra Bank Bikash Rinpatra 2083 Gha', '0', '0.00', '0.00'), ('Hotels And Tourism', 'OHL', 'Oriental Hotels Limited', '11,280,905', '100.00', '1,128,090,500.00'), ('Hotels And Tourism', 'SHL', 'Soaltee Hotel Limited', '88,471,506', '10.00', '8,847,150,600.00'), ('Hotels And Tourism', 'TRH', 'Taragaon Regency Hotel Limited', '18,866,540', '100.00', '1,886,654,000.00'), ('Hotels And Tourism', 'CGH', 'Chandragiri Hills Limited', '15,340,910', '100.00', '1,534,091,000.00'), ('Hotels And Tourism', 'KDL', 'Kalinchowk Darshan Limited', '6,000,000', '100.00', '600,000,000.00'), ('Hotels And Tourism', 'CITY', 'City Hotel Limited', '16,740,000', '100.00', '1,674,000,000.00'), ('Hydro Power', 'AHPC', 'Arun Valley Hydropower Development Co. Ltd.', '18,679,626', '100.00', '1,867,962,600.00'), ('Hydro Power', 'BPCL', 'Butwal Power Company Limited', '34,086,432', '100.00', '3,408,643,072.00'), ('Hydro Power', 'CHCL', 'Chilime Hydropower Company Limited', '72,581,792', '100.00', '7,258,179,584.00'), ('Hydro Power', 'NHPC', 'National Hydro Power Company Limited', '16,417,919', '100.00', '1,641,791,872.00'), ('Hydro Power', 'SHPC', 'Sanima Mai Hydropower Ltd.', '30,892,510', '100.00', '3,089,251,000.00'), ('Hydro Power', 'RHPC', 'Ridi Hydropower Development Company Ltd.', '3,300,000', '100.00', '330,000,000.00'), ('Hydro Power', 'HURJA', 'Himalaya Urja Bikas Company Limited', '9,900,000', '100.00', '990,000,000.00'), ('Hydro Power', 'AKPL', 'Arun Kabeli Power Ltd.', '20,407,316', '100.00', '2,040,731,600.00'), ('Hydro Power', 'BARUN', 'Barun Hydropower Co. Ltd.', '5,358,150', '100.00', '535,815,000.00'), ('Hydro Power', 'API', 'Api Power Company Ltd.', '41,332,842', '100.00', '4,133,284,200.00'), ('Hydro Power', 'NGPL', 'Ngadi Group Power Ltd.', '18,512,792', '100.00', '1,851,279,200.00'), ('Hydro Power', 'MHL', 'Mandakini Hydropower Limited', '5,880,369', '100.00', '588,036,900.00'), ('Hydro Power', 'NYADI', 'Nyadi Hydropower Limited', '15,000,000', '100.00', '1,500,000,000.00'), ('Hydro Power', 'SJCL', 'SANJEN JALAVIDHYUT COMPANY LIMITED', '32,850,000', '100.00', '3,285,000,000.00'), ('Hydro Power', 'RHPL', 'RASUWAGADHI HYDROPOWER COMPANY LIMITED', '61,578,900', '100.00', '6,157,890,000.00'), ('Hydro Power', 'UMHL', 'United Modi Hydropower Ltd.', '11,500,000', '100.00', '1,150,000,000.00'), ('Hydro Power', 'DORDI', 'Dordi Khola Jal Bidyut Company Limited', '10,542,604', '100.00', '1,054,260,400.00'), ('Hydro Power', 'PHCL', 'Peoples Hydropower Company Limited', '32,000,000', '100.00', '3,200,000,000.00'), ('Hydro Power', 'PPL', \"People's Power Limited\", '6,326,000', '100.00', '632,600,000.00'), ('Hydro Power', 'UPCL', 'UNIVERSAL POWER COMPANY LTD', '21,003,500', '100.00', '2,100,350,000.00'), ('Hydro Power', 'SPL', 'Shuvam Power Company Limited', '2,000,000', '100.00', '200,000,000.00'), ('Hydro Power', 'SPDL', 'Synergy Power Development Ltd.', '8,065,750', '100.00', '806,574,976.00'), ('Hydro Power', 'MKJC', 'Mailung Khola Jal Vidhyut Company  Limited', '3,681,430', '100.00', '368,143,000.00'), ('Hydro Power', 'SAHAS', 'Sahas Urja Limited', '35,000,000', '100.00', '3,500,000,000.00'), ('Hydro Power', 'KKHC', 'Khanikhola Hydropower Co. Ltd.', '4,657,143', '100.00', '465,714,300.00'), ('Hydro Power', 'HPPL', 'Himalayan Power Partner Ltd.', '10,654,170', '100.00', '1,065,417,000.00'), ('Hydro Power', 'DHPL', 'Dibyashwori Hydropower Ltd.', '2,640,000', '100.00', '264,000,000.00'), ('Hydro Power', 'BHPL', 'Barahi Hydropower Public Limited', '2,500,000', '100.00', '250,000,000.00'), ('Hydro Power', 'MHNL', 'Mountain Hydro Nepal Limited', '12,500,000', '100.00', '1,250,000,000.00'), ('Hydro Power', 'CHL', 'Chhyangdi Hydropower Ltd.', '3,869,775', '100.00', '386,977,500.00'), ('Hydro Power', 'USHL', 'Upper Syange  Hydropower Limited', '2,200,000', '100.00', '220,000,000.00'), ('Hydro Power', 'SPHL', 'Sayapatri Hydropower Limited', '900,000', '0.00', '300,000,000.00'), ('Hydro Power', 'NHDL', 'Nepal Hydro Developers Ltd.', '3,359,265', '100.00', '335,926,496.00'), ('Hydro Power', 'RADHI', 'Radhi Bidyut Company Ltd', '16,759,799', '100.00', '1,675,979,900.00'), ('Hydro Power', 'BNHC', 'Buddhabhumi Nepal Hydropower Company Limited', '4,000,000', '100.00', '400,000,000.00'), ('Hydro Power', 'RHGCL', 'Rapti Hydro and General Construction Limited', '6,127,938', '100.00', '612,793,792.00'), ('Hydro Power', 'KPCL', 'Kalika power Company Ltd', '7,935,000', '100.00', '793,500,000.00'), ('Hydro Power', 'TAMOR', 'Sanima Middle Tamor Hydropower Limited', '33,325,000', '100.00', '3,332,500,000.00'), ('Hydro Power', 'GHL', 'Ghalemdi Hydro Limited', '5,500,000', '100.00', '550,000,000.00'), ('Hydro Power', 'EHPL', 'Eastern Hydropower Limited', '6,200,000', '100.00', '620,000,000.00'), ('Hydro Power', 'MKHC', 'Maya Khola Hydropower Company Limited', '10,000,000', '100.00', '1,000,000,000.00'), ('Hydro Power', 'BEDC', ' Bhugol Energy Development Company Limited ', '5,440,534', '100.00', '544,053,400.00'), ('Hydro Power', 'PMHPL', 'Panchakanya Mai Hydropower Ltd', '11,000,000', '100.00', '1,100,000,000.00'), ('Hydro Power', 'KBSH', 'Kutheli Bukhari Small Hydropower Limited', '1,218,657', '100.00', '121,865,700.00'), ('Hydro Power', 'MBJC', 'Madhya Bhotekoshi Jalavidyut Company Limited', '60,000,000', '100.00', '6,000,000,000.00'), ('Hydro Power', 'GLH', 'Greenlife Hydropower Limited', '18,000,000', '100.00', '1,800,000,000.00'), ('Hydro Power', 'USHEC', 'Upper Solu Hydro Electric Company Limited ', '13,500,000', '100.00', '1,350,000,000.00'), ('Hydro Power', 'AKJCL', 'Ankhu Khola Jalvidhyut Company Ltd', '8,000,000', '100.00', '800,000,000.00'), ('Hydro Power', 'LEC', 'Liberty Energy Company Limited', '15,000,000', '100.00', '1,500,000,000.00'), ('Hydro Power', 'TPC', 'Terhathum Power Company Limited', '4,000,000', '100.00', '400,000,000.00'), ('Hydro Power', 'SHEL', 'Singati Hydro Energy Limited', '14,500,000', '100.00', '1,450,000,000.00'), ('Hydro Power', 'PPCL', 'Panchthar Power Company Limited', '9,625,000', '100.00', '962,500,000.00'), ('Hydro Power', 'TSHL', 'Three Star Hydropower Limited', '4,925,000', '100.00', '492,500,000.00'), ('Hydro Power', 'SSHL', 'Shiva Shree Hydropower Limited', '14,764,000', '100.00', '1,476,400,000.00'), ('Hydro Power', 'JOSHI', 'Joshi Hydropower Development Company Ltd', '3,714,000', '100.00', '371,400,000.00'), ('Hydro Power', 'UPPER', 'Upper Tamakoshi Hydropower Ltd', '105,900,000', '100.00', '10,590,000,000.00'), ('Hydro Power', 'UNHPL', 'Union Hydropower Limited', '7,500,000', '100.00', '750,000,000.00'), ('Hydro Power', 'SPC', 'Samling Power Company Limited', '5,000,000', '100.00', '500,000,000.00'), ('Hydro Power', 'SGHC', 'Swet-Ganga Hydropower & Construction Limited ', '15,930,000', '100.00', '1,592,999,936.00'), ('Hydro Power', 'AHL', 'Asian Hydropower Limited', '3,400,000', '100.00', '340,000,000.00'), ('Hydro Power', 'BHDC', 'Bindyabasini Hydropower Development Company Limited', '10,000,000', '100.00', '1,000,000,000.00'), ('Hydro Power', 'HDHPC', 'Himal Dolakha Hydropower Company Limited', '16,000,000', '100.00', '1,600,000,000.00'), ('Hydro Power', 'MHCL', 'Molung Hydropower Company Limited', '8,025,000', '100.00', '802,500,000.00'), ('Hydro Power', 'SMH', 'Super Mai Hydropower Limited', '5,000,000', '100.00', '500,000,000.00'), ('Hydro Power', 'RFPL', 'River Falls Power Limited', '7,000,000', '100.00', '700,000,000.00'), ('Hydro Power', 'MEN', 'Mountain Energy Nepal Limited', '19,680,270', '100.00', '1,968,027,000.00'), ('Hydro Power', 'UHEWA', 'Upper Hewakhola Hydropower Company Limited', '5,000,000', '100.00', '500,000,000.00'), ('Hydro Power', 'HHL', 'Himalayan Hydropower Limited', '10,950,000', '100.00', '1,095,000,000.00'), ('Hydro Power', 'UMRH', 'United IDI Mardi RB Hydropower Limited.', '4,200,000', '100.00', '420,000,000.00'), ('Hydro Power', 'SIKLES', 'Sikles Hydropower Limited', '8,500,000', '100.00', '850,000,000.00'), ('Hydro Power', 'MEL', 'Modi Energy Limited', '29,000,000', '100.00', '2,900,000,000.00'), ('Hydro Power', 'RURU', 'Ru Ru Jalbidhyut Pariyojana Limited', '4,933,237', '100.00', '493,323,712.00'), ('Hydro Power', 'MAKAR', 'Makar Jitumaya Suri Hydropower Limited', '7,600,000', '100.00', '760,000,000.00'), ('Hydro Power', 'SMJC', 'Sagarmatha Jalabidhyut Company Limited', '11,200,000', '100.00', '1,120,000,000.00'), ('Hydro Power', 'MKHL', 'Mai Khola Hydropower Limited', '3,921,568', '100.00', '392,156,800.00'), ('Hydro Power', 'DOLTI', 'Dolti Power Company Limited', '5,364,860', '100.00', '536,486,000.00'), ('Hydro Power', 'BHL', 'Balephi Hydropower Limited', '18,279,700', '100.00', '1,827,970,000.00'), ('Hydro Power', 'GVL', 'Green Ventures Limited', '3,125,000', '100.00', '3,124,999,936.00'), ('Hydro Power', 'RIDI', 'Ridi Power Company Limited', '15,489,012', '100.00', '1,548,901,200.00'), ('Hydro Power', 'IHL', 'Ingwa Hydropower Limited', '6,000,000', '100.00', '600,000,000.00'), ('Hydro Power', 'SMHL', 'Super Madi Hydropower Limited', '21,000,000', '100.00', '2,100,000,000.00'), ('Hydro Power', 'MCHL', 'Menchhiyam Hydropower Limited', '5,425,833', '100.00', '542,583,300.00'), ('Hydro Power', 'RAWA', 'Rawa Energy Development Limited', '2,800,000', '100.00', '280,000,000.00'), ('Investment', 'CIT', 'C\n\n*** WARNING: max output size exceeded, skipping output. ***\n\nean Energy Development Bank Ltd. Promoter Share', '6,528,000', '100.00', '652,800,000.00'), ('Promotor Share', 'CMBFLP', 'Capital Merchant Bank. & Fin. Promoter Share', '700,000', '100.00', '70,000,000.00'), ('Promotor Share', 'CMBFPO', 'CMB Finance Ltd. Promoter Share', '450,306', '100.00', '45,030,600.00'), ('Promotor Share', 'CMBSLp', 'Civil Merchant Bittiya Sanstha Limited Promoter Share', '600,000', '100.00', '60,000,000.00'), ('Promotor Share', 'CZBILP', 'Citizens Bank Internatioal Limited Promoter Share', '10,000', '100.00', '1,000,000.00'), ('Promotor Share', 'EBLPO', 'Everest Bank Limited Promoter Share', '100,000', '100.00', '10,000,000.00'), ('Promotor Share', 'EFLPO', 'Everest Finance Limited Promoter Share', '120,000', '100.00', '12,000,000.00'), ('Promotor Share', 'GBIMEP', 'Global IME Bank Limited Promoter Share', '100,000', '100.00', '10,000,000.00'), ('Promotor Share', 'GFCLPO', 'Goodwill Finance Company Limited Promoter Share', '461,896', '100.00', '46,189,600.00'), ('Promotor Share', 'GFLKPO', 'Gorkha Finance Limited Promoter Share', '357,300', '100.00', '35,730,000.00'), ('Promotor Share', 'GRANDP', 'Grand Bank Limited Promoter Share', '1,680,000', '100.00', '168,000,000.00'), ('Promotor Share', 'GSDBLP', 'Gaurishankar Development Bank Ltd. Promoter Share', '1,000,000', '100.00', '100,000,000.00'), ('Promotor Share', 'HBLPO', 'Himalayan Bank Limited Promoter Share', '100,000', '100.00', '10,000,000.00'), ('Promotor Share', 'ICFCPO', 'ICFC Finance Limited Promotor Share', '2,223,340', '100.00', '222,334,000.00'), ('Promotor Share', 'IDBLPO', 'Infrastructure Development Bank Limited Promoter Share', '2,464,000', '100.00', '246,400,000.00'), ('Promotor Share', 'IFILPO', 'Imperial Finance Ltd Promoter Share', '200,000', '100.00', '20,000,000.00'), ('Promotor Share', 'IMEFIP', 'IME Financial Institution Promoter Share', '1,621,491', '100.00', '162,149,100.00'), ('Promotor Share', 'JBBLPO', 'Jyoti Bikash Bank Ltd. Promoter Share', '100,000', '100.00', '10,000,000.00'), ('Promotor Share', 'JFLPO', 'Janaki Finance Limited Promoter Share', '240,000', '100.00', '24,000,000.00'), ('Promotor Share', 'KAFILP', 'Kaski Finanace Ltd. Promoter', '1,685,208', '100.00', '168,520,800.00'), ('Promotor Share', 'KBBLPO', 'Kailash Bikas Bank Limited Promoter Share', '1,008,000', '100.00', '100,800,000.00'), ('Promotor Share', 'KBLPO', 'Kumari Bank Limited Promotor Share', '5,250,000', '100.00', '525,000,000.00'), ('Promotor Share', 'KDBLPO', 'Kasthamandap Dev. Bank Limited Promoter Share', '200,000', '100.00', '20,000,000.00'), ('Promotor Share', 'KISTPO', 'KIST Bank Limited Promoter Share', '1,200,000', '100.00', '120,000,000.00'), ('Promotor Share', 'LBLPO', 'Laxmi Bank Limited Promoter Share', '4,717,008', '100.00', '471,700,800.00'), ('Promotor Share', 'LFCPO', 'Lalitpur Finance Co. Ltd. Promoter Share', '417,656', '100.00', '41,765,600.00'), ('Promotor Share', 'LFLCPO', 'Lumbini Finance Ltd Promoter Share', '6,000,000', '100.00', '600,000,000.00'), ('Promotor Share', 'MBBLPO', 'Mahakali Bikas Bank Ltd. Promoter', '100,000', '100.00', '10,000,000.00'), ('Promotor Share', 'MBLPO', 'Machhapuchchhre Bank Limited Promotor Share', '5,751,559', '100.00', '575,155,900.00'), ('Promotor Share', 'MDBLPO', 'Malika Development Bank Limited Promoter Share', '350,000', '100.00', '35,000,000.00'), ('Promotor Share', 'MFLPO', 'Maha Laxmi Finance Company Limited Promoter Share', '100,000', '100.00', '10,000,000.00'), ('Promotor Share', 'NABBPO', 'Nepal Aawas Finance Limited Promoter Share', '944,682', '100.00', '94,468,200.00'), ('Promotor Share', 'NABILP', 'NABIL Bank Limited Promotor Share', '4,811,751', '100.00', '481,175,100.00'), ('Promotor Share', 'NBBPO', 'Nepal Bangladesh Bank Limited Promoter Share', '18,603,890', '100.00', '1,860,389,000.00'), ('Promotor Share', 'NCCBPO', 'Nepal Credit & Commercial Bank Ltd. Promoter Share', '6,880,104', '100.00', '688,010,400.00'), ('Promotor Share', 'NCMPO', 'N.I.D.C Capital Markets Ltd. Promoter Share', '1,000,000', '100.00', '100,000,000.00'), ('Promotor Share', 'NDBPO', 'Nepal Development Bank Limited Promoter Share', '1,120,000', '100.00', '112,000,000.00'), ('Promotor Share', 'NEFLPO', 'Nepal Express Finance Limited Promoter Share', '1,000,000', '100.00', '100,000,000.00'), ('Promotor Share', 'NHMFPO', 'Nepal Housing & Merchant Co. Ltd. Promoter Share', '482,642', '100.00', '48,264,200.00'), ('Promotor Share', 'NIBPO', 'Nepal Investment Bank Ltd. Promoter Share', '100', '100.00', '10,000.00'), ('Promotor Share', 'NICAP', 'NIC Asia Bank Limted Promoter Share', '5,148,000', '100.00', '514,800,000.00'), ('Promotor Share', 'NLICLP', 'National Life Insurance Co. Ltd. Promoter Share', '200,000', '100.00', '20,000,000.00'), ('Promotor Share', 'NMBPO', 'NMB Bank Limited Promoter Share', '8,579,999', '100.00', '857,999,900.00'), ('Promotor Share', 'NNFCPO', 'Narayani National Finance Company Limited Promoter Share', '1,293,176', '100.00', '129,317,600.00'), ('Promotor Share', 'NSMPO', 'Nepal Share Markets Limited Promoter Share', '100,000', '100.00', '10,000,000.00'), ('Promotor Share', 'OFLPO', 'Om Finance Limited Promoter Share', '100', '100.00', '10,000.00'), ('Promotor Share', 'PCBLP', 'Prime Commercial Bank Limited Promoter Share', '400,000', '100.00', '40,000,000.00'), ('Promotor Share', 'PDBLPO', 'Paschimanchal Bikash Bank Ltd. Promoter Share', '600,000', '100.00', '60,000,000.00'), ('Promotor Share', 'PFCLPO', 'Peoples Finance Limited Promoter Share', '338,610', '100.00', '33,861,000.00'), ('Promotor Share', 'PFLBSP', 'Patan Finance Limited Promoter Share', '300,000', '100.00', '30,000,000.00'), ('Promotor Share', 'PFLPO', 'Pokhara Finance Company Limited Promoter Share', '1,862,078', '100.00', '186,207,800.00'), ('Promotor Share', 'PRFLPO', 'Prabhu Finance Ltd. Promoter Share', '3,000,000', '100.00', '300,000,000.00'), ('Promotor Share', 'PROFLP', 'Progressive Finance Limited Promoter Share', '180,000', '100.00', '18,000,000.00'), ('Promotor Share', 'RMBFPO', 'Royal Merchant Bank & Finance Co. Ltd. Promoter Share', '357,500', '100.00', '35,750,000.00'), ('Promotor Share', 'SBBLJP', 'Sahayogi Bikas Bank Ltd. Promoter Share', '100', '100.00', '10,000.00'), ('Promotor Share', 'SNMAPO', 'Sanima Bank Limited Promoter Share', '5,376,000', '100.00', '537,600,000.00'), ('Promotor Share', 'SBIPO', 'Nepal SBI Bank Ltd. Promoter Share', '6,114,353', '100.00', '611,435,300.00'), ('Promotor Share', 'SBLPO', 'Siddhartha Bank Limited Promoter Share', '3,000,000', '100.00', '300,000,000.00'), ('Promotor Share', 'SDBLPO', 'Siddhartha Development Bank Limited Promoter Share', '300,000', '100.00', '30,000,000.00'), ('Promotor Share', 'SETIPO', 'Seti Finance Ltd. Promoter Share', '560,000', '100.00', '56,000,000.00'), ('Promotor Share', 'SEWAPO', 'Sewa Bikas Bank Ltd. Promoter', '100,000', '100.00', '10,000,000.00'), ('Promotor Share', 'SFCPO', 'Samjhana Finace Co. Ltd. Promoter Share', '123,750', '100.00', '12,375,000.00'), ('Promotor Share', 'SFFILP', 'Srijana Finance Limited Promoter Share', '84,000', '100.00', '8,400,000.00'), ('Promotor Share', 'SFLPO', 'Siddhartha Finance Limited Promoter Share', '500,000', '100.00', '50,000,000.00'), ('Promotor Share', 'SIFCPO', 'Shree Investment & Finance Company Limited Promoter Share', '1,000,000', '100.00', '100,000,000.00'), ('Promotor Share', 'SLICLP', 'Surya Life Insurance Co. Ltd. Promoter Share', '900,000', '100.00', '90,000,000.00'), ('Promotor Share', 'SRBLPO', 'Sunrise Bank Ltd Promoter Share', '20,000,000', '100.00', '2,000,000,000.00'), ('Promotor Share', 'STFLPO', 'Standard Finance Limited Promoter Share', '9,437,241', '100.00', '943,724,100.00'), ('Promotor Share', 'SUBBLP', 'Subbecha Bikas Bank Ltd. Promoter Share', '100,000', '100.00', '10,000,000.00'), ('Promotor Share', 'SUPRMP', 'Supreme Development Bank Ltd. Promoter Share', '4,704,000', '100.00', '470,400,000.00'), ('Promotor Share', 'SWBBLP', 'Swabalamban Laghubitta Bittiya Sanstha Limited Promoter Share', '175,000', '100.00', '17,500,000.00'), ('Promotor Share', 'TBBLP', 'Triveni Bikas Bank Limited Promoter Share', '500,000', '100.00', '50,000,000.00'), ('Promotor Share', 'UFCLPO', 'Union Finance Co. Ltd. Promoter Share', '100', '100.00', '10,000.00'), ('Promotor Share', 'UFLKPO', 'Universal Finance Limited Promoter Share', '1,313,787', '100.00', '131,378,700.00'), ('Promotor Share', 'UFLPO', 'United Finance Company Limited Promoter Share', '900,000', '100.00', '90,000,000.00'), ('Promotor Share', 'YFLPO', 'Yeti Finance Limited Promoter Share', '8,812', '100.00', '881,200.00'), ('Promotor Share', 'UFILPO', 'Unique Finance Limited Promoter Share', '100,000', '100.00', '10,000,000.00'), ('Promotor Share', 'MDBPO', 'Miteri Development Bank Limited Promoter Share', '10,000', '100.00', '1,000,000.00'), ('Promotor Share', 'PSDBLP', 'Pashupati Development Bank Limited Promoter Share', '1,200,000', '100.00', '120,000,000.00'), ('Promotor Share', 'PFILPO', 'Prudential Finance Co. Ltd. Promoter', '100,000', '100.00', '10,000,000.00'), ('Promotor Share', 'HAMAPO', 'Hama Merchant & Finance Ltd. Promoter Share', '200,000', '100.00', '20,000,000.00'), ('Promotor Share', 'EDBLPO', 'Excel Development Bank Ltd. Promoter Share', '100,000', '100.00', '10,000,000.00'), ('Promotor Share', 'NILPO', 'Neco Insurace Co. Ltd. Promoter', '1,352,216', '100.00', '135,221,600.00'), ('Promotor Share', 'SICPO', 'Sagarmatha Insurance Co. Ltd. Promoter Share', '100,000', '100.00', '10,000,000.00'), ('Promotor Share', 'GLICLP', 'Gurans Life Insurance Company Ltd. Promoter Share', '100,000', '100.00', '10,000,000.00'), ('Promotor Share', 'ARDBLP', 'Araniko Development Bank Limited Promoter Share', '100,000', '100.00', '10,000,000.00'), ('Promotor Share', 'GBBLPO', 'Garima Bikas Bank Limited Promoter Share', '100,000', '100.00', '10,000,000.00'), ('Promotor Share', 'SYFLPO', 'Synergy Finance Limited Promoter Share', '500,000', '100.00', '50,000,000.00'), ('Promotor Share', 'SICLPO', 'Shikhar Insurance Company Limited Promoter Share', '0', '0.00', '0.00'), ('Promotor Share', 'BSBLPO', 'Bishwa Bikas Bank Limited Promoter Share', '0', '0.00', '0.00'), ('Promotor Share', 'REDBLP', 'Reliable Development Bank Ltd. Promoter Share', '0', '0.00', '0.00'), ('Promotor Share', 'SILPO', 'Siddhartha Insurance Limited Promoter Share', '0', '0.00', '0.00'), ('Promotor Share', 'BHBLPO', 'Bhargav Bikash Bank Ltd. Promoter Share', '0', '0.00', '0.00'), ('Promotor Share', 'PRVUPO', 'Prabhu Bank Limited Promoter Share', '0', '0.00', '0.00'), ('Promotor Share', 'WDBLPO', 'Western Development Bank Limited Promoter Share', '0', '0.00', '0.00'), ('Promotor Share', 'CSDBLP', 'Cosmos Development Bank Ltd. Promoter Share', '0', '0.00', '0.00'), ('Promotor Share', 'CNDBLP', 'Country Development Bank Limited Promoter Share', '0', '0.00', '0.00'), ('Promotor Share', 'EKBLPO', 'Ekata Bikas Bank Ltd. Promoter Share', '0', '0.00', '0.00'), ('Promotor Share', 'HAMROP', 'Hamro Bikas Bank Limited Promoter Share', '0', '0.00', '0.00'), ('Promotor Share', 'KNBLPO', 'Kankai Bikas Bank Ltd. Promoter Share', '0', '0.00', '0.00'), ('Promotor Share', 'LLBSPO', 'Laxmi Laghubitta Bittiya Sanstha Limited Promoter Share', '0', '0.00', '0.00'), ('Promotor Share', 'MNBBLP', 'Muktinath Bikas Bank Limited Promoter Share', '0', '0.00', '0.00'), ('Promotor Share', 'BUDBLP', 'Business Universal Development Bank Ltd. Promoter Share', '0', '0.00', '0.00'), ('Promotor Share', 'PFCPO', 'Paschimanchal Finance Co. Ltd. Promoter Share', '0', '0.00', '0.00'), ('Promotor Share', 'JHBLPO', 'Jhimruk Bikas Bank Ltd. Promoter Share', '0', '0.00', '0.00'), ('Promotor Share', 'NFSPO', 'Nepal Finance Ltd. Promoter Share', '0', '0.00', '0.00'), ('Promotor Share', 'PICLPO', 'Prudential Insurance Co. Ltd. Promoter Share', '0', '0.00', '0.00'), ('Promotor Share', 'RLFLPO', 'Reliance Finance Limited Promoter Share', '0', '0.00', '0.00'), ('Promotor Share', 'ALDBLP', 'Alpine Development Bank Limited Promoter Share', '0', '0.00', '0.00'), ('Promotor Share', 'APEXPO', 'Apex Development Bank Ltd. Promoter Share', '0', '0.00', '0.00'), ('Promotor Share', 'CCBLPO', 'Century Commercial Bank Limited Promoter Share', '0', '0.00', '0.00'), ('Promotor Share', 'CBLPO', 'Civil Bank Ltd Promoter Share', '0', '0.00', '0.00'), ('Promotor Share', 'GDBLPO', 'Gandaki Bikas Bank Limited Promoter Share', '0', '0.00', '0.00'), ('Promotor Share', 'GABLPO', 'Gaumukhee Bikas Bank Ltd. Promoter Share', '0', '0.00', '0.00'), ('Promotor Share', 'JBNLPO', 'Janata Bank Nepal Ltd. Promoter Share', '0', '0.00', '0.00'), ('Promotor Share', 'JEFLPO', 'Jebils Finance Ltd. Promoter Share', '0', '0.00', '0.00'), ('Promotor Share', 'MSBBLP', 'Manaslu Bikas Bank Limited Promoter Share', '0', '0.00', '0.00'), ('Promotor Share', 'MEGAPO', 'Mega Bank Nepal Limited Promoter Share', '0', '0.00', '0.00'), ('Promotor Share', 'MIDBLP', 'Mission Development Bank Ltd. Promoter Share', '0', '0.00', '0.00'), ('Promotor Share', 'NBSLPO', 'Namaste Bittiya Sanstha Ltd. Promoter Share', '0', '0.00', '0.00'), ('Promotor Share', 'NLBBLP', 'Nerude Laghubita Bittiya Sanstha Limited Promoter Share', '0', '0.00', '0.00'), ('Promotor Share', 'NIDCPO', 'N.I.D.C Development Bank Ltd. Promoter Share', '0', '0.00', '0.00'), ('Promotor Share', 'NUBLPO', 'Nirdhan Utthan Laghubitta Bittiya Sanstha Limited Promoter Share', '0', '0.00', '0.00'), ('Promotor Share', 'PRDBLP', 'Professional Diyalo Bikas Bank Ltd. Promoter Share', '0', '0.00', '0.00'), ('Promotor Share', 'RMDCPO', 'Rural Microfinance Development Centre Limited Promoter Share', '0', '0.00', '0.00'), ('Promotor Share', 'SKBBLP', 'Sana Kisan Bikas Laghubitta Bittiya sanstha Limited Promoter Share', '0', '0.00', '0.00'), ('Promotor Share', 'SHINEP', 'Shine Resunga Development Bank Limited Promoter Share', '0', '0.00', '0.00'), ('Promotor Share', 'SINDUP', 'Sindhu Bikash Bank Limited Promoter Share', '0', '0.00', '0.00'), ('Promotor Share', 'SCBPO', 'Standard Chartered Bank Limited Promoter Share', '0', '0.00', '0.00'), ('Promotor Share', 'SMFDBP', 'Summit Laghubitta Bittiya Sanstha Ltd. Promoter Share', '0', '0.00', '0.00'), ('Promotor Share', 'CFCLPO', 'Central Finance Company Limited Promoter Share', '0', '0.00', '0.00'), ('Promotor Share', 'RBCLPO', 'Rastriya Beema Company Limited Promoter Share', '0', '0.00', '0.00'), ('Promotor Share', 'KMCDBP', 'Kalika Laghubitta Bittiya Sanstha Limited Promoter Share', '0', '0.00', '0.00'), ('Promotor Share', 'PADBLP', 'Pacific Development Bank Ltd. Promoter Share', '0', '0.00', '0.00'), ('Promotor Share', 'BGDBLP', 'Bagmati Development Bank Ltd. Promoter Share', '0', '0.00', '0.00'), ('Promotor Share', 'PRINPO', 'Prabhu Insurance Company Ltd. Promoter', '1,000,000', '100.00', '100,000,000.00'), ('Promotor Share', 'DDBLPO', 'Deprosc LaghuBitta Bittiya Sanstha Limited Promoter Share', '0', '0.00', '0.00'), ('Promotor Share', 'INDBPO', 'Innovative Development Bank Ltd. Promoter Share', '0', '0.00', '0.00'), ('Promotor Share', 'NLGPO', 'NLG Insurance Company Ltd. Promoter Share', '0', '0.00', '0.00'), ('Promotor Share', 'SODBLP', 'Society Development Bank Limited Promoter Share', '0', '0.00', '0.00'), ('Promotor Share', 'DBBLPO', 'Dev BikasBank Ltd. Promoter Share', '0', '0.00', '0.00'), ('Promotor Share', 'ILFCPO', 'International Leasing & Finance Co. Ltd. Promoter Share', '0', '0.00', '0.00'), ('Promotor Share', 'NICLPO', 'Nepal Insurance Co. Ltd Promoter Share', '0', '0.00', '0.00'), ('Promotor Share', 'TDBLPO', 'Tourism Development Bank Limited Prmoter Share', '0', '0.00', '0.00'), ('Promotor Share', 'LICNPO', 'Life Insurance Co. Nepal Promoter Share', '0', '0.00', '0.00'), ('Promotor Share', 'CBBLPO', 'Chhimek Laghubitta Bittiya Sanstha Limited Promoter Share', '0', '0.00', '0.00'), ('Promotor Share', 'NCDBPO', 'Nepal Community Development Bank Ltd. Promoter Share', '0', '0.00', '0.00'), ('Promotor Share', 'EICPO', 'Everest Insurance Company Limited Promoter Share', '0', '0.00', '0.00'), ('Promotor Share', 'HGIPO', 'Himalayan General Insurance Compny Limited Promoter Share', '0', '0.00', '0.00'), ('Promotor Share', 'LGILPO', 'Lumbini General Insurance Co. Ltd. Promoter Share', '0', '0.00', '0.00'), ('Promotor Share', 'PLICPO', 'Prime Life Insurance Company Limited Promoter Share', '0', '0.00', '0.00'), ('Promotor Share', 'MLBBLP', 'Mithila Laghubitta Bikas Bank Limited Promoter Share', '0', '0.00', '0.00'), ('Promotor Share', 'SADBLP', 'Shangrila Development Bank Ltd. Promoter Share', '0', '0.00', '0.00'), ('Promotor Share', 'INDBLP', 'International Development Bank Ltd Promoter Share', '0', '0.00', '0.00'), ('Promotor Share', 'KADBLP', 'Kanchan Development Bank Limited Promoter Share', '0', '0.00', '0.00'), ('Promotor Share', 'MMFDBP', 'Mirmire Laghubitta Bittiya Sanstha Ltd. Promoter Share', '0', '0.00', '0.00'), ('Promotor Share', 'PICPO', 'Premier Insurance Co. Ltd. Promoter Share', '0', '0.00', '0.00'), ('Promotor Share', 'PURBLP', 'Purnima Bikas Bank Limited Promoter Share', '0', '0.00', '0.00'), ('Promotor Share', 'SAFLPO', 'Sagarmatha Finance Limited Promoter Share', '0', '0.00', '0.00'), ('Promotor Share', 'VLBSPO', 'Vijaya laghubitta Bittiya Sanstha Ltd. Promoter Share', '0', '0.00', '0.00'), ('Promotor Share', 'JSLBBP', 'Janautthan Samudayic Laghubitta Bittiya Sanstha Limited Promoter Share', '0', '0.00', '0.00'), ('Promotor Share', 'KCDBLP', 'Kalinchowk Development Bank Ltd. Promoter Share', '0', '0.00', '0.00'), ('Promotor Share', 'RBBBLP', 'Rapti Bheri Bikas Bank Ltd. Promoter Share', '0', '0.00', '0.00'), ('Promotor Share', 'SLBBLP', 'Swarojgar Laghu Bitta Bikas Bank Ltd. Promoter Share', '0', '0.00', '0.00'), ('Promotor Share', 'WOMIPO', 'Womi Microfinance Bittiya Sanstha Limited Promoter Share', '0', '0.00', '0.00'), ('Promotor Share', 'FBBLPO', 'Fewa Bikas Bank Ltd. Promoter Share', '0', '0.00', '0.00'), ('Promotor Share', 'FMDBLP', 'First Micro Finance Laghubitta Bittiya Sanstha Ltd. Promoter Share', '0', '0.00', '0.00'), ('Promotor Share', 'MMDBLP', 'Mount Makalu Development Bank Ltd. Promoter Share', '0', '0.00', '0.00'), ('Promotor Share', 'BFCLPO', 'Bhaktapur Finance Co. Ltd. Promoter Share', '0', '0.00', '0.00'), ('Promotor Share', 'GMFILP', 'Guheyshwori Merchant & Finance Ltd. Promoter Share', '0', '0.00', '0.00'), ('Promotor Share', 'KEBLPO', 'Kabeli BIkas Bank Ltd. Promoter Share', '0', '0.00', '0.00'), ('Promotor Share', 'KKBLPO', 'Kankre Bihar Bikash Bank Limited Promoter Share', '0', '0.00', '0.00'), ('Promotor Share', 'UICPO', 'United Insurance Co. (Nepal) Ltd. Promoter Share', '0', '0.00', '0.00'), ('Promotor Share', 'MFILPO', 'Manjushree Finance Limited Promoter Share', '0', '0.00', '0.00'), ('Promotor Share', 'GUFLPO', 'Gurkhas Finance Limited Promoter Share', '0', '0.00', '0.00'), ('Promotor Share', 'KRBLPO', 'Karnali Development Bank Limited Promoter Share', '0', '0.00', '0.00'), ('Promotor Share', 'BOKLPO', 'Bank of Kathmandu Limited Promoter Share', '0', '0.00', '0.00'), ('Promotor Share', 'ODBLPO', 'Om Development Bank Ltd. Promoter', '0', '0.00', '0.00'), ('Promotor Share', 'KSBBLP', 'Kamana Sewa Bikas Bank Limited Promoter Share', '0', '0.00', '0.00'), ('Promotor Share', 'MLBLPO', 'Mahalxmi Bikas Bank Ltd. Promotor Share', '0', '0.00', '0.00'), ('Promotor Share', 'MPFLPO', 'Multipurpose Finance Company  Limited Promoter Share', '0', '0.00', '0.00'), ('Promotor Share', 'LBBLPO', 'Lumbini Bikas Bank Ltd. Promoter Share', '0', '0.00', '0.00'), ('Promotor Share', 'CEFLPO', 'City Express Finance Co. Ltd. Promoter Share', '0', '0.00', '0.00'), ('Promotor Share', 'IGIPO', 'IME General Insurance  Ltd. Promoter Share', '0', '0.00', '0.00'), ('Promotor Share', 'NADEPP', 'Nadep Laghubitta Bittiya Sanstha Ltd. Promoter Share', '0', '0.00', '0.00'), ('Promotor Share', 'HATHPO', 'Hathway Finance Company Limited Promoter Share', '0', '0.00', '0.00'), ('Promotor Share', 'TMDBLP', 'Tinau Mission Development Bank Limited Promoter', '0', '0.00', '0.00'), ('Promotor Share', 'NMBMFP', 'NMB  Microfinance Bittiya Sanstha Ltd. Promoter Share', '0', '0.00', '0.00'), ('Promotor Share', 'SFCLP', 'Samriddhi Finance Company Limited Promoter Share', '0', '0.00', '0.00'), ('Promotor Share', 'GRDBLP', 'Green Development Bank Ltd. Promoter Share', '0', '0.00', '0.00'), ('Promotor Share', 'GBLBSP', 'Grameen Bikas Lagubitta Bittiya Sanstha Limited (Promoter Share)', '0', '0.00', '0.00'), ('Promotor Share', 'SDESIP', 'Swadeshi Laghubitta Bittiya Sanstha Ltd Promoter Share', '0', '0.00', '0.00'), ('Promotor Share', 'AKBSLP', 'ADHIKHOLA LAGHUBITTA BITTIYA SANSTHA LIMITED PROMOTER SHARE', '0', '100.00', '0.00'), ('Promotor Share', 'SAPDBLP', 'Saptakoshi Development Bank Ltd Promoter Share', '0', '0.00', '0.00'), ('Promotor Share', 'RSDCP', 'RSDC Laghubitta Bittiya Sanstha Ltd. Promoter Share', '0', '0.00', '0.00'), ('Promotor Share', 'NMFBSP', 'National Microfinance Laghubitta Bittiya Sanstha Ltd. Promoter', '0', '0.00', '0.00'), ('Promotor Share', 'FOWADP', 'Forward Community Microfinance Bittiya Sanstha Ltd Promoter Share', '0', '100.00', '0.00'), ('Promotor Share', 'MSLBP', 'Mahuli Laghubitta Bittiya Sanstha Ltd Promoter', '0', '100.00', '0.00'), ('Promotor Share', 'HLBSLP', 'Himalayan Laghubitta Bittiya Sanstha Promoter', '0', '0.00', '0.00'), ('Promotor Share', 'MEROPO', 'Meromicrofinance Laghubitta Bittiya Sanstha Limited Promoter Share', '0', '0.00', '0.00'), ('Promotor Share', 'SNLBPO', 'Sarathi Nepal Laghubitta Bittiya Sanstha Limited Promoter Share', '0', '0.00', '0.00'), ('Promotor Share', 'KLBSLP', 'Kisan Lagubitta Bittiya Sanstha Limited Promoter Share', '0', '0.00', '0.00'), ('Promotor Share', 'HIDCLP', 'Hydroelectricity Investment and Development Company Limited Promoter Share', '0', '0.00', '0.00'), ('Promotor Share', 'SMBPO', 'Support Laghubitta Bittiya Sanstha Limited Promoter Share', '0', '0.00', '0.00'), ('Promotor Share', 'NICLBSLP', 'NIC ASIA Laghubitta Bittiya Sanstha Limited Promoter Share', '0', '0.00', '0.00'), ('Promotor Share', 'NABBCP', 'Narayani Development Bank Limited Promoter', '0', '0.00', '0.00'), ('Promotor Share', 'JBLBP', 'Jeevan Bikas Laghubitta Bittiya Sanstha Limited Promoter Share', '0', '0.00', '0.00'), ('Promotor Share', 'NSLBP', 'Naya Sarathi Laghubitta Bittiya Sanstha Limited Promoter Share', '0', '0.00', '0.00'), ('Promotor Share', 'CORBLPO', 'Corporate Development Bank Limited Promoter Share', '0', '0.00', '0.00'), ('Promotor Share', 'ACLBSLP', 'Aarambha Chautari Laghubitta Bittiya Sanstha Limited Promoter Share', '0', '0.00', '0.00'), ('Promotor Share', 'ALBSLP', 'Asha Laghubitta Bittiya Sanstha Ltd Promoter Share', '0', '0.00', '0.00'), ('Promotor Share', 'SMFBSP', 'Swabhimaan Laghubitta Bittiya sanstha Limited', '0', '0.00', '0.00'), ('Promotor Share', 'ILBSP', 'Infinity Laghubitta Bittiya Sanstha Limited Promoter Share', '0', '0.00', '0.00'), ('Promotor Share', 'SMATAP', 'Samata Gharelu Laghubitta Bittiya Sanstha Limited Promoter Share', '0', '0.00', '0.00'), ('Promotor Share', 'GILBPO', 'Global IME Laghubitta Bittiya Sanstha Ltd. Promoter Share', '0', '0.00', '0.00'), ('Promotor Share', 'SABSLPO', 'SABAIKO LAGHUBITTA BITTIYA SANSTHA LIMITED PROMOTER SHARE', '0', '0.00', '0.00'), ('Promotor Share', 'SWMFPO', 'Suryodaya Womi Laghubitta Bittiya Sanstha Limited Promoter', '0', '0.00', '0.00'), ('Promotor Share', 'USLBP', 'Unnati Sahakarya Laghubitta Bittiya Sanstha Limited Promoter Share', '0', '0.00', '0.00'), ('Promotor Share', 'HEIP', 'Himalayan Everest Insurance Limited Promoter', '0', '210.00', '0.00'), ('Promotor Share', 'AVYANP', 'Aviyan Laghubitta Bittiya Sanstha Limited Promotor Share', '0', '0.00', '0.00'), ('Promotor Share', 'NIMBPO', 'Nepal Investment Mega Bank Ltd. Promoter Share ', '183,075,408', '100.00', '18,307,540,800.00'), ('Promotor Share', 'SPILPO', 'Siddhartha Premier Insurance Limited Promoter Share', '5,480,256', '0.00', '287,502,300.00'), ('Promotor Share', 'BPWP', 'BPW Laghubitta Bittiya Sanstha Limited Promoter Share', '0', '0.00', '0.00'), ('Promotor Share', 'ANLBP', 'Aatmanirbhar Laghubitta Bittiya Sanstha Limited Promoter Share', '0', '0.00', '0.00'), ('Promotor Share', 'WNLBP', 'Wean Nepal Laghubitta Bittiya Sanstha Limited Promoter Share', '600,000', '100.00', '60,000,000.00'), ('Promotor Share', 'HLIPO', 'Himalayan Life Insurance Limited Promoter Share', '4,881,600', '100.00', '488,160,000.00'), ('Promotor Share', 'SDLBSLP', 'Sadhana Laghubitta Bittiya Sanstha Limited Promoter Share', '0', '0.00', '0.00'), ('Promotor Share', 'KPCLPO', ' Kalika Power Company Limited Promoter Share', '0', '0.00', '0.00'), ('Promotor Share', 'SALICOPO', 'Sagarmatha Lumbini Insurance Co. Limited Promoter Share ', '100,000', '100.00', '10,000,000.00'), ('Promotor Share', 'LSLPO', 'Laxmi Sunrise Bank Limited Promoter Share', '4,717,008', '0.00', '100.00'), ('Tradings', 'BBC', 'Bishal Bazar Company Limited', '491,400', '100.00', '49,140,000.00'), ('Tradings', 'STC', 'Salt Trading Corporation', '2,535,312', '100.00', '253,531,200.00'), ('Tradings', 'SEBON', 'Securities Board of Nepal', '0', '0.00', '0.00')]\n"
     ]
    }
   ],
   "source": [
    "url=\"https://merolagani.com/CompanyList.aspx\"\n",
    "company_data=f_crawl_company_data(url)\n",
    "print(company_data)"
   ]
  },
  {
   "cell_type": "code",
   "execution_count": 0,
   "metadata": {
    "application/vnd.databricks.v1+cell": {
     "cellMetadata": {
      "byteLimit": 2048000,
      "rowLimit": 10000
     },
     "inputWidgets": {},
     "nuid": "be3fe4d1-f556-45fb-a9d0-f45a882c81e9",
     "showTitle": false,
     "title": ""
    }
   },
   "outputs": [],
   "source": [
    "from pyspark.sql.types import StringType, StructType, IntegerType, StructField, FloatType,  LongType, DoubleType\n",
    "from pyspark.sql.functions import col, lit, cast, regexp_replace\n",
    "\n",
    "schema= StructType([\n",
    "    StructField('company_category', StringType()),\n",
    "    StructField('company_code', StringType()),\n",
    "    StructField('company_name', StringType()),\n",
    "    StructField('listed_shares', StringType()),\n",
    "    StructField('paidup_value', StringType()),\n",
    "    StructField('total_paidup', StringType())\n",
    "\n",
    "])\n"
   ]
  },
  {
   "cell_type": "code",
   "execution_count": 0,
   "metadata": {
    "application/vnd.databricks.v1+cell": {
     "cellMetadata": {
      "byteLimit": 2048000,
      "rowLimit": 10000
     },
     "inputWidgets": {},
     "nuid": "b95c4eed-dea5-4884-a705-6f5a97f22080",
     "showTitle": false,
     "title": ""
    }
   },
   "outputs": [],
   "source": [
    "df=spark.createDataFrame(data=company_data, schema=schema)"
   ]
  },
  {
   "cell_type": "code",
   "execution_count": 0,
   "metadata": {
    "application/vnd.databricks.v1+cell": {
     "cellMetadata": {
      "byteLimit": 2048000,
      "rowLimit": 10000
     },
     "inputWidgets": {},
     "nuid": "30b728e0-b05b-4dd0-8ae7-0f5e2a442d38",
     "showTitle": false,
     "title": ""
    }
   },
   "outputs": [
    {
     "output_type": "display_data",
     "data": {
      "text/html": [
       "<style scoped>\n",
       "  .table-result-container {\n",
       "    max-height: 300px;\n",
       "    overflow: auto;\n",
       "  }\n",
       "  table, th, td {\n",
       "    border: 1px solid black;\n",
       "    border-collapse: collapse;\n",
       "  }\n",
       "  th, td {\n",
       "    padding: 5px;\n",
       "  }\n",
       "  th {\n",
       "    text-align: left;\n",
       "  }\n",
       "</style><div class='table-result-container'><table class='table-result'><thead style='background-color: white'><tr><th>company_category</th><th>company_code</th><th>company_name</th><th>listed_shares</th><th>paidup_value</th><th>total_paidup</th></tr></thead><tbody><tr><td>Capital</td><td>GlobalIMECapital</td><td>Global IME Capital Limited</td><td>0</td><td>0.00</td><td>0.00</td></tr><tr><td>Capital</td><td>ACL</td><td>Aakash Capital Limited</td><td>0</td><td>0.00</td><td>0.00</td></tr><tr><td>Capital</td><td>BOKCML</td><td>BOK Capital Market Limited</td><td>0</td><td>0.00</td><td>0.00</td></tr><tr><td>Capital</td><td>NIMBACL</td><td>NIMB Ace Capital Limited</td><td>0</td><td>0.00</td><td>0.00</td></tr><tr><td>Commercial Banks</td><td>ADBL</td><td>Agriculture Development Bank Limited</td><td>134,516,741</td><td>100.00</td><td>13,187,915,800.00</td></tr><tr><td>Commercial Banks</td><td>CZBIL</td><td>Citizen Bank International Limited</td><td>142,009,741</td><td>100.00</td><td>14,200,974,100.00</td></tr><tr><td>Commercial Banks</td><td>EBL</td><td>Everest Bank Limited</td><td>106,980,945</td><td>100.00</td><td>10,698,094,500.00</td></tr><tr><td>Commercial Banks</td><td>GBIME</td><td>Global IME Bank Limited</td><td>357,710,597</td><td>100.00</td><td>35,771,059,700.00</td></tr><tr><td>Commercial Banks</td><td>HBL</td><td>Himalayan Bank Limited</td><td>216,566,158</td><td>100.00</td><td>14,006,223,872.00</td></tr><tr><td>Commercial Banks</td><td>KBL</td><td>Kumari Bank Limited</td><td>262,258,613</td><td>100.00</td><td>26,225,861,300.00</td></tr><tr><td>Commercial Banks</td><td>LBL</td><td>Laxmi Bank Limited</td><td>115,513,451</td><td>100.00</td><td>11,551,345,100.00</td></tr><tr><td>Commercial Banks</td><td>MBL</td><td>Machhapuchchhre Bank Limited</td><td>102,571,556</td><td>100.00</td><td>10,257,155,600.00</td></tr><tr><td>Commercial Banks</td><td>NABIL</td><td>Nabil Bank Limited</td><td>270,569,984</td><td>100.00</td><td>27,056,996,352.00</td></tr><tr><td>Commercial Banks</td><td>NBL</td><td>Nepal Bank Limited</td><td>146,940,224</td><td>100.00</td><td>4,000,000,000.00</td></tr><tr><td>Commercial Banks</td><td>NICA</td><td>NIC Asia Bank Ltd.</td><td>115,640,056</td><td>100.00</td><td>11,564,005,600.00</td></tr><tr><td>Commercial Banks</td><td>NMB</td><td>NMB Bank Limited</td><td>183,667,060</td><td>100.00</td><td>18,366,706,000.00</td></tr><tr><td>Commercial Banks</td><td>PCBL</td><td>Prime Commercial Bank Ltd.</td><td>194,025,760</td><td>100.00</td><td>19,402,575,872.00</td></tr><tr><td>Commercial Banks</td><td>SANIMA</td><td>Sanima Bank Limited</td><td>124,601,152</td><td>100.00</td><td>12,460,114,944.00</td></tr><tr><td>Commercial Banks</td><td>SBI</td><td>Nepal SBI Bank Limited</td><td>101,206,288</td><td>100.00</td><td>10,120,629,248.00</td></tr><tr><td>Commercial Banks</td><td>SBL</td><td>Siddhartha Bank Limited</td><td>140,899,808</td><td>100.00</td><td>14,089,979,904.00</td></tr><tr><td>Commercial Banks</td><td>SCB</td><td>Standard Chartered Bank Limited</td><td>94,294,539</td><td>100.00</td><td>9,429,453,900.00</td></tr><tr><td>Commercial Banks</td><td>SRBL</td><td>Sunrise Bank Limited</td><td>101,188,929</td><td>100.00</td><td>10,118,892,900.00</td></tr><tr><td>Commercial Banks</td><td>PRVU</td><td>Prabhu Bank Limited</td><td>135,347,696</td><td>100.00</td><td>13,534,770,176.00</td></tr><tr><td>Commercial Banks</td><td>RBB</td><td>Rastriya Banijya Bank Limited</td><td>0</td><td>0.00</td><td>0.00</td></tr><tr><td>Commercial Banks</td><td>NIMB</td><td>Nepal Investment Mega Bank Limited </td><td>341,285,949</td><td>100.00</td><td>34,128,594,900.00</td></tr><tr><td>Commercial Banks</td><td>LSL</td><td>Laxmi Sunrise Bank Limited</td><td>216,702,379</td><td>100.00</td><td>21,670,237,900.00</td></tr><tr><td>Corporate Debenture</td><td>EBLB2079</td><td>Everest Bank Limited--2079</td><td>468,850</td><td>100.00</td><td>46,885,000.00</td></tr><tr><td>Corporate Debenture</td><td>GBIMEB2076</td><td>Global IME Bank -2076</td><td>400,000</td><td>100.00</td><td>40,000,000.00</td></tr><tr><td>Corporate Debenture</td><td>SBIB2079</td><td>Nepal SBI Bank - 2079</td><td>400,000</td><td>100.00</td><td>40,000,000.00</td></tr><tr><td>Corporate Debenture</td><td>SBLB2076</td><td>Siddhartha Bank Ltd. Bond -2076</td><td>303,520</td><td>100.00</td><td>30,352,000.00</td></tr><tr><td>Corporate Debenture</td><td>SAND2085</td><td>10% Sanima Bank Limited Debenture</td><td>2,000,000</td><td>1,000.00</td><td>2,000,000,000.00</td></tr><tr><td>Corporate Debenture</td><td>NICAD 85/86</td><td>NIC Asia Debenture 2085/86</td><td>2,404,688</td><td>1,000.00</td><td>2,404,688,000.00</td></tr><tr><td>Corporate Debenture</td><td>NICAD8283</td><td>11% NIC Asia Debenture 082/83</td><td>0</td><td>0.00</td><td>0.00</td></tr><tr><td>Corporate Debenture</td><td>SBLD2082</td><td>10.50% SBL Debenture 2082</td><td>0</td><td>0.00</td><td>0.00</td></tr><tr><td>Corporate Debenture</td><td>NMBD2085</td><td>10% NMB DEBENTURE 2085</td><td>0</td><td>0.00</td><td>0.00</td></tr><tr><td>Corporate Debenture</td><td>SRD80</td><td>10% Sunrise Debenture 2080</td><td>1,000,000</td><td>1,000.00</td><td>1,000,000,000.00</td></tr><tr><td>Corporate Debenture</td><td>NICD83/84</td><td>10.25% NIC Asia Debenture 2083/84</td><td>0</td><td>0.00</td><td>0.00</td></tr><tr><td>Corporate Debenture</td><td>PBLD86</td><td>10.25% Prabhu Bank Debenture 2086</td><td>0</td><td>0.00</td><td>0.00</td></tr><tr><td>Corporate Debenture</td><td>SBLD83</td><td>10.25% SBL Debenture 2083</td><td>2,401,482</td><td>1,000.00</td><td>2,401,482,000.00</td></tr><tr><td>Corporate Debenture</td><td>SRBLD83</td><td>10.25% Sunrise Bank Debenture 2083</td><td>0</td><td>0.00</td><td>0.00</td></tr><tr><td>Corporate Debenture</td><td>BOKD2079</td><td>8% BOK Debenture 2079</td><td>0</td><td>0.00</td><td>0.00</td></tr><tr><td>Corporate Debenture</td><td>NIBD2082</td><td>10.5% Nepal Investment Debenture 2082</td><td>0</td><td>0.00</td><td>0.00</td></tr><tr><td>Corporate Debenture</td><td>KBLD86</td><td>10.25% Kumari Bank Debenture 2086</td><td>3,000,000</td><td>1,000.00</td><td>3,000,000,000.00</td></tr><tr><td>Corporate Debenture</td><td>SBIBD86</td><td>10% Nepal SBI Bank Debenture 2086</td><td>0</td><td>0.00</td><td>0.00</td></tr><tr><td>Corporate Debenture</td><td>GBD80/81</td><td>10.25% Global IME Bank Limited Debenture 2080/81</td><td>103,105,160</td><td>1,000.00</td><td>103,105,160,000.00</td></tr><tr><td>Corporate Debenture</td><td>PBLD84</td><td>10% Prabhu Bank Debenture 2084 </td><td>0</td><td>0.00</td><td>0.00</td></tr><tr><td>Corporate Debenture</td><td>BOKD2086</td><td>8.5% Bank of Kathmadu Limited 2086</td><td>0</td><td>0.00</td><td>0.00</td></tr><tr><td>Corporate Debenture</td><td>HBLD83</td><td>10% Himalayan Bank Debenture 2083</td><td>0</td><td>0.00</td><td>0.00</td></tr><tr><td>Corporate Debenture</td><td>BOKD86</td><td>8.5% BOK Debenture 2086</td><td>1,600,000</td><td>1,000.00</td><td>1,600,000,000.00</td></tr><tr><td>Corporate Debenture</td><td>NICAD8182</td><td>9% NIC Asia Debenture 2081/82</td><td>0</td><td>0.00</td><td>0.00</td></tr><tr><td>Corporate Debenture</td><td>NIBD2084</td><td>8.5% Nepal Investment Bank Bond </td><td>0</td><td>0.00</td><td>0.00</td></tr><tr><td>Corporate Debenture</td><td>ICFCD83</td><td>12% ICFC Finance Limited Debenture 2083</td><td>200,000</td><td>1,000.00</td><td>200,000,000.00</td></tr><tr><td>Corporate Debenture</td><td>GWFD83</td><td>12% Goodwill finance Debenture 2083</td><td>0</td><td>0.00</td><td>0.00</td></tr><tr><td>Corporate Debenture</td><td>PBD85</td><td>8.75% Prime Commercial Bank Debenture 2085</td><td>2,447,963</td><td>1,000.00</td><td>2,447,963,000.00</td></tr><tr><td>Corporate Debenture</td><td>GBILD86/87</td><td>8.5% Global IME Bank Limited Debenture 2086/87</td><td>3,000,000</td><td>1,000.00</td><td>3,000,000,000.00</td></tr><tr><td>Corporate Debenture</td><td>NBBD2085</td><td>10.25% NBB Debenture 2085</td><td>0</td><td>0.00</td><td>0.00</td></tr><tr><td>Corporate Debenture</td><td>MFLD85</td><td>9.5% Manjushree Finance Limited Debenture 2085</td><td>500,000</td><td>1,000.00</td><td>500,000,000.00</td></tr><tr><td>Corporate Debenture</td><td>NBR2087</td><td>8.5% Nepal Bank Rinpatra 2087</td><td>3,500,000</td><td>1,000.00</td><td>3,500,000,000.00</td></tr><tr><td>Corporate Debenture</td><td>MBLD2085</td><td>10.25% Machhapuchhre Bank Debenture 2085</td><td>0</td><td>0.00</td><td>0.00</td></tr><tr><td>Corporate Debenture</td><td>LBLD86</td><td>10% Laxmi Bank Debenture 2086</td><td>0</td><td>0.00</td><td>0.00</td></tr><tr><td>Corporate Debenture</td><td>ADBLD83</td><td>10.35% Agricultural Bank Debenture 2083</td><td>0</td><td>0.00</td><td>0.00</td></tr><tr><td>Corporate Debenture</td><td>NMBD87/88</td><td>8.50% NMB Rinpatra 2087/88</td><td>2,000,000</td><td>1,000.00</td><td>2,000,000,000.00</td></tr><tr><td>Corporate Debenture</td><td>PBLD87</td><td>8.5% Prabhu Bank Debenture 2087</td><td>2,650,000</td><td>1,000.00</td><td>2,650,000,000.00</td></tr><tr><td>Corporate Debenture</td><td>NMBEB92/93</td><td>4% NMB Urja Rinpatra (Energy Bond) 2092/93</td><td>1,500,000</td><td>1,000.00</td><td>1,500,000,000.00</td></tr><tr><td>Corporate Debenture</td><td>NBLD82</td><td>10% Nabil Debenture 2082</td><td>0</td><td>0.00</td><td>0.00</td></tr><tr><td>Corporate Debenture</td><td>RBBD83</td><td>8.5% RBBL Debenture 2083</td><td>0</td><td>0.00</td><td>0.00</td></tr><tr><td>Corporate Debenture</td><td>SBD87</td><td>8.5% Sanima Debenture 2087</td><td>0</td><td>0.00</td><td>0.00</td></tr><tr><td>Corporate Debenture</td><td>SBLD84</td><td>8.5% SBL Debenture 2084</td><td>0</td><td>0.00</td><td>0.00</td></tr><tr><td>Corporate Debenture</td><td>SDBD87</td><td>9% Shangri-la Development Bank Debenture 2087</td><td>750,000</td><td>1,000.00</td><td>750,000,000.00</td></tr><tr><td>Corporate Debenture</td><td>NICD88</td><td>8.5% NIC Asia Rinpatra 2088</td><td>1,573,872</td><td>1,000.00</td><td>1,573,872,000.00</td></tr><tr><td>Corporate Debenture</td><td>JBBD87</td><td>9% Jyoti Bikas Bank Bond</td><td>1,500,000</td><td>1,000.00</td><td>1,500,000,000.00</td></tr><tr><td>Corporate Debenture</td><td>LBLD88</td><td>8.5% Laxmi Bank Debenture 2088</td><td>2,000,000</td><td>1,000.00</td><td>2,000,000,000.00</td></tr><tr><td>Corporate Debenture</td><td>MBLD87</td><td>8.50% Machhapuchchhre Debenture 2087\t</td><td>3,000,000</td><td>1,000.00</td><td>3,000,000,000.00</td></tr><tr><td>Corporate Debenture</td><td>MND84/85</td><td>8.75% Muktinath Debenture/Rinpatra 2084/85</td><td>1,250,000</td><td>1,000.00</td><td>1,250,000,000.00</td></tr><tr><td>Corporate Debenture</td><td>NBLD85</td><td>8% Nabil Debenture 2085</td><td>3,000,000</td><td>1,000.00</td><td>3,000,000,000.00</td></tr><tr><td>Corporate Debenture</td><td>NCCD86</td><td>9.5% NCC Debenture 2086</td><td>0</td><td>0.00</td><td>0.00</td></tr><tr><td>Corporate Debenture</td><td>GBBD85</td><td>Garima Debenture, 2085</td><td>1,000,000</td><td>1,000.00</td><td>1,000,000,000.00</td></tr><tr><td>Corporate Debenture</td><td>NIBD84</td><td>8.5% Nepal Investment Bank Debenture 2084</td><td>4,000,000</td><td>1,000.00</td><td>4,000,000,000.00</td></tr><tr><td>Corporate Debenture</td><td>CBLD88</td><td>Civil Bank Debenture 2088</td><td>3,000,000</td><td>1,000.00</td><td>3,000,000,000.00</td></tr><tr><td>Corporate Debenture</td><td>EBLD86</td><td>8.5% of Everest Bank Limited Debenture 2086</td><td>2,000,000</td><td>1,000.00</td><td>2,000,000,000.00</td></tr><tr><td>Corporate Debenture</td><td>PBD88</td><td>10% Prime Debenture 2088</td><td>1,741,884</td><td>1,000.00</td><td>1,741,884,000.00</td></tr><tr><td>Corporate Debenture</td><td>NBLD87</td><td>8.5% Nepal Bank Debenture 2087</td><td>3,500,000</td><td>1,000.00</td><td>3,500,000,000.00</td></tr><tr><td>Corporate Debenture</td><td>NMBUR93/94</td><td>4% NMB Urja Rinpatra (Energy Bond II) 4%-2093/94</td><td>2,727,437</td><td>1,000.00</td><td>2,727,437,000.00</td></tr><tr><td>Corporate Debenture</td><td>CCBD88</td><td>Century Debenture 2088</td><td>2,200,000</td><td>1,000.00</td><td>2,200,000,000.00</td></tr><tr><td>Corporate Debenture</td><td>PBD84</td><td>10.15% Prime Debenture 2084\t</td><td>5,000,000</td><td>1,000.00</td><td>5,000,000,000.00</td></tr><tr><td>Corporate Debenture</td><td>SBLD89</td><td>10.75% SBL Debenture 2089</td><td>4,000,000</td><td>1,000.00</td><td>4,000,000,000.00</td></tr><tr><td>Corporate Debenture</td><td>SBD89</td><td>10.25% Sanima Debenture 2089</td><td>5,000,000</td><td>1,000.00</td><td>5,000,000,000.00</td></tr><tr><td>Corporate Debenture</td><td>EBLD85</td><td>Everest Bank Limited Rinpatra 2085</td><td>2,000,000</td><td>1,000.00</td><td>2,000,000,000.00</td></tr><tr><td>Corporate Debenture</td><td>BOKD86KA</td><td>BOK Debenture 2086 (Ka)</td><td>1,100,000</td><td>1,000.00</td><td>1,100,000,000.00</td></tr><tr><td>Corporate Debenture</td><td>HBLD86</td><td>Himalayan Bank Limited Bond 2086</td><td>2,500,000</td><td>1,000.00</td><td>2,500,000,000.00</td></tr><tr><td>Corporate Debenture</td><td>KBLD89</td><td>11% KBL Debenture 2089</td><td>3,000,000</td><td>1,000.00</td><td>3,000,000,000.00</td></tr><tr><td>Corporate Debenture</td><td>SBID83</td><td>10.25% Nepal SBI Bank Debenture 2083</td><td>0</td><td>0.00</td><td>0.00</td></tr><tr><td>Corporate Debenture</td><td>NIFRAUR85/86</td><td>Nifra Urja 7% -2085/86</td><td>5,000,000</td><td>1,000.00</td><td>5,000,000,000.00</td></tr><tr><td>Corporate Debenture</td><td>SCBD</td><td>10.30% Standard Chartered Bank Nepal Limited Rinpatra</td><td>2,400,000</td><td>1,000.00</td><td>2,400,000,000.00</td></tr><tr><td>Corporate Debenture</td><td>GBILD84/85</td><td>Global IME Bank Debenture 2084/85</td><td>5,000,000</td><td>1,000.00</td><td>5,000,000,000.00</td></tr><tr><td>Corporate Debenture</td><td>NMBD89/90</td><td>NMB Debenture 10.75%-2089/2090</td><td>4,000,000</td><td>1,000.00</td><td>4,000,000,000.00</td></tr><tr><td>Corporate Debenture</td><td>MLBLD89</td><td>11% Mahalaxmi Debenture-2089</td><td>1,000,000</td><td>1,000.00</td><td>1,000,000,000.00</td></tr><tr><td>Corporate Debenture</td><td>EBLE89</td><td>Everest Bank Limited Urja Rinpatra 2089</td><td>746,830</td><td>1,000.00</td><td>746,830,000.00</td></tr><tr><td>Corporate Debenture</td><td>LBBLD89</td><td>11% L.B.B.L Debenture 2089</td><td>1,000,000</td><td>1,000.00</td><td>1,000,000,000.00</td></tr><tr><td>Corporate Debenture</td><td>CIZBD86</td><td>10.25% Citizens Bank Debenture 2086</td><td>2,500,000</td><td>1,000.00</td><td>2,500,000,000.00</td></tr><tr><td>Development Bank Limited</td><td>CORBL</td><td>Corporate Development Bank Limited</td><td>5,250,000</td><td>100.00</td><td>525,000,000.00</td></tr><tr><td>Development Bank Limited</td><td>EDBL</td><td>Excel Development Bank Ltd.</td><td>12,496,945</td><td>100.00</td><td>1,249,694,464.00</td></tr><tr><td>Development Bank Limited</td><td>GBBL</td><td>Garima Bikas Bank Limited</td><td>51,752,784</td><td>100.00</td><td>5,175,278,592.00</td></tr><tr><td>Development Bank Limited</td><td>JBBL</td><td>Jyoti Bikas Bank Limited</td><td>43,957,860</td><td>100.00</td><td>4,395,786,000.00</td></tr><tr><td>Development Bank Limited</td><td>KRBL</td><td>Karnali Development Bank Limited</td><td>5,300,100</td><td>100.00</td><td>530,010,000.00</td></tr><tr><td>Development Bank Limited</td><td>MDB</td><td>Miteri Development Bank Limited</td><td>10,150,015</td><td>100.00</td><td>1,015,001,472.00</td></tr><tr><td>Development Bank Limited</td><td>MNBBL</td><td>Muktinath Bikas Bank Ltd.</td><td>64,209,004</td><td>100.00</td><td>6,420,900,352.00</td></tr><tr><td>Development Bank Limited</td><td>NABBC</td><td>Narayani Development Bank Limited</td><td>2,624,676</td><td>100.00</td><td>262,467,600.00</td></tr><tr><td>Development Bank Limited</td><td>SADBL</td><td>Shangrila Development Bank Ltd.</td><td>30,106,697</td><td>100.00</td><td>3,010,669,700.00</td></tr><tr><td>Development Bank Limited</td><td>SHINE</td><td>Shine Resunga Development Bank Ltd.</td><td>42,838,832</td><td>100.00</td><td>4,283,883,264.00</td></tr><tr><td>Development Bank Limited</td><td>SINDU</td><td>Sindhu Bikash Bank Ltd</td><td>5,574,561</td><td>100.00</td><td>557,456,100.00</td></tr><tr><td>Development Bank Limited</td><td>GRDBL</td><td>Green Development Bank Ltd.</td><td>5,190,000</td><td>100.00</td><td>519,000,000.00</td></tr><tr><td>Development Bank Limited</td><td>MLBL</td><td>Mahalaxmi Bikas Bank Ltd.</td><td>41,713,184</td><td>100.00</td><td>4,171,318,528.00</td></tr><tr><td>Development Bank Limited</td><td>LBBL</td><td>Lumbini Bikas Bank Ltd.</td><td>33,828,216</td><td>100.00</td><td>3,382,821,376.00</td></tr><tr><td>Development Bank Limited</td><td>KSBBL</td><td>Kamana Sewa Bikas Bank Limited</td><td>31,425,771</td><td>100.00</td><td>3,142,577,100.00</td></tr><tr><td>Development Bank Limited</td><td>SAPDBL</td><td>Saptakoshi Development Bank Ltd</td><td>8,343,385</td><td>100.00</td><td>834,338,500.00</td></tr><tr><td>Finance</td><td>CFCL</td><td>Central Finance Co. Ltd.</td><td>9,488,756</td><td>100.00</td><td>948,875,584.00</td></tr><tr><td>Finance</td><td>GFCL</td><td>Goodwill Finance Co. Ltd.</td><td>9,461,152</td><td>100.00</td><td>946,115,200.00</td></tr><tr><td>Finance</td><td>GMFIL</td><td>Guheshowori Merchant Bank & Finance Co. Ltd.</td><td>10,121,760</td><td>100.00</td><td>1,012,176,000.00</td></tr><tr><td>Finance</td><td>ICFC</td><td>ICFC Finance Limited</td><td>11,834,710</td><td>100.00</td><td>1,183,470,976.00</td></tr><tr><td>Finance</td><td>JFL</td><td>Janaki Finance Ltd.</td><td>6,904,728</td><td>100.00</td><td>690,472,832.00</td></tr><tr><td>Finance</td><td>MFIL</td><td>Manjushree Finance Ltd.</td><td>13,515,529</td><td>100.00</td><td>1,351,552,896.00</td></tr><tr><td>Finance</td><td>MPFL</td><td>Multipurpose Finance Company Limited</td><td>4,520,000</td><td>100.00</td><td>452,000,000.00</td></tr><tr><td>Finance</td><td>NFS</td><td>Nepal Finance Ltd.</td><td>8,389,439</td><td>100.00</td><td>838,943,872.00</td></tr><tr><td>Finance</td><td>PFL</td><td>Pokhara Finance Ltd.</td><td>10,825,567</td><td>100.00</td><td>1,082,556,672.00</td></tr><tr><td>Finance</td><td>PROFL</td><td>Progressive Finance Limited</td><td>8,561,070</td><td>100.00</td><td>856,107,008.00</td></tr><tr><td>Finance</td><td>SIFC</td><td>Shree Investment Finance Co. Ltd.</td><td>9,816,832</td><td>100.00</td><td>981,683,200.00</td></tr><tr><td>Finance</td><td>RLFL</td><td>Reliance Finance Ltd.</td><td>10,530,064</td><td>100.00</td><td>1,053,006,400.00</td></tr><tr><td>Finance</td><td>GUFL</td><td>Gurkhas Finance Ltd.</td><td>8,679,937</td><td>100.00</td><td>867,993,700.00</td></tr><tr><td>Finance</td><td>BFC</td><td>Best Finance Company Ltd.</td><td>8,289,138</td><td>100.00</td><td>828,913,800.00</td></tr><tr><td>Finance</td><td>SFCL</td><td>Samriddhi Finance Company Limited</td><td>8,189,114</td><td>100.00</td><td>818,911,400.00</td></tr><tr><td>Government Bond</td><td>NRBBR2067</td><td>Bikash Rinpatra 2067</td><td>5,000,000</td><td>100.00</td><td>500,000,000.00</td></tr><tr><td>Government Bond</td><td>NRBBR2067ga</td><td>Bikash Rinpatra 2067 Ga</td><td>7,500,000</td><td>100.00</td><td>750,000,000.00</td></tr><tr><td>Government Bond</td><td>NRBBR2067ka</td><td>Bikash Rinpatra 2067 Ka</td><td>10,000,000</td><td>100.00</td><td>1,000,000,000.00</td></tr><tr><td>Government Bond</td><td>NRBBR2067kha</td><td>Bikash Rinpatra 2067 Kha</td><td>7,500,000</td><td>100.00</td><td>750,000,000.00</td></tr><tr><td>Government Bond</td><td>NRBBR2069</td><td>Bikash Rinpatra 2069</td><td>15,000,000</td><td>100.00</td><td>1,500,000,000.00</td></tr><tr><td>Government Bond</td><td>NRBBR2071ka</td><td>Bikash Rinpatra 2071 Ka</td><td>20,000,000</td><td>100.00</td><td>2,000,000,000.00</td></tr><tr><td>Government Bond</td><td>NRBBR2071Kha</td><td>Bikash Rinpatra 2071 Kha</td><td>30,000,000</td><td>100.00</td><td>3,000,000,000.00</td></tr><tr><td>Government Bond</td><td>NRBBR2072</td><td>Bikash Rinpatra 2072</td><td>7,500,000</td><td>100.00</td><td>750,000,000.00</td></tr><tr><td>Government Bond</td><td>NRBBR2072ka</td><td>Bikash Rinpatra 2072 Ka</td><td>15,000,000</td><td>100.00</td><td>1,500,000,000.00</td></tr><tr><td>Government Bond</td><td>NRBBR2073 KA</td><td>Bikash Rinpatra 2073 Ka</td><td>27,500,000</td><td>100.00</td><td>2,750,000,000.00</td></tr><tr><td>Government Bond</td><td>NRBBR2075</td><td>Bikash Rinpatra 2075</td><td>12,000,000</td><td>100.00</td><td>1,200,000,000.00</td></tr><tr><td>Government Bond</td><td>NRBBR2075ka</td><td>Bikash Rinpatra 2075 Ka</td><td>21,000,000</td><td>100.00</td><td>2,100,000,000.00</td></tr><tr><td>Government Bond</td><td>NRBBR2076</td><td>Bikash Rinpatra 2076</td><td>22,000,000</td><td>100.00</td><td>2,200,000,000.00</td></tr><tr><td>Government Bond</td><td>NRBBR2076Ga</td><td>Bikash Rinpatra 2076 Ga</td><td>4,600,000</td><td>100.00</td><td>460,000,000.00</td></tr><tr><td>Government Bond</td><td>NRBBR2076ka</td><td>Bikash Rinpatra 2076 Ka</td><td>9,000,000</td><td>100.00</td><td>900,000,000.00</td></tr><tr><td>Government Bond</td><td>NRBBR2076Kha</td><td>Bikash Rinpatra 2076 Kha</td><td>10,400,000</td><td>100.00</td><td>1,040,000,000.00</td></tr><tr><td>Government Bond</td><td>9%CSB2082</td><td>Nepal Rastra Bank Nagarik Bachatpatra 2082 Ka</td><td>0</td><td>0.00</td><td>0.00</td></tr><tr><td>Government Bond</td><td>NRBBR2085Gha</td><td>Bikash Rinpatra 2085 Gha</td><td>0</td><td>0.00</td><td>0.00</td></tr><tr><td>Government Bond</td><td>9%CSB2083</td><td>Nepal Rastra Bank Nagarik Bachatpatra 2083 (5 Years)</td><td>0</td><td>0.00</td><td>0.00</td></tr><tr><td>Government Bond</td><td>NRBBR2083Gha</td><td>Nepal Rastra Bank Bikash Rinpatra 2083 Gha</td><td>0</td><td>0.00</td><td>0.00</td></tr><tr><td>Hotels And Tourism</td><td>OHL</td><td>Oriental Hotels Limited</td><td>11,280,905</td><td>100.00</td><td>1,128,090,500.00</td></tr><tr><td>Hotels And Tourism</td><td>SHL</td><td>Soaltee Hotel Limited</td><td>88,471,506</td><td>10.00</td><td>8,847,150,600.00</td></tr><tr><td>Hotels And Tourism</td><td>TRH</td><td>Taragaon Regency Hotel Limited</td><td>18,866,540</td><td>100.00</td><td>1,886,654,000.00</td></tr><tr><td>Hotels And Tourism</td><td>CGH</td><td>Chandragiri Hills Limited</td><td>15,340,910</td><td>100.00</td><td>1,534,091,000.00</td></tr><tr><td>Hotels And Tourism</td><td>KDL</td><td>Kalinchowk Darshan Limited</td><td>6,000,000</td><td>100.00</td><td>600,000,000.00</td></tr><tr><td>Hotels And Tourism</td><td>CITY</td><td>City Hotel Limited</td><td>16,740,000</td><td>100.00</td><td>1,674,000,000.00</td></tr><tr><td>Hydro Power</td><td>AHPC</td><td>Arun Valley Hydropower Development Co. Ltd.</td><td>18,679,626</td><td>100.00</td><td>1,867,962,600.00</td></tr><tr><td>Hydro Power</td><td>BPCL</td><td>Butwal Power Company Limited</td><td>34,086,432</td><td>100.00</td><td>3,408,643,072.00</td></tr><tr><td>Hydro Power</td><td>CHCL</td><td>Chilime Hydropower Company Limited</td><td>72,581,792</td><td>100.00</td><td>7,258,179,584.00</td></tr><tr><td>Hydro Power</td><td>NHPC</td><td>National Hydro Power Company Limited</td><td>16,417,919</td><td>100.00</td><td>1,641,791,872.00</td></tr><tr><td>Hydro Power</td><td>SHPC</td><td>Sanima Mai Hydropower Ltd.</td><td>30,892,510</td><td>100.00</td><td>3,089,251,000.00</td></tr><tr><td>Hydro Power</td><td>RHPC</td><td>Ridi Hydropower Development Company Ltd.</td><td>3,300,000</td><td>100.00</td><td>330,000,000.00</td></tr><tr><td>Hydro Power</td><td>HURJA</td><td>Himalaya Urja Bikas Company Limited</td><td>9,900,000</td><td>100.00</td><td>990,000,000.00</td></tr><tr><td>Hydro Power</td><td>AKPL</td><td>Arun Kabeli Power Ltd.</td><td>20,407,316</td><td>100.00</td><td>2,040,731,600.00</td></tr><tr><td>Hydro Power</td><td>BARUN</td><td>Barun Hydropower Co. Ltd.</td><td>5,358,150</td><td>100.00</td><td>535,815,000.00</td></tr><tr><td>Hydro Power</td><td>API</td><td>Api Power Company Ltd.</td><td>41,332,842</td><td>100.00</td><td>4,133,284,200.00</td></tr><tr><td>Hydro Power</td><td>NGPL</td><td>Ngadi Group Power Ltd.</td><td>18,512,792</td><td>100.00</td><td>1,851,279,200.00</td></tr><tr><td>Hydro Power</td><td>MHL</td><td>Mandakini Hydropower Limited</td><td>5,880,369</td><td>100.00</td><td>588,036,900.00</td></tr><tr><td>Hydro Power</td><td>NYADI</td><td>Nyadi Hydropower Limited</td><td>15,000,000</td><td>100.00</td><td>1,500,000,000.00</td></tr><tr><td>Hydro Power</td><td>SJCL</td><td>SANJEN JALAVIDHYUT COMPANY LIMITED</td><td>32,850,000</td><td>100.00</td><td>3,285,000,000.00</td></tr><tr><td>Hydro Power</td><td>RHPL</td><td>RASUWAGADHI HYDROPOWER COMPANY LIMITED</td><td>61,578,900</td><td>100.00</td><td>6,157,890,000.00</td></tr><tr><td>Hydro Power</td><td>UMHL</td><td>United Modi Hydropower Ltd.</td><td>11,500,000</td><td>100.00</td><td>1,150,000,000.00</td></tr><tr><td>Hydro Power</td><td>DORDI</td><td>Dordi Khola Jal Bidyut Company Limited</td><td>10,542,604</td><td>100.00</td><td>1,054,260,400.00</td></tr><tr><td>Hydro Power</td><td>PHCL</td><td>Peoples Hydropower Company Limited</td><td>32,000,000</td><td>100.00</td><td>3,200,000,000.00</td></tr><tr><td>Hydro Power</td><td>PPL</td><td>People's Power Limited</td><td>6,326,000</td><td>100.00</td><td>632,600,000.00</td></tr><tr><td>Hydro Power</td><td>UPCL</td><td>UNIVERSAL POWER COMPANY LTD</td><td>21,003,500</td><td>100.00</td><td>2,100,350,000.00</td></tr><tr><td>Hydro Power</td><td>SPL</td><td>Shuvam Power Company Limited</td><td>2,000,000</td><td>100.00</td><td>200,000,000.00</td></tr><tr><td>Hydro Power</td><td>SPDL</td><td>Synergy Power Development Ltd.</td><td>8,065,750</td><td>100.00</td><td>806,574,976.00</td></tr><tr><td>Hydro Power</td><td>MKJC</td><td>Mailung Khola Jal Vidhyut Company  Limited</td><td>3,681,430</td><td>100.00</td><td>368,143,000.00</td></tr><tr><td>Hydro Power</td><td>SAHAS</td><td>Sahas Urja Limited</td><td>35,000,000</td><td>100.00</td><td>3,500,000,000.00</td></tr><tr><td>Hydro Power</td><td>KKHC</td><td>Khanikhola Hydropower Co. Ltd.</td><td>4,657,143</td><td>100.00</td><td>465,714,300.00</td></tr><tr><td>Hydro Power</td><td>HPPL</td><td>Himalayan Power Partner Ltd.</td><td>10,654,170</td><td>100.00</td><td>1,065,417,000.00</td></tr><tr><td>Hydro Power</td><td>DHPL</td><td>Dibyashwori Hydropower Ltd.</td><td>2,640,000</td><td>100.00</td><td>264,000,000.00</td></tr><tr><td>Hydro Power</td><td>BHPL</td><td>Barahi Hydropower Public Limited</td><td>2,500,000</td><td>100.00</td><td>250,000,000.00</td></tr><tr><td>Hydro Power</td><td>MHNL</td><td>Mountain Hydro Nepal Limited</td><td>12,500,000</td><td>100.00</td><td>1,250,000,000.00</td></tr><tr><td>Hydro Power</td><td>CHL</td><td>Chhyangdi Hydropower Ltd.</td><td>3,869,775</td><td>100.00</td><td>386,977,500.00</td></tr><tr><td>Hydro Power</td><td>USHL</td><td>Upper Syange  Hydropower Limited</td><td>2,200,000</td><td>100.00</td><td>220,000,000.00</td></tr><tr><td>Hydro Power</td><td>SPHL</td><td>Sayapatri Hydropower Limited</td><td>900,000</td><td>0.00</td><td>300,000,000.00</td></tr><tr><td>Hydro Power</td><td>NHDL</td><td>Nepal Hydro Developers Ltd.</td><td>3,359,265</td><td>100.00</td><td>335,926,496.00</td></tr><tr><td>Hydro Power</td><td>RADHI</td><td>Radhi Bidyut Company Ltd</td><td>16,759,799</td><td>100.00</td><td>1,675,979,900.00</td></tr><tr><td>Hydro Power</td><td>BNHC</td><td>Buddhabhumi Nepal Hydropower Company Limited</td><td>4,000,000</td><td>100.00</td><td>400,000,000.00</td></tr><tr><td>Hydro Power</td><td>RHGCL</td><td>Rapti Hydro and General Construction Limited</td><td>6,127,938</td><td>100.00</td><td>612,793,792.00</td></tr><tr><td>Hydro Power</td><td>KPCL</td><td>Kalika power Company Ltd</td><td>7,935,000</td><td>100.00</td><td>793,500,000.00</td></tr><tr><td>Hydro Power</td><td>TAMOR</td><td>Sanima Middle Tamor Hydropower Limited</td><td>33,325,000</td><td>100.00</td><td>3,332,500,000.00</td></tr><tr><td>Hydro Power</td><td>GHL</td><td>Ghalemdi Hydro Limited</td><td>5,500,000</td><td>100.00</td><td>550,000,000.00</td></tr><tr><td>Hydro Power</td><td>EHPL</td><td>Eastern Hydropower Limited</td><td>6,200,000</td><td>100.00</td><td>620,000,000.00</td></tr><tr><td>Hydro Power</td><td>MKHC</td><td>Maya Khola Hydropower Company Limited</td><td>10,000,000</td><td>100.00</td><td>1,000,000,000.00</td></tr><tr><td>Hydro Power</td><td>BEDC</td><td> Bhugol Energy Development Company Limited </td><td>5,440,534</td><td>100.00</td><td>544,053,400.00</td></tr><tr><td>Hydro Power</td><td>PMHPL</td><td>Panchakanya Mai Hydropower Ltd</td><td>11,000,000</td><td>100.00</td><td>1,100,000,000.00</td></tr><tr><td>Hydro Power</td><td>KBSH</td><td>Kutheli Bukhari Small Hydropower Limited</td><td>1,218,657</td><td>100.00</td><td>121,865,700.00</td></tr><tr><td>Hydro Power</td><td>MBJC</td><td>Madhya Bhotekoshi Jalavidyut Company Limited</td><td>60,000,000</td><td>100.00</td><td>6,000,000,000.00</td></tr><tr><td>Hydro Power</td><td>GLH</td><td>Greenlife Hydropower Limited</td><td>18,000,000</td><td>100.00</td><td>1,800,000,000.00</td></tr><tr><td>Hydro Power</td><td>USHEC</td><td>Upper Solu Hydro Electric Company Limited </td><td>13,500,000</td><td>100.00</td><td>1,350,000,000.00</td></tr><tr><td>Hydro Power</td><td>AKJCL</td><td>Ankhu Khola Jalvidhyut Company Ltd</td><td>8,000,000</td><td>100.00</td><td>800,000,000.00</td></tr><tr><td>Hydro Power</td><td>LEC</td><td>Liberty Energy Company Limited</td><td>15,000,000</td><td>100.00</td><td>1,500,000,000.00</td></tr><tr><td>Hydro Power</td><td>TPC</td><td>Terhathum Power Company Limited</td><td>4,000,000</td><td>100.00</td><td>400,000,000.00</td></tr><tr><td>Hydro Power</td><td>SHEL</td><td>Singati Hydro Energy Limited</td><td>14,500,000</td><td>100.00</td><td>1,450,000,000.00</td></tr><tr><td>Hydro Power</td><td>PPCL</td><td>Panchthar Power Company Limited</td><td>9,625,000</td><td>100.00</td><td>962,500,000.00</td></tr><tr><td>Hydro Power</td><td>TSHL</td><td>Three Star Hydropower Limited</td><td>4,925,000</td><td>100.00</td><td>492,500,000.00</td></tr><tr><td>Hydro Power</td><td>SSHL</td><td>Shiva Shree Hydropower Limited</td><td>14,764,000</td><td>100.00</td><td>1,476,400,000.00</td></tr><tr><td>Hydro Power</td><td>JOSHI</td><td>Joshi Hydropower Development Company Ltd</td><td>3,714,000</td><td>100.00</td><td>371,400,000.00</td></tr><tr><td>Hydro Power</td><td>UPPER</td><td>Upper Tamakoshi Hydropower Ltd</td><td>105,900,000</td><td>100.00</td><td>10,590,000,000.00</td></tr><tr><td>Hydro Power</td><td>UNHPL</td><td>Union Hydropower Limited</td><td>7,500,000</td><td>100.00</td><td>750,000,000.00</td></tr><tr><td>Hydro Power</td><td>SPC</td><td>Samling Power Company Limited</td><td>5,000,000</td><td>100.00</td><td>500,000,000.00</td></tr><tr><td>Hydro Power</td><td>SGHC</td><td>Swet-Ganga Hydropower & Construction Limited </td><td>15,930,000</td><td>100.00</td><td>1,592,999,936.00</td></tr><tr><td>Hydro Power</td><td>AHL</td><td>Asian Hydropower Limited</td><td>3,400,000</td><td>100.00</td><td>340,000,000.00</td></tr><tr><td>Hydro Power</td><td>BHDC</td><td>Bindyabasini Hydropower Development Company Limited</td><td>10,000,000</td><td>100.00</td><td>1,000,000,000.00</td></tr><tr><td>Hydro Power</td><td>HDHPC</td><td>Himal Dolakha Hydropower Company Limited</td><td>16,000,000</td><td>100.00</td><td>1,600,000,000.00</td></tr><tr><td>Hydro Power</td><td>MHCL</td><td>Molung Hydropower Company Limited</td><td>8,025,000</td><td>100.00</td><td>802,500,000.00</td></tr><tr><td>Hydro Power</td><td>SMH</td><td>Super Mai Hydropower Limited</td><td>5,000,000</td><td>100.00</td><td>500,000,000.00</td></tr><tr><td>Hydro Power</td><td>RFPL</td><td>River Falls Power Limited</td><td>7,000,000</td><td>100.00</td><td>700,000,000.00</td></tr><tr><td>Hydro Power</td><td>MEN</td><td>Mountain Energy Nepal Limited</td><td>19,680,270</td><td>100.00</td><td>1,968,027,000.00</td></tr><tr><td>Hydro Power</td><td>UHEWA</td><td>Upper Hewakhola Hydropower Company Limited</td><td>5,000,000</td><td>100.00</td><td>500,000,000.00</td></tr><tr><td>Hydro Power</td><td>HHL</td><td>Himalayan Hydropower Limited</td><td>10,950,000</td><td>100.00</td><td>1,095,000,000.00</td></tr><tr><td>Hydro Power</td><td>UMRH</td><td>United IDI Mardi RB Hydropower Limited.</td><td>4,200,000</td><td>100.00</td><td>420,000,000.00</td></tr><tr><td>Hydro Power</td><td>SIKLES</td><td>Sikles Hydropower Limited</td><td>8,500,000</td><td>100.00</td><td>850,000,000.00</td></tr><tr><td>Hydro Power</td><td>MEL</td><td>Modi Energy Limited</td><td>29,000,000</td><td>100.00</td><td>2,900,000,000.00</td></tr><tr><td>Hydro Power</td><td>RURU</td><td>Ru Ru Jalbidhyut Pariyojana Limited</td><td>4,933,237</td><td>100.00</td><td>493,323,712.00</td></tr><tr><td>Hydro Power</td><td>MAKAR</td><td>Makar Jitumaya Suri Hydropower Limited</td><td>7,600,000</td><td>100.00</td><td>760,000,000.00</td></tr><tr><td>Hydro Power</td><td>SMJC</td><td>Sagarmatha Jalabidhyut Company Limited</td><td>11,200,000</td><td>100.00</td><td>1,120,000,000.00</td></tr><tr><td>Hydro Power</td><td>MKHL</td><td>Mai Khola Hydropower Limited</td><td>3,921,568</td><td>100.00</td><td>392,156,800.00</td></tr><tr><td>Hydro Power</td><td>DOLTI</td><td>Dolti Power Company Limited</td><td>5,364,860</td><td>100.00</td><td>536,486,000.00</td></tr><tr><td>Hydro Power</td><td>BHL</td><td>Balephi Hydropower Limited</td><td>18,279,700</td><td>100.00</td><td>1,827,970,000.00</td></tr><tr><td>Hydro Power</td><td>GVL</td><td>Green Ventures Limited</td><td>3,125,000</td><td>100.00</td><td>3,124,999,936.00</td></tr><tr><td>Hydro Power</td><td>RIDI</td><td>Ridi Power Company Limited</td><td>15,489,012</td><td>100.00</td><td>1,548,901,200.00</td></tr><tr><td>Hydro Power</td><td>IHL</td><td>Ingwa Hydropower Limited</td><td>6,000,000</td><td>100.00</td><td>600,000,000.00</td></tr><tr><td>Hydro Power</td><td>SMHL</td><td>Super Madi Hydropower Limited</td><td>21,000,000</td><td>100.00</td><td>2,100,000,000.00</td></tr><tr><td>Hydro Power</td><td>MCHL</td><td>Menchhiyam Hydropower Limited</td><td>5,425,833</td><td>100.00</td><td>542,583,300.00</td></tr><tr><td>Hydro Power</td><td>RAWA</td><td>Rawa Energy Development Limited</td><td>2,800,000</td><td>100.00</td><td>280,000,000.00</td></tr><tr><td>Investment</td><td>CIT</td><td>Citizen Investment Trust</td><td>42,510,003</td><td>100.00</td><td>4,251,000,576.00</td></tr><tr><td>Investment</td><td>HIDCL</td><td>Hydorelectricity Investment and Development Company Ltd</td><td>246,708,000</td><td>100.00</td><td>24,670,799,872.00</td></tr><tr><td>Investment</td><td>NIFRA</td><td>Nepal Infrastructure Bank Limited</td><td>216,000,000</td><td>100.00</td><td>21,600,000,000.00</td></tr><tr><td>Investment</td><td>ENL</td><td>Emerging Nepal Limited</td><td>555,600</td><td>100.00</td><td>55,560,000.00</td></tr><tr><td>Investment</td><td>NRN</td><td>NRN Infrastructure and Development Limited</td><td>12,232,117</td><td>100.00</td><td>1,223,211,648.00</td></tr><tr><td>Investment</td><td>CHDC</td><td>CEDB Hydropower Development Company Limited</td><td>8,394,100</td><td>251,823,000.00</td><td>839,409,984.00</td></tr><tr><td>Life Insurance</td><td>ALICL</td><td>Asian Life Insurance Co. Limited</td><td>29,081,112</td><td>100.00</td><td>2,908,111,104.00</td></tr><tr><td>Life Insurance</td><td>LICN</td><td>Life Insurance Co. Nepal</td><td>26,532,000</td><td>100.00</td><td>2,653,200,000.00</td></tr><tr><td>Life Insurance</td><td>NLIC</td><td>Nepal Life Insurance Co. Ltd.</td><td>82,079,666</td><td>100.00</td><td>8,207,966,600.00</td></tr><tr><td>Life Insurance</td><td>NLICL</td><td>National Life Insurance Co. Ltd.</td><td>46,404,320</td><td>100.00</td><td>4,640,432,128.00</td></tr><tr><td>Life Insurance</td><td>RNLI</td><td>Reliable Nepal Life Insurance Limited</td><td>40,000,000</td><td>257.00</td><td>10,280,000,000.00</td></tr><tr><td>Life Insurance</td><td>ILI</td><td>IME Life Insurance Company Limited</td><td>40,000,000</td><td>236.91</td><td>9,476,400,000.00</td></tr><tr><td>Life Insurance</td><td>PLI</td><td>Prabhu Life Insurance Limited</td><td>20,000,000</td><td>100.00</td><td>2,000,000,000.00</td></tr><tr><td>Life Insurance</td><td>SJLIC</td><td>SuryaJyoti Life Insurance Company Limited</td><td>45,455,721</td><td>100.00</td><td>4,545,572,100.00</td></tr><tr><td>Life Insurance</td><td>SRLI</td><td>Sanima Reliance Life Insurance Limited</td><td>41,840,000</td><td>100.00</td><td>4,184,000,000.00</td></tr><tr><td>Life Insurance</td><td>HLI</td><td>Himalayan Life Insurance Limited</td><td>80,203,836</td><td>100.00</td><td>8,020,383,602.00</td></tr><tr><td>Manufacturing And Processing</td><td>BNL</td><td>Bottlers Nepal (Balaju) Limited</td><td>1,948,887</td><td>100.00</td><td>194,888,700.00</td></tr><tr><td>Manufacturing And Processing</td><td>BNT</td><td>Bottlers Nepal (Terai) Limited</td><td>1,210,000</td><td>100.00</td><td>121,000,000.00</td></tr><tr><td>Manufacturing And Processing</td><td>HDL</td><td>Himalayan Distillery Limited</td><td>24,295,666</td><td>100.00</td><td>2,429,566,720.00</td></tr><tr><td>Manufacturing And Processing</td><td>NLO</td><td>Nepal Lube Oil Limited</td><td>485,749</td><td>100.00</td><td>48,574,900.00</td></tr><tr><td>Manufacturing And Processing</td><td>UNL</td><td>Unilever Nepal Limited</td><td>920,700</td><td>100.00</td><td>92,070,000.00</td></tr><tr><td>Manufacturing And Processing</td><td>SHIVM</td><td>SHIVAM CEMENTS LTD</td><td>44,000,000</td><td>100.00</td><td>4,400,000,000.00</td></tr><tr><td>Manufacturing And Processing</td><td>GCIL</td><td>Ghorahi Cement Industry Limited</td><td>39,719,006</td><td>435.00</td><td>691,167,000.00</td></tr><tr><td>Microfinance</td><td>CBBL</td><td>Chhimek Laghubitta Bittiya Sanstha Limited</td><td>23,241,000</td><td>100.00</td><td>2,324,100,000.00</td></tr><tr><td>Microfinance</td><td>DDBL</td><td>Deprosc Laghubitta Bittiya Sanstha Limited</td><td>13,874,985</td><td>100.00</td><td>1,387,498,500.00</td></tr><tr><td>Microfinance</td><td>FMDBL</td><td>First Micro Finance Laghubitta Bittiya Sanstha Limited</td><td>11,477,460</td><td>100.00</td><td>1,147,746,048.00</td></tr><tr><td>Microfinance</td><td>KMCDB</td><td>Kalika Laghubitta Bittiya Sanstha Limited</td><td>3,128,755</td><td>100.00</td><td>312,875,500.00</td></tr><tr><td>Microfinance</td><td>NLBBL</td><td>Nerude Laghubita Bittiya Sanstha Limited</td><td>7,320,000</td><td>100.00</td><td>732,000,000.00</td></tr><tr><td>Microfinance</td><td>NUBL</td><td>Nirdhan Utthan Laghubitta Bittiya Sanstha Limited</td><td>26,120,798</td><td>100.00</td><td>26,120,798.00</td></tr><tr><td>Microfinance</td><td>SKBBL</td><td>Sana Kisan Bikas Laghubitta Bittiya sanstha Limited.</td><td>15,644,138</td><td>100.00</td><td>1,564,413,824.00</td></tr><tr><td>Microfinance</td><td>SLBBL</td><td>Swarojgar Laghubitta Bittiya Sanstha Ltd.</td><td>5,140,992</td><td>100.00</td><td>514,099,200.00</td></tr><tr><td>Microfinance</td><td>SMFDB</td><td>Summit Laghubitta Bittiya Sanstha  Ltd.</td><td>4,940,000</td><td>100.00</td><td>494,000,000.00</td></tr><tr><td>Microfinance</td><td>SWBBL</td><td>Swabalamban Laghubitta Bittiya Sanstha Limited</td><td>12,904,955</td><td>100.00</td><td>1,290,495,500.00</td></tr><tr><td>Microfinance</td><td>MLBBL</td><td>Mithila Laghubitta Bittiya Sanstha Ltd.</td><td>1,960,029</td><td>100.00</td><td>196,002,900.00</td></tr><tr><td>Microfinance</td><td>LLBS</td><td>Laxmi Laghubitta Bittiya Sanstha Ltd.</td><td>3,840,540</td><td>100.00</td><td>384,053,984.00</td></tr><tr><td>Microfinance</td><td>MMFDB</td><td>Mirmire Laghubitta Bittiya Sanstha Ltd.</td><td>6,533,828</td><td>100.00</td><td>653,382,784.00</td></tr><tr><td>Microfinance</td><td>JSLBB</td><td>Janautthan Samudayic Laghubitta Bittiya Sanstha Limited</td><td>1,479,060</td><td>100.00</td><td>147,906,000.00</td></tr><tr><td>Microfinance</td><td>VLBS</td><td>Vijaya laghubitta Bittiya Sanstha Ltd.</td><td>3,200,000</td><td>100.00</td><td>320,000,000.00</td></tr><tr><td>Microfinance</td><td>RSDC</td><td>RSDC Laghubitta Bittiya Sanstha Ltd.</td><td>8,695,683</td><td>100.00</td><td>869,568,320.00</td></tr><tr><td>Microfinance</td><td>NMBMF</td><td>NMB Laghubitta Bittiya Sanstha Ltd.</td><td>6,558,630</td><td>100.00</td><td>655,862,848.00</td></tr><tr><td>Microfinance</td><td>MERO</td><td>Meromicrofinance Laghubitta Bittiya Sanstha Ltd.</td><td>13,200,000</td><td>100.00</td><td>1,320,000,000.00</td></tr><tr><td>Microfinance</td><td>NADEP</td><td>Nadep Laghubitta Bittiya Sanstha Ltd.</td><td>0</td><td>0.00</td><td>0.00</td></tr><tr><td>Microfinance</td><td>ALBSL</td><td>Asha Laghubitta Bittiya Sanstha Limited</td><td>3,339,140</td><td>100.00</td><td>333,913,984.00</td></tr><tr><td>Microfinance</td><td>NMFBS</td><td>National Laghubitta Bittiya Sanstha Limited</td><td>10,842,063</td><td>100.00</td><td>1,084,206,300.00</td></tr><tr><td>Microfinance</td><td>GMFBS</td><td>Ganapati Microfinance Bittiya Sanstha Ltd</td><td>1,515,546</td><td>100.00</td><td>151,554,592.00</td></tr><tr><td>Microfinance</td><td>HLBSL</td><td>Himalayan Laghubitta Bittiya Sanstha Limited</td><td>3,198,182</td><td>100.00</td><td>319,818,200.00</td></tr><tr><td>Microfinance</td><td>ILBS</td><td>Infinity Laghubitta Bittiya Sanstha Limited</td><td>4,974,160</td><td>100.00</td><td>497,416,000.00</td></tr><tr><td>Microfinance</td><td>FOWAD</td><td>Forward Microfinance Laghubitta Bittiya Sanstha Ltd.</td><td>10,555,639</td><td>100.00</td><td>10,555,639.00</td></tr><tr><td>Microfinance</td><td>SMATA</td><td>Samata Gharelu Laghubitta Bittiya Sanstha Limited</td><td>3,427,442</td><td>100.00</td><td>342,744,224.00</td></tr><tr><td>Microfinance</td><td>MSLB</td><td>Mahuli Laghubitta Bittiya Sanstha Ltd.</td><td>2,821,694</td><td>100.00</td><td>282,169,408.00</td></tr><tr><td>Microfinance</td><td>GILB</td><td>Global IME Laghubitta Bittiya Sanstha Ltd.</td><td>6,189,001</td><td>100.00</td><td>618,900,100.00</td></tr><tr><td>Microfinance</td><td>SMB</td><td>Support Microfinance Bittiya Sanstha Ltd.</td><td>858,000</td><td>100.00</td><td>85,800,000.00</td></tr><tr><td>Microfinance</td><td>GBLBS</td><td>Grameen Bikas Laghubitta Bittiya Sanstha Ltd.</td><td>9,825,000</td><td>100.00</td><td>982,500,000.00</td></tr><tr><td>Microfinance</td><td>NESDO</td><td>NESDO Sambridha Laghubitta Bittiye Sanstha Limited</td><td>2,550,000</td><td>100.00</td><td>255,000,000.00</td></tr><tr><td>Microfinance</td><td>MLBSL</td><td>Mahila Laghubitta Bittiya Sanstha Limited</td><td>2,175,625</td><td>100.00</td><td>217,562,500.00</td></tr><tr><td>Microfinance</td><td>MKLB</td><td>Manakamana Smart Laghubitta Bittiya Sanstha Limited</td><td>1,417,455</td><td>0.00</td><td>96,232,496.00</td></tr><tr><td>Microfinance</td><td>GLBSL</td><td>Gurans Laghubitta Bittiya Sanstha Limited</td><td>1,014,000</td><td>100.00</td><td>101,400,000.00</td></tr><tr><td>Microfinance</td><td>NICLBSL</td><td>NIC Asia Laghubitta Biitiya Sanstha Limited</td><td>17,394,400</td><td>100.00</td><td>1,739,440,000.00</td></tr><tr><td>Microfinance</td><td>SLBSL</td><td>Samudayik Laghubitta Bittiya Sanstha Limited</td><td>1,320,000</td><td>100.00</td><td>132,000,000.00</td></tr><tr><td>Microfinance</td><td>SDLBSL</td><td>Sadhana Laghubitta Bittiya Sanstha Limited</td><td>3,822,583</td><td>100.00</td><td>382,258,304.00</td></tr><tr><td>Microfinance</td><td>RULB</td><td>Rastra Utthan Laghubitta Sanstha Limited</td><td>2,600,000</td><td>100.00</td><td>260,000,000.00</td></tr><tr><td>Microfinance</td><td>UNLB</td><td>Unique Nepal Laghubitta Bittiya Sanstha Limited</td><td>1,106,325</td><td>100.00</td><td>110,632,500.00</td></tr><tr><td>Microfinance</td><td>JBLB</td><td>Jeevan Bikas Laghubitta Bittiya Sanstha Limited</td><td>10,342,800</td><td>100.00</td><td>1,034,280,000.00</td></tr><tr><td>Microfinance</td><td>SHLB</td><td>Shrijanshil Laghubitta Bittiya Sanstha Limited</td><td>1,093,750</td><td>100.00</td><td>109,375,000.00</td></tr><tr><td>Microfinance</td><td>ULBSL</td><td>Upakar Laghubitta Bittiya Sanstha Limited</td><td>1,061,484</td><td>100.00</td><td>106,148,400.00</td></tr><tr><td>Microfinance</td><td>SMFBS</td><td>Swabhimaan Laghubitta Bittiya Sanstha Ltd</td><td>1,217,822</td><td>100.00</td><td>121,782,152.00</td></tr><tr><td>Microfinance</td><td>WNLB</td><td>WEAN Nepal Laghubitta Bittiya Sanstha Limited</td><td>792,055</td><td>100.00</td><td>79,205,504.00</td></tr><tr><td>Microfinance</td><td>SABSL</td><td>SABAIKO LAGHUBITTA BITTIYA SANSTHA LIMITED</td><td>3,186,000</td><td>100.00</td><td>318,600,000.00</td></tr><tr><td>Microfinance</td><td>DLBS</td><td>Dhaulagiri Laghubitta Bittiya Sanstha Limited</td><td>1,331,000</td><td>100.00</td><td>133,100,000.00</td></tr><tr><td>Microfinance</td><td>ANLB</td><td>Aatmanirbhar Laghubitta Bittiya Sanstha Limited</td><td>623,380</td><td>100.00</td><td>62,338,000.00</td></tr><tr><td>Microfinance</td><td>MLBS</td><td>Manushi Laghubitta Bittiya Sanstha Limited</td><td>1,093,750</td><td>100.00</td><td>109,375,000.00</td></tr><tr><td>Microfinance</td><td>AVYAN</td><td>Aviyan Laghubitta Bittiya Sanstha Limited</td><td>2,500,000</td><td>100.00</td><td>250,000,000.00</td></tr><tr><td>Microfinance</td><td>JALPA</td><td>Jalpa Samudayik Laghubitta Bittiya Sanstha Limited</td><td>1,600,000</td><td>100.00</td><td>160,000,000.00</td></tr><tr><td>Microfinance</td><td>ACLBSL</td><td>Aarambha Chautari Laghubitta Bittiya Sanstha Limited</td><td>3,671,435</td><td>100.00</td><td>367,143,488.00</td></tr><tr><td>Microfinance</td><td>USLB</td><td>Unnati Sahakarya Laghubitta Bittiya Sanstha Limited</td><td>2,290,207</td><td>100.00</td><td>229,020,704.00</td></tr><tr><td>Microfinance</td><td>NSLB</td><td>Naya Sarathi Laghubitta Bittiya Sanstha Limited</td><td>3,033,953</td><td>100.00</td><td>303,395,296.00</td></tr><tr><td>Microfinance</td><td>CYCL</td><td>CYC Nepal Laghubitta Bittiya Sanstha Limited</td><td>1,581,343</td><td>100.00</td><td>158,134,304.00</td></tr><tr><td>Microfinance</td><td>KLBSL</td><td>Kisan Lagubitta Bittiya Sanstha Limited</td><td>4,713,706</td><td>100.00</td><td>471,370,600.00</td></tr><tr><td>Microfinance</td><td>BPW</td><td>BPW Laghubitta Bittiya Sanstha Limited</td><td>300,000</td><td>100.00</td><td>30,000,000.00</td></tr><tr><td>Microfinance</td><td>KLBS</td><td>Khaptad Laghubitta Bittiya Sanstha Limited</td><td>400,000</td><td>100.00</td><td>40,000,000.00</td></tr><tr><td>Microfinance</td><td>SWMF</td><td>Suryodaya Womi Laghubitta Bittiya Sanstha Limited </td><td>7,919,848</td><td>100.00</td><td>791,984,800.00</td></tr><tr><td>Mutual Fund</td><td>NEF</td><td>Nabil Equity Fund</td><td>125,000,000</td><td>10.00</td><td>1,250,000,000.00</td></tr><tr><td>Mutual Fund</td><td>NIBLPF</td><td>NIBL Pragati Fund</td><td>75,000,000</td><td>10.00</td><td>750,000,000.00</td></tr><tr><td>Mutual Fund</td><td>NMBHF1</td><td>NMB Hybrid Fund L-1</td><td>100,000,000</td><td>10.00</td><td>1,000,000,000.00</td></tr><tr><td>Mutual Fund</td><td>LEMF</td><td>Laxmi Equity Fund</td><td>125,000,000</td><td>10.00</td><td>1,250,000,000.00</td></tr><tr><td>Mutual Fund</td><td>SEF</td><td>Siddhartha Equity Fund</td><td>150,000,000</td><td>10.00</td><td>1,500,000,000.00</td></tr><tr><td>Mutual Fund</td><td>SAEF</td><td>Sanima Equity Fund</td><td>130,000,000</td><td>10.00</td><td>1,300,000,000.00</td></tr><tr><td>Mutual Fund</td><td>NICGF</td><td>NIC Asia Growth Fund</td><td>83,520,000</td><td>10.00</td><td>835,200,000.00</td></tr><tr><td>Mutual Fund</td><td>CMF1</td><td>Citizens Mutual Fund -1</td><td>82,000,000</td><td>10.00</td><td>820,000,000.00</td></tr><tr><td>Mutual Fund</td><td>NBF2</td><td>NABIL BALANCED FUND-2</td><td>112,000,000</td><td>10.00</td><td>1,120,000,000.00</td></tr><tr><td>Mutual Fund</td><td>CMF2</td><td>CITIZENS MUTUAL FUND 2</td><td>56,000,000</td><td>10.00</td><td>560,000,000.00</td></tr><tr><td>Mutual Fund</td><td>NIBLSF</td><td>NIBL Sahabhagita Fund</td><td>36,516,605</td><td>10.00</td><td>365,166,050.00</td></tr><tr><td>Mutual Fund</td><td>NMB50</td><td>NMB 50</td><td>125,000,000</td><td>10.00</td><td>1,250,000,000.00</td></tr><tr><td>Mutual Fund</td><td>SIGS2</td><td>Siddhartha Investment Growth Scheme - 2</td><td>120,000,000</td><td>10.00</td><td>1,200,000,000.00</td></tr><tr><td>Mutual Fund</td><td>NICBF</td><td>NIC Asia Balanced Fund</td><td>75,500,000</td><td>10.00</td><td>755,000,000.00</td></tr><tr><td>Mutual Fund</td><td>SFMF</td><td>Sunrise First Mutual Fund</td><td>86,000,000</td><td>10.00</td><td>860,000,000.00</td></tr><tr><td>Mutual Fund</td><td>LUK</td><td>Laxmi unnati Kosh</td><td>65,262,360</td><td>10.00</td><td>652,623,600.00</td></tr><tr><td>Mutual Fund</td><td>NADDF</td><td>Nic Asia Dynamic Debt Fund</td><td>49,898,450</td><td>10.00</td><td>498,984,500.00</td></tr><tr><td>Mutual Fund</td><td>SLCF</td><td>Sanima Large Cap Fund</td><td>120,000,000</td><td>10.00</td><td>1,200,000,000.00</td></tr><tr><td>Mutual Fund</td><td>KEF</td><td>Kumari Equity Fund</td><td>100,000,000</td><td>10.00</td><td>1,000,000,000.00</td></tr><tr><td>Mutual Fund</td><td>SBCF</td><td>Sunrise Bluechip Fund</td><td>125,000,000</td><td>10.00</td><td>1,250,000,000.00</td></tr><tr><td>Mutual Fund</td><td>NIBSF2</td><td>NIBL Samriddhi Fund 2</td><td>150,000,000</td><td>10.00</td><td>1,500,000,000.00</td></tr><tr><td>Mutual Fund</td><td>PSF</td><td>Prabhu Select Fund</td><td>125,000,000</td><td>10.00</td><td>1,250,000,000.00</td></tr><tr><td>Mutual Fund</td><td>NICSF</td><td>NIC Asia Select - 30 (Index Fund)</td><td>125,000,000</td><td>10.00</td><td>1,250,000,000.00</td></tr><tr><td>Mutual Fund</td><td>RMF1</td><td>RBB Mutual Fund 1</td><td>125,000,000</td><td>10.00</td><td>1,250,000,000.00</td></tr><tr><td>Mutual Fund</td><td>MMF1</td><td>Mega Mutual Fund-1</td><td>125,000,000</td><td>10.00</td><td>1,250,000,000.00</td></tr><tr><td>Mutual Fund</td><td>NBF3</td><td>nabil Balanced Fund-3</td><td>125,000,000</td><td>10.00</td><td>1,250,000,000.00</td></tr><tr><td>Mutual Fund</td><td>KDBY</td><td>Kumari Dhanabriddhi Yojana</td><td>122,507,259</td><td>10.00</td><td>1,225,072,590.00</td></tr><tr><td>Mutual Fund</td><td>NICFC</td><td>NIC ASIA Flexi CAP Fund</td><td>102,000,000</td><td>10.00</td><td>1,020,000,000.00</td></tr><tr><td>Mutual Fund</td><td>GIBF1</td><td>Global IME Balanced Fund-1</td><td>102,576,360</td><td>10.00</td><td>1,025,763,600.00</td></tr><tr><td>Mutual Fund</td><td>NSIF2</td><td>NMB Sulav Investment Fund - 2</td><td>122,100,000</td><td>10.00</td><td>1,221,000,000.00</td></tr><tr><td>Mutual Fund</td><td>SAGF</td><td>Sanima Growth Fund</td><td>67,253,260</td><td>10.00</td><td>672,532,600.00</td></tr><tr><td>Mutual Fund</td><td>NIBLGF</td><td>NIBL Growth Fund</td><td>132,000,000</td><td>10.00</td><td>1,320,000,000.00</td></tr><tr><td>Mutual Fund</td><td>SFEF</td><td>Sunrise Focused Equity Fund</td><td>100,000,000</td><td>10.00</td><td>1,000,000,000.00</td></tr><tr><td>Mutual Fund</td><td>PRSF</td><td>Prabhu Smart Fund</td><td>100,000,000</td><td>10.00</td><td>1,000,000,000.00</td></tr><tr><td>Mutual Fund</td><td>SIGS3</td><td>Siddhartha Investment Growth Scheme 3\t</td><td>80,580,000</td><td>10.00</td><td>805,800,000.00</td></tr><tr><td>Mutual Fund</td><td>C30MF</td><td>Citizens Super 30 Mutual Fund</td><td>75,072,390</td><td>10.00</td><td>750,723,900.00</td></tr><tr><td>Mutual Fund</td><td>RMF2</td><td>RBB Mutual Fund 2</td><td>84,611,929</td><td>10.00</td><td>846,119,290.00</td></tr><tr><td>Mutual Fund</td><td>LVF2</td><td>Laxmi Value Fund II</td><td>80,000,000</td><td>10.00</td><td>800,000,000.00</td></tr><tr><td>Non-Life Insurance</td><td>NICL</td><td>Nepal Insurance Co. Ltd.</td><td>14,947,655</td><td>100.00</td><td>1,494,765,500.00</td></tr><tr><td>Non-Life Insurance</td><td>NIL</td><td>Neco Insurance Co. Ltd.</td><td>20,123,606</td><td>100.00</td><td>2,012,360,600.00</td></tr><tr><td>Non-Life Insurance</td><td>NLG</td><td>NLG Insurance Company Ltd.</td><td>13,266,144</td><td>100.00</td><td>1,326,614,400.00</td></tr><tr><td>Non-Life Insurance</td><td>SICL</td><td>Shikhar Insurance Co. Ltd.</td><td>26,518,542</td><td>100.00</td><td>2,651,854,200.00</td></tr><tr><td>Non-Life Insurance</td><td>PRIN</td><td>Prabhu Insurance Ltd.</td><td>13,761,223</td><td>100.00</td><td>1,376,122,300.00</td></tr><tr><td>Non-Life Insurance</td><td>RBCL</td><td>Rastriya Beema Company Limited</td><td>2,666,365</td><td>100.00</td><td>266,636,500.00</td></tr><tr><td>Non-Life Insurance</td><td>IGI</td><td>IGI Prudential Insurance Company Limited</td><td>18,037,506</td><td>100.00</td><td>1,803,750,600.00</td></tr><tr><td>Non-Life Insurance</td><td>HEI</td><td>Himalayan Everest Insurance Limited</td><td>22,399,367</td><td>100.00</td><td>2,239,936,700.00</td></tr><tr><td>Non-Life Insurance</td><td>SGIC</td><td>Sanima GIC Insurance Limited</td><td>20,000,000</td><td>100.00</td><td>2,000,000,000.00</td></tr><tr><td>Non-Life Insurance</td><td>SPIL</td><td>Siddhartha Premier Insurance Limited</td><td>28,065,499</td><td>100.00</td><td>2,806,549,900.00</td></tr><tr><td>Non-Life Insurance</td><td>SALICO</td><td>Sagarmatha Lumbini Insurance Co. Limited</td><td>26,226,382</td><td>100.00</td><td>2,622,638,200.00</td></tr><tr><td>Non-Life Insurance</td><td>UAIL</td><td>United Ajod Insurance Limited </td><td>19,045,680</td><td>100.00</td><td>1,904,568,000.00</td></tr><tr><td>Others</td><td>NTC</td><td>Nepal Doorsanchar Comapany Limited</td><td>180,000,000</td><td>100.00</td><td>17,999,998,976.00</td></tr><tr><td>Others</td><td>NRIC</td><td>Nepal Re-Insurance Company Limited</td><td>122,325,000</td><td>100.00</td><td>12,232,500,224.00</td></tr><tr><td>Others</td><td>SJLICP</td><td>Suryajyoti Life Insurance Co. Ltd. Promotor Share</td><td>0</td><td>0.00</td><td>0.00</td></tr><tr><td>Others</td><td>NRM</td><td>Nepal Republic Media Limited</td><td>9,650,000</td><td>100.00</td><td>965,000,000.00</td></tr><tr><td>Promotor Share</td><td>AEFLPO</td><td>Alpic Everest Finance Limited Promoter Share</td><td>585,000</td><td>100.00</td><td>58,500,000.00</td></tr><tr><td>Promotor Share</td><td>ALICLP</td><td>Asian Life Insurance Co. Ltd Promoter Share</td><td>100,000</td><td>100.00</td><td>10,000,000.00</td></tr><tr><td>Promotor Share</td><td>BFLPO</td><td>Butwal Finance Limited Promoter Share</td><td>1,000,000</td><td>100.00</td><td>100,000,000.00</td></tr><tr><td>Promotor Share</td><td>BLDBLP</td><td>Biratlaxmi Bikas Bank Limited Promoter Share</td><td>100</td><td>100.00</td><td>10,000.00</td></tr><tr><td>Promotor Share</td><td>CEDBLP</td><td>Clean Energy Development Bank Ltd. Promoter Share</td><td>6,528,000</td><td>100.00</td><td>652,800,000.00</td></tr><tr><td>Promotor Share</td><td>CMBFLP</td><td>Capital Merchant Bank. & Fin. Promoter Share</td><td>700,000</td><td>100.00</td><td>70,000,000.00</td></tr><tr><td>Promotor Share</td><td>CMBFPO</td><td>CMB Finance Ltd. Promoter Share</td><td>450,306</td><td>100.00</td><td>45,030,600.00</td></tr><tr><td>Promotor Share</td><td>CMBSLp</td><td>Civil Merchant Bittiya Sanstha Limited Promoter Share</td><td>600,000</td><td>100.00</td><td>60,000,000.00</td></tr><tr><td>Promotor Share</td><td>CZBILP</td><td>Citizens Bank Internatioal Limited Promoter Share</td><td>10,000</td><td>100.00</td><td>1,000,000.00</td></tr><tr><td>Promotor Share</td><td>EBLPO</td><td>Everest Bank Limited Promoter Share</td><td>100,000</td><td>100.00</td><td>10,000,000.00</td></tr><tr><td>Promotor Share</td><td>EFLPO</td><td>Everest Finance Limited Promoter Share</td><td>120,000</td><td>100.00</td><td>12,000,000.00</td></tr><tr><td>Promotor Share</td><td>GBIMEP</td><td>Global IME Bank Limited Promoter Share</td><td>100,000</td><td>100.00</td><td>10,000,000.00</td></tr><tr><td>Promotor Share</td><td>GFCLPO</td><td>Goodwill Finance Company Limited Promoter Share</td><td>461,896</td><td>100.00</td><td>46,189,600.00</td></tr><tr><td>Promotor Share</td><td>GFLKPO</td><td>Gorkha Finance Limited Promoter Share</td><td>357,300</td><td>100.00</td><td>35,730,000.00</td></tr><tr><td>Promotor Share</td><td>GRANDP</td><td>Grand Bank Limited Promoter Share</td><td>1,680,000</td><td>100.00</td><td>168,000,000.00</td></tr><tr><td>Promotor Share</td><td>GSDBLP</td><td>Gaurishankar Development Bank Ltd. Promoter Share</td><td>1,000,000</td><td>100.00</td><td>100,000,000.00</td></tr><tr><td>Promotor Share</td><td>HBLPO</td><td>Himalayan Bank Limited Promoter Share</td><td>100,000</td><td>100.00</td><td>10,000,000.00</td></tr><tr><td>Promotor Share</td><td>ICFCPO</td><td>ICFC Finance Limited Promotor Share</td><td>2,223,340</td><td>100.00</td><td>222,334,000.00</td></tr><tr><td>Promotor Share</td><td>IDBLPO</td><td>Infrastructure Development Bank Limited Promoter Share</td><td>2,464,000</td><td>100.00</td><td>246,400,000.00</td></tr><tr><td>Promotor Share</td><td>IFILPO</td><td>Imperial Finance Ltd Promoter Share</td><td>200,000</td><td>100.00</td><td>20,000,000.00</td></tr><tr><td>Promotor Share</td><td>IMEFIP</td><td>IME Financial Institution Promoter Share</td><td>1,621,491</td><td>100.00</td><td>162,149,100.00</td></tr><tr><td>Promotor Share</td><td>JBBLPO</td><td>Jyoti Bikash Bank Ltd. Promoter Share</td><td>100,000</td><td>100.00</td><td>10,000,000.00</td></tr><tr><td>Promotor Share</td><td>JFLPO</td><td>Janaki Finance Limited Promoter Share</td><td>240,000</td><td>100.00</td><td>24,000,000.00</td></tr><tr><td>Promotor Share</td><td>KAFILP</td><td>Kaski Finanace Ltd. Promoter</td><td>1,685,208</td><td>100.00</td><td>168,520,800.00</td></tr><tr><td>Promotor Share</td><td>KBBLPO</td><td>Kailash Bikas Bank Limited Promoter Share</td><td>1,008,000</td><td>100.00</td><td>100,800,000.00</td></tr><tr><td>Promotor Share</td><td>KBLPO</td><td>Kumari Bank Limited Promotor Share</td><td>5,250,000</td><td>100.00</td><td>525,000,000.00</td></tr><tr><td>Promotor Share</td><td>KDBLPO</td><td>Kasthamandap Dev. Bank Limited Promoter Share</td><td>200,000</td><td>100.00</td><td>20,000,000.00</td></tr><tr><td>Promotor Share</td><td>KISTPO</td><td>KIST Bank Limited Promoter Share</td><td>1,200,000</td><td>100.00</td><td>120,000,000.00</td></tr><tr><td>Promotor Share</td><td>LBLPO</td><td>Laxmi Bank Limited Promoter Share</td><td>4,717,008</td><td>100.00</td><td>471,700,800.00</td></tr><tr><td>Promotor Share</td><td>LFCPO</td><td>Lalitpur Finance Co. Ltd. Promoter Share</td><td>417,656</td><td>100.00</td><td>41,765,600.00</td></tr><tr><td>Promotor Share</td><td>LFLCPO</td><td>Lumbini Finance Ltd Promoter Share</td><td>6,000,000</td><td>100.00</td><td>600,000,000.00</td></tr><tr><td>Promotor Share</td><td>MBBLPO</td><td>Mahakali Bikas Bank Ltd. Promoter</td><td>100,000</td><td>100.00</td><td>10,000,000.00</td></tr><tr><td>Promotor Share</td><td>MBLPO</td><td>Machhapuchchhre Bank Limited Promotor Share</td><td>5,751,559</td><td>100.00</td><td>575,155,900.00</td></tr><tr><td>Promotor Share</td><td>MDBLPO</td><td>Malika Development Bank Limited Promoter Share</td><td>350,000</td><td>100.00</td><td>35,000,000.00</td></tr><tr><td>Promotor Share</td><td>MFLPO</td><td>Maha Laxmi Finance Company Limited Promoter Share</td><td>100,000</td><td>100.00</td><td>10,000,000.00</td></tr><tr><td>Promotor Share</td><td>NABBPO</td><td>Nepal Aawas Finance Limited Promoter Share</td><td>944,682</td><td>100.00</td><td>94,468,200.00</td></tr><tr><td>Promotor Share</td><td>NABILP</td><td>NABIL Bank Limited Promotor Share</td><td>4,811,751</td><td>100.00</td><td>481,175,100.00</td></tr><tr><td>Promotor Share</td><td>NBBPO</td><td>Nepal Bangladesh Bank Limited Promoter Share</td><td>18,603,890</td><td>100.00</td><td>1,860,389,000.00</td></tr><tr><td>Promotor Share</td><td>NCCBPO</td><td>Nepal Credit & Commercial Bank Ltd. Promoter Share</td><td>6,880,104</td><td>100.00</td><td>688,010,400.00</td></tr><tr><td>Promotor Share</td><td>NCMPO</td><td>N.I.D.C Capital Markets Ltd. Promoter Share</td><td>1,000,000</td><td>100.00</td><td>100,000,000.00</td></tr><tr><td>Promotor Share</td><td>NDBPO</td><td>Nepal Development Bank Limited Promoter Share</td><td>1,120,000</td><td>100.00</td><td>112,000,000.00</td></tr><tr><td>Promotor Share</td><td>NEFLPO</td><td>Nepal Express Finance Limited Promoter Share</td><td>1,000,000</td><td>100.00</td><td>100,000,000.00</td></tr><tr><td>Promotor Share</td><td>NHMFPO</td><td>Nepal Housing & Merchant Co. Ltd. Promoter Share</td><td>482,642</td><td>100.00</td><td>48,264,200.00</td></tr><tr><td>Promotor Share</td><td>NIBPO</td><td>Nepal Investment Bank Ltd. Promoter Share</td><td>100</td><td>100.00</td><td>10,000.00</td></tr><tr><td>Promotor Share</td><td>NICAP</td><td>NIC Asia Bank Limted Promoter Share</td><td>5,148,000</td><td>100.00</td><td>514,800,000.00</td></tr><tr><td>Promotor Share</td><td>NLICLP</td><td>National Life Insurance Co. Ltd. Promoter Share</td><td>200,000</td><td>100.00</td><td>20,000,000.00</td></tr><tr><td>Promotor Share</td><td>NMBPO</td><td>NMB Bank Limited Promoter Share</td><td>8,579,999</td><td>100.00</td><td>857,999,900.00</td></tr><tr><td>Promotor Share</td><td>NNFCPO</td><td>Narayani National Finance Company Limited Promoter Share</td><td>1,293,176</td><td>100.00</td><td>129,317,600.00</td></tr><tr><td>Promotor Share</td><td>NSMPO</td><td>Nepal Share Markets Limited Promoter Share</td><td>100,000</td><td>100.00</td><td>10,000,000.00</td></tr><tr><td>Promotor Share</td><td>OFLPO</td><td>Om Finance Limited Promoter Share</td><td>100</td><td>100.00</td><td>10,000.00</td></tr><tr><td>Promotor Share</td><td>PCBLP</td><td>Prime Commercial Bank Limited Promoter Share</td><td>400,000</td><td>100.00</td><td>40,000,000.00</td></tr><tr><td>Promotor Share</td><td>PDBLPO</td><td>Paschimanchal Bikash Bank Ltd. Promoter Share</td><td>600,000</td><td>100.00</td><td>60,000,000.00</td></tr><tr><td>Promotor Share</td><td>PFCLPO</td><td>Peoples Finance Limited Promoter Share</td><td>338,610</td><td>100.00</td><td>33,861,000.00</td></tr><tr><td>Promotor Share</td><td>PFLBSP</td><td>Patan Finance Limited Promoter Share</td><td>300,000</td><td>100.00</td><td>30,000,000.00</td></tr><tr><td>Promotor Share</td><td>PFLPO</td><td>Pokhara Finance Company Limited Promoter Share</td><td>1,862,078</td><td>100.00</td><td>186,207,800.00</td></tr><tr><td>Promotor Share</td><td>PRFLPO</td><td>Prabhu Finance Ltd. Promoter Share</td><td>3,000,000</td><td>100.00</td><td>300,000,000.00</td></tr><tr><td>Promotor Share</td><td>PROFLP</td><td>Progressive Finance Limited Promoter Share</td><td>180,000</td><td>100.00</td><td>18,000,000.00</td></tr><tr><td>Promotor Share</td><td>RMBFPO</td><td>Royal Merchant Bank & Finance Co. Ltd. Promoter Share</td><td>357,500</td><td>100.00</td><td>35,750,000.00</td></tr><tr><td>Promotor Share</td><td>SBBLJP</td><td>Sahayogi Bikas Bank Ltd. Promoter Share</td><td>100</td><td>100.00</td><td>10,000.00</td></tr><tr><td>Promotor Share</td><td>SNMAPO</td><td>Sanima Bank Limited Promoter Share</td><td>5,376,000</td><td>100.00</td><td>537,600,000.00</td></tr><tr><td>Promotor Share</td><td>SBIPO</td><td>Nepal SBI Bank Ltd. Promoter Share</td><td>6,114,353</td><td>100.00</td><td>611,435,300.00</td></tr><tr><td>Promotor Share</td><td>SBLPO</td><td>Siddhartha Bank Limited Promoter Share</td><td>3,000,000</td><td>100.00</td><td>300,000,000.00</td></tr><tr><td>Promotor Share</td><td>SDBLPO</td><td>Siddhartha Development Bank Limited Promoter Share</td><td>300,000</td><td>100.00</td><td>30,000,000.00</td></tr><tr><td>Promotor Share</td><td>SETIPO</td><td>Seti Finance Ltd. Promoter Share</td><td>560,000</td><td>100.00</td><td>56,000,000.00</td></tr><tr><td>Promotor Share</td><td>SEWAPO</td><td>Sewa Bikas Bank Ltd. Promoter</td><td>100,000</td><td>100.00</td><td>10,000,000.00</td></tr><tr><td>Promotor Share</td><td>SFCPO</td><td>Samjhana Finace Co. Ltd. Promoter Share</td><td>123,750</td><td>100.00</td><td>12,375,000.00</td></tr><tr><td>Promotor Share</td><td>SFFILP</td><td>Srijana Finance Limited Promoter Share</td><td>84,000</td><td>100.00</td><td>8,400,000.00</td></tr><tr><td>Promotor Share</td><td>SFLPO</td><td>Siddhartha Finance Limited Promoter Share</td><td>500,000</td><td>100.00</td><td>50,000,000.00</td></tr><tr><td>Promotor Share</td><td>SIFCPO</td><td>Shree Investment & Finance Company Limited Promoter Share</td><td>1,000,000</td><td>100.00</td><td>100,000,000.00</td></tr><tr><td>Promotor Share</td><td>SLICLP</td><td>Surya Life Insurance Co. Ltd. Promoter Share</td><td>900,000</td><td>100.00</td><td>90,000,000.00</td></tr><tr><td>Promotor Share</td><td>SRBLPO</td><td>Sunrise Bank Ltd Promoter Share</td><td>20,000,000</td><td>100.00</td><td>2,000,000,000.00</td></tr><tr><td>Promotor Share</td><td>STFLPO</td><td>Standard Finance Limited Promoter Share</td><td>9,437,241</td><td>100.00</td><td>943,724,100.00</td></tr><tr><td>Promotor Share</td><td>SUBBLP</td><td>Subbecha Bikas Bank Ltd. Promoter Share</td><td>100,000</td><td>100.00</td><td>10,000,000.00</td></tr><tr><td>Promotor Share</td><td>SUPRMP</td><td>Supreme Development Bank Ltd. Promoter Share</td><td>4,704,000</td><td>100.00</td><td>470,400,000.00</td></tr><tr><td>Promotor Share</td><td>SWBBLP</td><td>Swabalamban Laghubitta Bittiya Sanstha Limited Promoter Share</td><td>175,000</td><td>100.00</td><td>17,500,000.00</td></tr><tr><td>Promotor Share</td><td>TBBLP</td><td>Triveni Bikas Bank Limited Promoter Share</td><td>500,000</td><td>100.00</td><td>50,000,000.00</td></tr><tr><td>Promotor Share</td><td>UFCLPO</td><td>Union Finance Co. Ltd. Promoter Share</td><td>100</td><td>100.00</td><td>10,000.00</td></tr><tr><td>Promotor Share</td><td>UFLKPO</td><td>Universal Finance Limited Promoter Share</td><td>1,313,787</td><td>100.00</td><td>131,378,700.00</td></tr><tr><td>Promotor Share</td><td>UFLPO</td><td>United Finance Company Limited Promoter Share</td><td>900,000</td><td>100.00</td><td>90,000,000.00</td></tr><tr><td>Promotor Share</td><td>YFLPO</td><td>Yeti Finance Limited Promoter Share</td><td>8,812</td><td>100.00</td><td>881,200.00</td></tr><tr><td>Promotor Share</td><td>UFILPO</td><td>Unique Finance Limited Promoter Share</td><td>100,000</td><td>100.00</td><td>10,000,000.00</td></tr><tr><td>Promotor Share</td><td>MDBPO</td><td>Miteri Development Bank Limited Promoter Share</td><td>10,000</td><td>100.00</td><td>1,000,000.00</td></tr><tr><td>Promotor Share</td><td>PSDBLP</td><td>Pashupati Development Bank Limited Promoter Share</td><td>1,200,000</td><td>100.00</td><td>120,000,000.00</td></tr><tr><td>Promotor Share</td><td>PFILPO</td><td>Prudential Finance Co. Ltd. Promoter</td><td>100,000</td><td>100.00</td><td>10,000,000.00</td></tr><tr><td>Promotor Share</td><td>HAMAPO</td><td>Hama Merchant & Finance Ltd. Promoter Share</td><td>200,000</td><td>100.00</td><td>20,000,000.00</td></tr><tr><td>Promotor Share</td><td>EDBLPO</td><td>Excel Development Bank Ltd. Promoter Share</td><td>100,000</td><td>100.00</td><td>10,000,000.00</td></tr><tr><td>Promotor Share</td><td>NILPO</td><td>Neco Insurace Co. Ltd. Promoter</td><td>1,352,216</td><td>100.00</td><td>135,221,600.00</td></tr><tr><td>Promotor Share</td><td>SICPO</td><td>Sagarmatha Insurance Co. Ltd. Promoter Share</td><td>100,000</td><td>100.00</td><td>10,000,000.00</td></tr><tr><td>Promotor Share</td><td>GLICLP</td><td>Gurans Life Insurance Company Ltd. Promoter Share</td><td>100,000</td><td>100.00</td><td>10,000,000.00</td></tr><tr><td>Promotor Share</td><td>ARDBLP</td><td>Araniko Development Bank Limited Promoter Share</td><td>100,000</td><td>100.00</td><td>10,000,000.00</td></tr><tr><td>Promotor Share</td><td>GBBLPO</td><td>Garima Bikas Bank Limited Promoter Share</td><td>100,000</td><td>100.00</td><td>10,000,000.00</td></tr><tr><td>Promotor Share</td><td>SYFLPO</td><td>Synergy Finance Limited Promoter Share</td><td>500,000</td><td>100.00</td><td>50,000,000.00</td></tr><tr><td>Promotor Share</td><td>SICLPO</td><td>Shikhar Insurance Company Limited Promoter Share</td><td>0</td><td>0.00</td><td>0.00</td></tr><tr><td>Promotor Share</td><td>BSBLPO</td><td>Bishwa Bikas Bank Limited Promoter Share</td><td>0</td><td>0.00</td><td>0.00</td></tr><tr><td>Promotor Share</td><td>REDBLP</td><td>Reliable Development Bank Ltd. Promoter Share</td><td>0</td><td>0.00</td><td>0.00</td></tr><tr><td>Promotor Share</td><td>SILPO</td><td>Siddhartha Insurance Limited Promoter Share</td><td>0</td><td>0.00</td><td>0.00</td></tr><tr><td>Promotor Share</td><td>BHBLPO</td><td>Bhargav Bikash Bank Ltd. Promoter Share</td><td>0</td><td>0.00</td><td>0.00</td></tr><tr><td>Promotor Share</td><td>PRVUPO</td><td>Prabhu Bank Limited Promoter Share</td><td>0</td><td>0.00</td><td>0.00</td></tr><tr><td>Promotor Share</td><td>WDBLPO</td><td>Western Development Bank Limited Promoter Share</td><td>0</td><td>0.00</td><td>0.00</td></tr><tr><td>Promotor Share</td><td>CSDBLP</td><td>Cosmos Development Bank Ltd. Promoter Share</td><td>0</td><td>0.00</td><td>0.00</td></tr><tr><td>Promotor Share</td><td>CNDBLP</td><td>Country Development Bank Limited Promoter Share</td><td>0</td><td>0.00</td><td>0.00</td></tr><tr><td>Promotor Share</td><td>EKBLPO</td><td>Ekata Bikas Bank Ltd. Promoter Share</td><td>0</td><td>0.00</td><td>0.00</td></tr><tr><td>Promotor Share</td><td>HAMROP</td><td>Hamro Bikas Bank Limited Promoter Share</td><td>0</td><td>0.00</td><td>0.00</td></tr><tr><td>Promotor Share</td><td>KNBLPO</td><td>Kankai Bikas Bank Ltd. Promoter Share</td><td>0</td><td>0.00</td><td>0.00</td></tr><tr><td>Promotor Share</td><td>LLBSPO</td><td>Laxmi Laghubitta Bittiya Sanstha Limited Promoter Share</td><td>0</td><td>0.00</td><td>0.00</td></tr><tr><td>Promotor Share</td><td>MNBBLP</td><td>Muktinath Bikas Bank Limited Promoter Share</td><td>0</td><td>0.00</td><td>0.00</td></tr><tr><td>Promotor Share</td><td>BUDBLP</td><td>Business Universal Development Bank Ltd. Promoter Share</td><td>0</td><td>0.00</td><td>0.00</td></tr><tr><td>Promotor Share</td><td>PFCPO</td><td>Paschimanchal Finance Co. Ltd. Promoter Share</td><td>0</td><td>0.00</td><td>0.00</td></tr><tr><td>Promotor Share</td><td>JHBLPO</td><td>Jhimruk Bikas Bank Ltd. Promoter Share</td><td>0</td><td>0.00</td><td>0.00</td></tr><tr><td>Promotor Share</td><td>NFSPO</td><td>Nepal Finance Ltd. Promoter Share</td><td>0</td><td>0.00</td><td>0.00</td></tr><tr><td>Promotor Share</td><td>PICLPO</td><td>Prudential Insurance Co. Ltd. Promoter Share</td><td>0</td><td>0.00</td><td>0.00</td></tr><tr><td>Promotor Share</td><td>RLFLPO</td><td>Reliance Finance Limited Promoter Share</td><td>0</td><td>0.00</td><td>0.00</td></tr><tr><td>Promotor Share</td><td>ALDBLP</td><td>Alpine Development Bank Limited Promoter Share</td><td>0</td><td>0.00</td><td>0.00</td></tr><tr><td>Promotor Share</td><td>APEXPO</td><td>Apex Development Bank Ltd. Promoter Share</td><td>0</td><td>0.00</td><td>0.00</td></tr><tr><td>Promotor Share</td><td>CCBLPO</td><td>Century Commercial Bank Limited Promoter Share</td><td>0</td><td>0.00</td><td>0.00</td></tr><tr><td>Promotor Share</td><td>CBLPO</td><td>Civil Bank Ltd Promoter Share</td><td>0</td><td>0.00</td><td>0.00</td></tr><tr><td>Promotor Share</td><td>GDBLPO</td><td>Gandaki Bikas Bank Limited Promoter Share</td><td>0</td><td>0.00</td><td>0.00</td></tr><tr><td>Promotor Share</td><td>GABLPO</td><td>Gaumukhee Bikas Bank Ltd. Promoter Share</td><td>0</td><td>0.00</td><td>0.00</td></tr><tr><td>Promotor Share</td><td>JBNLPO</td><td>Janata Bank Nepal Ltd. Promoter Share</td><td>0</td><td>0.00</td><td>0.00</td></tr><tr><td>Promotor Share</td><td>JEFLPO</td><td>Jebils Finance Ltd. Promoter Share</td><td>0</td><td>0.00</td><td>0.00</td></tr><tr><td>Promotor Share</td><td>MSBBLP</td><td>Manaslu Bikas Bank Limited Promoter Share</td><td>0</td><td>0.00</td><td>0.00</td></tr><tr><td>Promotor Share</td><td>MEGAPO</td><td>Mega Bank Nepal Limited Promoter Share</td><td>0</td><td>0.00</td><td>0.00</td></tr><tr><td>Promotor Share</td><td>MIDBLP</td><td>Mission Development Bank Ltd. Promoter Share</td><td>0</td><td>0.00</td><td>0.00</td></tr><tr><td>Promotor Share</td><td>NBSLPO</td><td>Namaste Bittiya Sanstha Ltd. Promoter Share</td><td>0</td><td>0.00</td><td>0.00</td></tr><tr><td>Promotor Share</td><td>NLBBLP</td><td>Nerude Laghubita Bittiya Sanstha Limited Promoter Share</td><td>0</td><td>0.00</td><td>0.00</td></tr><tr><td>Promotor Share</td><td>NIDCPO</td><td>N.I.D.C Development Bank Ltd. Promoter Share</td><td>0</td><td>0.00</td><td>0.00</td></tr><tr><td>Promotor Share</td><td>NUBLPO</td><td>Nirdhan Utthan Laghubitta Bittiya Sanstha Limited Promoter Share</td><td>0</td><td>0.00</td><td>0.00</td></tr><tr><td>Promotor Share</td><td>PRDBLP</td><td>Professional Diyalo Bikas Bank Ltd. Promoter Share</td><td>0</td><td>0.00</td><td>0.00</td></tr><tr><td>Promotor Share</td><td>RMDCPO</td><td>Rural Microfinance Development Centre Limited Promoter Share</td><td>0</td><td>0.00</td><td>0.00</td></tr><tr><td>Promotor Share</td><td>SKBBLP</td><td>Sana Kisan Bikas Laghubitta Bittiya sanstha Limited Promoter Share</td><td>0</td><td>0.00</td><td>0.00</td></tr><tr><td>Promotor Share</td><td>SHINEP</td><td>Shine Resunga Development Bank Limited Promoter Share</td><td>0</td><td>0.00</td><td>0.00</td></tr><tr><td>Promotor Share</td><td>SINDUP</td><td>Sindhu Bikash Bank Limited Promoter Share</td><td>0</td><td>0.00</td><td>0.00</td></tr><tr><td>Promotor Share</td><td>SCBPO</td><td>Standard Chartered Bank Limited Promoter Share</td><td>0</td><td>0.00</td><td>0.00</td></tr><tr><td>Promotor Share</td><td>SMFDBP</td><td>Summit Laghubitta Bittiya Sanstha Ltd. Promoter Share</td><td>0</td><td>0.00</td><td>0.00</td></tr><tr><td>Promotor Share</td><td>CFCLPO</td><td>Central Finance Company Limited Promoter Share</td><td>0</td><td>0.00</td><td>0.00</td></tr><tr><td>Promotor Share</td><td>RBCLPO</td><td>Rastriya Beema Company Limited Promoter Share</td><td>0</td><td>0.00</td><td>0.00</td></tr><tr><td>Promotor Share</td><td>KMCDBP</td><td>Kalika Laghubitta Bittiya Sanstha Limited Promoter Share</td><td>0</td><td>0.00</td><td>0.00</td></tr><tr><td>Promotor Share</td><td>PADBLP</td><td>Pacific Development Bank Ltd. Promoter Share</td><td>0</td><td>0.00</td><td>0.00</td></tr><tr><td>Promotor Share</td><td>BGDBLP</td><td>Bagmati Development Bank Ltd. Promoter Share</td><td>0</td><td>0.00</td><td>0.00</td></tr><tr><td>Promotor Share</td><td>PRINPO</td><td>Prabhu Insurance Company Ltd. Promoter</td><td>1,000,000</td><td>100.00</td><td>100,000,000.00</td></tr><tr><td>Promotor Share</td><td>DDBLPO</td><td>Deprosc LaghuBitta Bittiya Sanstha Limited Promoter Share</td><td>0</td><td>0.00</td><td>0.00</td></tr><tr><td>Promotor Share</td><td>INDBPO</td><td>Innovative Development Bank Ltd. Promoter Share</td><td>0</td><td>0.00</td><td>0.00</td></tr><tr><td>Promotor Share</td><td>NLGPO</td><td>NLG Insurance Company Ltd. Promoter Share</td><td>0</td><td>0.00</td><td>0.00</td></tr><tr><td>Promotor Share</td><td>SODBLP</td><td>Society Development Bank Limited Promoter Share</td><td>0</td><td>0.00</td><td>0.00</td></tr><tr><td>Promotor Share</td><td>DBBLPO</td><td>Dev BikasBank Ltd. Promoter Share</td><td>0</td><td>0.00</td><td>0.00</td></tr><tr><td>Promotor Share</td><td>ILFCPO</td><td>International Leasing & Finance Co. Ltd. Promoter Share</td><td>0</td><td>0.00</td><td>0.00</td></tr><tr><td>Promotor Share</td><td>NICLPO</td><td>Nepal Insurance Co. Ltd Promoter Share</td><td>0</td><td>0.00</td><td>0.00</td></tr><tr><td>Promotor Share</td><td>TDBLPO</td><td>Tourism Development Bank Limited Prmoter Share</td><td>0</td><td>0.00</td><td>0.00</td></tr><tr><td>Promotor Share</td><td>LICNPO</td><td>Life Insurance Co. Nepal Promoter Share</td><td>0</td><td>0.00</td><td>0.00</td></tr><tr><td>Promotor Share</td><td>CBBLPO</td><td>Chhimek Laghubitta Bittiya Sanstha Limited Promoter Share</td><td>0</td><td>0.00</td><td>0.00</td></tr><tr><td>Promotor Share</td><td>NCDBPO</td><td>Nepal Community Development Bank Ltd. Promoter Share</td><td>0</td><td>0.00</td><td>0.00</td></tr><tr><td>Promotor Share</td><td>EICPO</td><td>Everest Insurance Company Limited Promoter Share</td><td>0</td><td>0.00</td><td>0.00</td></tr><tr><td>Promotor Share</td><td>HGIPO</td><td>Himalayan General Insurance Compny Limited Promoter Share</td><td>0</td><td>0.00</td><td>0.00</td></tr><tr><td>Promotor Share</td><td>LGILPO</td><td>Lumbini General Insurance Co. Ltd. Promoter Share</td><td>0</td><td>0.00</td><td>0.00</td></tr><tr><td>Promotor Share</td><td>PLICPO</td><td>Prime Life Insurance Company Limited Promoter Share</td><td>0</td><td>0.00</td><td>0.00</td></tr><tr><td>Promotor Share</td><td>MLBBLP</td><td>Mithila Laghubitta Bikas Bank Limited Promoter Share</td><td>0</td><td>0.00</td><td>0.00</td></tr><tr><td>Promotor Share</td><td>SADBLP</td><td>Shangrila Development Bank Ltd. Promoter Share</td><td>0</td><td>0.00</td><td>0.00</td></tr><tr><td>Promotor Share</td><td>INDBLP</td><td>International Development Bank Ltd Promoter Share</td><td>0</td><td>0.00</td><td>0.00</td></tr><tr><td>Promotor Share</td><td>KADBLP</td><td>Kanchan Development Bank Limited Promoter Share</td><td>0</td><td>0.00</td><td>0.00</td></tr><tr><td>Promotor Share</td><td>MMFDBP</td><td>Mirmire Laghubitta Bittiya Sanstha Ltd. Promoter Share</td><td>0</td><td>0.00</td><td>0.00</td></tr><tr><td>Promotor Share</td><td>PICPO</td><td>Premier Insurance Co. Ltd. Promoter Share</td><td>0</td><td>0.00</td><td>0.00</td></tr><tr><td>Promotor Share</td><td>PURBLP</td><td>Purnima Bikas Bank Limited Promoter Share</td><td>0</td><td>0.00</td><td>0.00</td></tr><tr><td>Promotor Share</td><td>SAFLPO</td><td>Sagarmatha Finance Limited Promoter Share</td><td>0</td><td>0.00</td><td>0.00</td></tr><tr><td>Promotor Share</td><td>VLBSPO</td><td>Vijaya laghubitta Bittiya Sanstha Ltd. Promoter Share</td><td>0</td><td>0.00</td><td>0.00</td></tr><tr><td>Promotor Share</td><td>JSLBBP</td><td>Janautthan Samudayic Laghubitta Bittiya Sanstha Limited Promoter Share</td><td>0</td><td>0.00</td><td>0.00</td></tr><tr><td>Promotor Share</td><td>KCDBLP</td><td>Kalinchowk Development Bank Ltd. Promoter Share</td><td>0</td><td>0.00</td><td>0.00</td></tr><tr><td>Promotor Share</td><td>RBBBLP</td><td>Rapti Bheri Bikas Bank Ltd. Promoter Share</td><td>0</td><td>0.00</td><td>0.00</td></tr><tr><td>Promotor Share</td><td>SLBBLP</td><td>Swarojgar Laghu Bitta Bikas Bank Ltd. Promoter Share</td><td>0</td><td>0.00</td><td>0.00</td></tr><tr><td>Promotor Share</td><td>WOMIPO</td><td>Womi Microfinance Bittiya Sanstha Limited Promoter Share</td><td>0</td><td>0.00</td><td>0.00</td></tr><tr><td>Promotor Share</td><td>FBBLPO</td><td>Fewa Bikas Bank Ltd. Promoter Share</td><td>0</td><td>0.00</td><td>0.00</td></tr><tr><td>Promotor Share</td><td>FMDBLP</td><td>First Micro Finance Laghubitta Bittiya Sanstha Ltd. Promoter Share</td><td>0</td><td>0.00</td><td>0.00</td></tr><tr><td>Promotor Share</td><td>MMDBLP</td><td>Mount Makalu Development Bank Ltd. Promoter Share</td><td>0</td><td>0.00</td><td>0.00</td></tr><tr><td>Promotor Share</td><td>BFCLPO</td><td>Bhaktapur Finance Co. Ltd. Promoter Share</td><td>0</td><td>0.00</td><td>0.00</td></tr><tr><td>Promotor Share</td><td>GMFILP</td><td>Guheyshwori Merchant & Finance Ltd. Promoter Share</td><td>0</td><td>0.00</td><td>0.00</td></tr><tr><td>Promotor Share</td><td>KEBLPO</td><td>Kabeli BIkas Bank Ltd. Promoter Share</td><td>0</td><td>0.00</td><td>0.00</td></tr><tr><td>Promotor Share</td><td>KKBLPO</td><td>Kankre Bihar Bikash Bank Limited Promoter Share</td><td>0</td><td>0.00</td><td>0.00</td></tr><tr><td>Promotor Share</td><td>UICPO</td><td>United Insurance Co. (Nepal) Ltd. Promoter Share</td><td>0</td><td>0.00</td><td>0.00</td></tr><tr><td>Promotor Share</td><td>MFILPO</td><td>Manjushree Finance Limited Promoter Share</td><td>0</td><td>0.00</td><td>0.00</td></tr><tr><td>Promotor Share</td><td>GUFLPO</td><td>Gurkhas Finance Limited Promoter Share</td><td>0</td><td>0.00</td><td>0.00</td></tr><tr><td>Promotor Share</td><td>KRBLPO</td><td>Karnali Development Bank Limited Promoter Share</td><td>0</td><td>0.00</td><td>0.00</td></tr><tr><td>Promotor Share</td><td>BOKLPO</td><td>Bank of Kathmandu Limited Promoter Share</td><td>0</td><td>0.00</td><td>0.00</td></tr><tr><td>Promotor Share</td><td>ODBLPO</td><td>Om Development Bank Ltd. Promoter</td><td>0</td><td>0.00</td><td>0.00</td></tr><tr><td>Promotor Share</td><td>KSBBLP</td><td>Kamana Sewa Bikas Bank Limited Promoter Share</td><td>0</td><td>0.00</td><td>0.00</td></tr><tr><td>Promotor Share</td><td>MLBLPO</td><td>Mahalxmi Bikas Bank Ltd. Promotor Share</td><td>0</td><td>0.00</td><td>0.00</td></tr><tr><td>Promotor Share</td><td>MPFLPO</td><td>Multipurpose Finance Company  Limited Promoter Share</td><td>0</td><td>0.00</td><td>0.00</td></tr><tr><td>Promotor Share</td><td>LBBLPO</td><td>Lumbini Bikas Bank Ltd. Promoter Share</td><td>0</td><td>0.00</td><td>0.00</td></tr><tr><td>Promotor Share</td><td>CEFLPO</td><td>City Express Finance Co. Ltd. Promoter Share</td><td>0</td><td>0.00</td><td>0.00</td></tr><tr><td>Promotor Share</td><td>IGIPO</td><td>IME General Insurance  Ltd. Promoter Share</td><td>0</td><td>0.00</td><td>0.00</td></tr><tr><td>Promotor Share</td><td>NADEPP</td><td>Nadep Laghubitta Bittiya Sanstha Ltd. Promoter Share</td><td>0</td><td>0.00</td><td>0.00</td></tr><tr><td>Promotor Share</td><td>HATHPO</td><td>Hathway Finance Company Limited Promoter Share</td><td>0</td><td>0.00</td><td>0.00</td></tr><tr><td>Promotor Share</td><td>TMDBLP</td><td>Tinau Mission Development Bank Limited Promoter</td><td>0</td><td>0.00</td><td>0.00</td></tr><tr><td>Promotor Share</td><td>NMBMFP</td><td>NMB  Microfinance Bittiya Sanstha Ltd. Promoter Share</td><td>0</td><td>0.00</td><td>0.00</td></tr><tr><td>Promotor Share</td><td>SFCLP</td><td>Samriddhi Finance Company Limited Promoter Share</td><td>0</td><td>0.00</td><td>0.00</td></tr><tr><td>Promotor Share</td><td>GRDBLP</td><td>Green Development Bank Ltd. Promoter Share</td><td>0</td><td>0.00</td><td>0.00</td></tr><tr><td>Promotor Share</td><td>GBLBSP</td><td>Grameen Bikas Lagubitta Bittiya Sanstha Limited (Promoter Share)</td><td>0</td><td>0.00</td><td>0.00</td></tr><tr><td>Promotor Share</td><td>SDESIP</td><td>Swadeshi Laghubitta Bittiya Sanstha Ltd Promoter Share</td><td>0</td><td>0.00</td><td>0.00</td></tr><tr><td>Promotor Share</td><td>AKBSLP</td><td>ADHIKHOLA LAGHUBITTA BITTIYA SANSTHA LIMITED PROMOTER SHARE</td><td>0</td><td>100.00</td><td>0.00</td></tr><tr><td>Promotor Share</td><td>SAPDBLP</td><td>Saptakoshi Development Bank Ltd Promoter Share</td><td>0</td><td>0.00</td><td>0.00</td></tr><tr><td>Promotor Share</td><td>RSDCP</td><td>RSDC Laghubitta Bittiya Sanstha Ltd. Promoter Share</td><td>0</td><td>0.00</td><td>0.00</td></tr><tr><td>Promotor Share</td><td>NMFBSP</td><td>National Microfinance Laghubitta Bittiya Sanstha Ltd. Promoter</td><td>0</td><td>0.00</td><td>0.00</td></tr><tr><td>Promotor Share</td><td>FOWADP</td><td>Forward Community Microfinance Bittiya Sanstha Ltd Promoter Share</td><td>0</td><td>100.00</td><td>0.00</td></tr><tr><td>Promotor Share</td><td>MSLBP</td><td>Mahuli Laghubitta Bittiya Sanstha Ltd Promoter</td><td>0</td><td>100.00</td><td>0.00</td></tr><tr><td>Promotor Share</td><td>HLBSLP</td><td>Himalayan Laghubitta Bittiya Sanstha Promoter</td><td>0</td><td>0.00</td><td>0.00</td></tr><tr><td>Promotor Share</td><td>MEROPO</td><td>Meromicrofinance Laghubitta Bittiya Sanstha Limited Promoter Share</td><td>0</td><td>0.00</td><td>0.00</td></tr><tr><td>Promotor Share</td><td>SNLBPO</td><td>Sarathi Nepal Laghubitta Bittiya Sanstha Limited Promoter Share</td><td>0</td><td>0.00</td><td>0.00</td></tr><tr><td>Promotor Share</td><td>KLBSLP</td><td>Kisan Lagubitta Bittiya Sanstha Limited Promoter Share</td><td>0</td><td>0.00</td><td>0.00</td></tr><tr><td>Promotor Share</td><td>HIDCLP</td><td>Hydroelectricity Investment and Development Company Limited Promoter Share</td><td>0</td><td>0.00</td><td>0.00</td></tr><tr><td>Promotor Share</td><td>SMBPO</td><td>Support Laghubitta Bittiya Sanstha Limited Promoter Share</td><td>0</td><td>0.00</td><td>0.00</td></tr><tr><td>Promotor Share</td><td>NICLBSLP</td><td>NIC ASIA Laghubitta Bittiya Sanstha Limited Promoter Share</td><td>0</td><td>0.00</td><td>0.00</td></tr><tr><td>Promotor Share</td><td>NABBCP</td><td>Narayani Development Bank Limited Promoter</td><td>0</td><td>0.00</td><td>0.00</td></tr><tr><td>Promotor Share</td><td>JBLBP</td><td>Jeevan Bikas Laghubitta Bittiya Sanstha Limited Promoter Share</td><td>0</td><td>0.00</td><td>0.00</td></tr><tr><td>Promotor Share</td><td>NSLBP</td><td>Naya Sarathi Laghubitta Bittiya Sanstha Limited Promoter Share</td><td>0</td><td>0.00</td><td>0.00</td></tr><tr><td>Promotor Share</td><td>CORBLPO</td><td>Corporate Development Bank Limited Promoter Share</td><td>0</td><td>0.00</td><td>0.00</td></tr><tr><td>Promotor Share</td><td>ACLBSLP</td><td>Aarambha Chautari Laghubitta Bittiya Sanstha Limited Promoter Share</td><td>0</td><td>0.00</td><td>0.00</td></tr><tr><td>Promotor Share</td><td>ALBSLP</td><td>Asha Laghubitta Bittiya Sanstha Ltd Promoter Share</td><td>0</td><td>0.00</td><td>0.00</td></tr><tr><td>Promotor Share</td><td>SMFBSP</td><td>Swabhimaan Laghubitta Bittiya sanstha Limited</td><td>0</td><td>0.00</td><td>0.00</td></tr><tr><td>Promotor Share</td><td>ILBSP</td><td>Infinity Laghubitta Bittiya Sanstha Limited Promoter Share</td><td>0</td><td>0.00</td><td>0.00</td></tr><tr><td>Promotor Share</td><td>SMATAP</td><td>Samata Gharelu Laghubitta Bittiya Sanstha Limited Promoter Share</td><td>0</td><td>0.00</td><td>0.00</td></tr><tr><td>Promotor Share</td><td>GILBPO</td><td>Global IME Laghubitta Bittiya Sanstha Ltd. Promoter Share</td><td>0</td><td>0.00</td><td>0.00</td></tr><tr><td>Promotor Share</td><td>SABSLPO</td><td>SABAIKO LAGHUBITTA BITTIYA SANSTHA LIMITED PROMOTER SHARE</td><td>0</td><td>0.00</td><td>0.00</td></tr><tr><td>Promotor Share</td><td>SWMFPO</td><td>Suryodaya Womi Laghubitta Bittiya Sanstha Limited Promoter</td><td>0</td><td>0.00</td><td>0.00</td></tr><tr><td>Promotor Share</td><td>USLBP</td><td>Unnati Sahakarya Laghubitta Bittiya Sanstha Limited Promoter Share</td><td>0</td><td>0.00</td><td>0.00</td></tr><tr><td>Promotor Share</td><td>HEIP</td><td>Himalayan Everest Insurance Limited Promoter</td><td>0</td><td>210.00</td><td>0.00</td></tr><tr><td>Promotor Share</td><td>AVYANP</td><td>Aviyan Laghubitta Bittiya Sanstha Limited Promotor Share</td><td>0</td><td>0.00</td><td>0.00</td></tr><tr><td>Promotor Share</td><td>NIMBPO</td><td>Nepal Investment Mega Bank Ltd. Promoter Share </td><td>183,075,408</td><td>100.00</td><td>18,307,540,800.00</td></tr><tr><td>Promotor Share</td><td>SPILPO</td><td>Siddhartha Premier Insurance Limited Promoter Share</td><td>5,480,256</td><td>0.00</td><td>287,502,300.00</td></tr><tr><td>Promotor Share</td><td>BPWP</td><td>BPW Laghubitta Bittiya Sanstha Limited Promoter Share</td><td>0</td><td>0.00</td><td>0.00</td></tr><tr><td>Promotor Share</td><td>ANLBP</td><td>Aatmanirbhar Laghubitta Bittiya Sanstha Limited Promoter Share</td><td>0</td><td>0.00</td><td>0.00</td></tr><tr><td>Promotor Share</td><td>WNLBP</td><td>Wean Nepal Laghubitta Bittiya Sanstha Limited Promoter Share</td><td>600,000</td><td>100.00</td><td>60,000,000.00</td></tr><tr><td>Promotor Share</td><td>HLIPO</td><td>Himalayan Life Insurance Limited Promoter Share</td><td>4,881,600</td><td>100.00</td><td>488,160,000.00</td></tr><tr><td>Promotor Share</td><td>SDLBSLP</td><td>Sadhana Laghubitta Bittiya Sanstha Limited Promoter Share</td><td>0</td><td>0.00</td><td>0.00</td></tr><tr><td>Promotor Share</td><td>KPCLPO</td><td> Kalika Power Company Limited Promoter Share</td><td>0</td><td>0.00</td><td>0.00</td></tr><tr><td>Promotor Share</td><td>SALICOPO</td><td>Sagarmatha Lumbini Insurance Co. Limited Promoter Share </td><td>100,000</td><td>100.00</td><td>10,000,000.00</td></tr><tr><td>Promotor Share</td><td>LSLPO</td><td>Laxmi Sunrise Bank Limited Promoter Share</td><td>4,717,008</td><td>0.00</td><td>100.00</td></tr><tr><td>Tradings</td><td>BBC</td><td>Bishal Bazar Company Limited</td><td>491,400</td><td>100.00</td><td>49,140,000.00</td></tr><tr><td>Tradings</td><td>STC</td><td>Salt Trading Corporation</td><td>2,535,312</td><td>100.00</td><td>253,531,200.00</td></tr><tr><td>Tradings</td><td>SEBON</td><td>Securities Board of Nepal</td><td>0</td><td>0.00</td><td>0.00</td></tr></tbody></table></div>"
      ]
     },
     "metadata": {
      "application/vnd.databricks.v1+output": {
       "addedWidgets": {},
       "aggData": [],
       "aggError": "",
       "aggOverflow": false,
       "aggSchema": [],
       "aggSeriesLimitReached": false,
       "aggType": "",
       "arguments": {},
       "columnCustomDisplayInfos": {},
       "data": [
        [
         "Capital",
         "GlobalIMECapital",
         "Global IME Capital Limited",
         "0",
         "0.00",
         "0.00"
        ],
        [
         "Capital",
         "ACL",
         "Aakash Capital Limited",
         "0",
         "0.00",
         "0.00"
        ],
        [
         "Capital",
         "BOKCML",
         "BOK Capital Market Limited",
         "0",
         "0.00",
         "0.00"
        ],
        [
         "Capital",
         "NIMBACL",
         "NIMB Ace Capital Limited",
         "0",
         "0.00",
         "0.00"
        ],
        [
         "Commercial Banks",
         "ADBL",
         "Agriculture Development Bank Limited",
         "134,516,741",
         "100.00",
         "13,187,915,800.00"
        ],
        [
         "Commercial Banks",
         "CZBIL",
         "Citizen Bank International Limited",
         "142,009,741",
         "100.00",
         "14,200,974,100.00"
        ],
        [
         "Commercial Banks",
         "EBL",
         "Everest Bank Limited",
         "106,980,945",
         "100.00",
         "10,698,094,500.00"
        ],
        [
         "Commercial Banks",
         "GBIME",
         "Global IME Bank Limited",
         "357,710,597",
         "100.00",
         "35,771,059,700.00"
        ],
        [
         "Commercial Banks",
         "HBL",
         "Himalayan Bank Limited",
         "216,566,158",
         "100.00",
         "14,006,223,872.00"
        ],
        [
         "Commercial Banks",
         "KBL",
         "Kumari Bank Limited",
         "262,258,613",
         "100.00",
         "26,225,861,300.00"
        ],
        [
         "Commercial Banks",
         "LBL",
         "Laxmi Bank Limited",
         "115,513,451",
         "100.00",
         "11,551,345,100.00"
        ],
        [
         "Commercial Banks",
         "MBL",
         "Machhapuchchhre Bank Limited",
         "102,571,556",
         "100.00",
         "10,257,155,600.00"
        ],
        [
         "Commercial Banks",
         "NABIL",
         "Nabil Bank Limited",
         "270,569,984",
         "100.00",
         "27,056,996,352.00"
        ],
        [
         "Commercial Banks",
         "NBL",
         "Nepal Bank Limited",
         "146,940,224",
         "100.00",
         "4,000,000,000.00"
        ],
        [
         "Commercial Banks",
         "NICA",
         "NIC Asia Bank Ltd.",
         "115,640,056",
         "100.00",
         "11,564,005,600.00"
        ],
        [
         "Commercial Banks",
         "NMB",
         "NMB Bank Limited",
         "183,667,060",
         "100.00",
         "18,366,706,000.00"
        ],
        [
         "Commercial Banks",
         "PCBL",
         "Prime Commercial Bank Ltd.",
         "194,025,760",
         "100.00",
         "19,402,575,872.00"
        ],
        [
         "Commercial Banks",
         "SANIMA",
         "Sanima Bank Limited",
         "124,601,152",
         "100.00",
         "12,460,114,944.00"
        ],
        [
         "Commercial Banks",
         "SBI",
         "Nepal SBI Bank Limited",
         "101,206,288",
         "100.00",
         "10,120,629,248.00"
        ],
        [
         "Commercial Banks",
         "SBL",
         "Siddhartha Bank Limited",
         "140,899,808",
         "100.00",
         "14,089,979,904.00"
        ],
        [
         "Commercial Banks",
         "SCB",
         "Standard Chartered Bank Limited",
         "94,294,539",
         "100.00",
         "9,429,453,900.00"
        ],
        [
         "Commercial Banks",
         "SRBL",
         "Sunrise Bank Limited",
         "101,188,929",
         "100.00",
         "10,118,892,900.00"
        ],
        [
         "Commercial Banks",
         "PRVU",
         "Prabhu Bank Limited",
         "135,347,696",
         "100.00",
         "13,534,770,176.00"
        ],
        [
         "Commercial Banks",
         "RBB",
         "Rastriya Banijya Bank Limited",
         "0",
         "0.00",
         "0.00"
        ],
        [
         "Commercial Banks",
         "NIMB",
         "Nepal Investment Mega Bank Limited ",
         "341,285,949",
         "100.00",
         "34,128,594,900.00"
        ],
        [
         "Commercial Banks",
         "LSL",
         "Laxmi Sunrise Bank Limited",
         "216,702,379",
         "100.00",
         "21,670,237,900.00"
        ],
        [
         "Corporate Debenture",
         "EBLB2079",
         "Everest Bank Limited--2079",
         "468,850",
         "100.00",
         "46,885,000.00"
        ],
        [
         "Corporate Debenture",
         "GBIMEB2076",
         "Global IME Bank -2076",
         "400,000",
         "100.00",
         "40,000,000.00"
        ],
        [
         "Corporate Debenture",
         "SBIB2079",
         "Nepal SBI Bank - 2079",
         "400,000",
         "100.00",
         "40,000,000.00"
        ],
        [
         "Corporate Debenture",
         "SBLB2076",
         "Siddhartha Bank Ltd. Bond -2076",
         "303,520",
         "100.00",
         "30,352,000.00"
        ],
        [
         "Corporate Debenture",
         "SAND2085",
         "10% Sanima Bank Limited Debenture",
         "2,000,000",
         "1,000.00",
         "2,000,000,000.00"
        ],
        [
         "Corporate Debenture",
         "NICAD 85/86",
         "NIC Asia Debenture 2085/86",
         "2,404,688",
         "1,000.00",
         "2,404,688,000.00"
        ],
        [
         "Corporate Debenture",
         "NICAD8283",
         "11% NIC Asia Debenture 082/83",
         "0",
         "0.00",
         "0.00"
        ],
        [
         "Corporate Debenture",
         "SBLD2082",
         "10.50% SBL Debenture 2082",
         "0",
         "0.00",
         "0.00"
        ],
        [
         "Corporate Debenture",
         "NMBD2085",
         "10% NMB DEBENTURE 2085",
         "0",
         "0.00",
         "0.00"
        ],
        [
         "Corporate Debenture",
         "SRD80",
         "10% Sunrise Debenture 2080",
         "1,000,000",
         "1,000.00",
         "1,000,000,000.00"
        ],
        [
         "Corporate Debenture",
         "NICD83/84",
         "10.25% NIC Asia Debenture 2083/84",
         "0",
         "0.00",
         "0.00"
        ],
        [
         "Corporate Debenture",
         "PBLD86",
         "10.25% Prabhu Bank Debenture 2086",
         "0",
         "0.00",
         "0.00"
        ],
        [
         "Corporate Debenture",
         "SBLD83",
         "10.25% SBL Debenture 2083",
         "2,401,482",
         "1,000.00",
         "2,401,482,000.00"
        ],
        [
         "Corporate Debenture",
         "SRBLD83",
         "10.25% Sunrise Bank Debenture 2083",
         "0",
         "0.00",
         "0.00"
        ],
        [
         "Corporate Debenture",
         "BOKD2079",
         "8% BOK Debenture 2079",
         "0",
         "0.00",
         "0.00"
        ],
        [
         "Corporate Debenture",
         "NIBD2082",
         "10.5% Nepal Investment Debenture 2082",
         "0",
         "0.00",
         "0.00"
        ],
        [
         "Corporate Debenture",
         "KBLD86",
         "10.25% Kumari Bank Debenture 2086",
         "3,000,000",
         "1,000.00",
         "3,000,000,000.00"
        ],
        [
         "Corporate Debenture",
         "SBIBD86",
         "10% Nepal SBI Bank Debenture 2086",
         "0",
         "0.00",
         "0.00"
        ],
        [
         "Corporate Debenture",
         "GBD80/81",
         "10.25% Global IME Bank Limited Debenture 2080/81",
         "103,105,160",
         "1,000.00",
         "103,105,160,000.00"
        ],
        [
         "Corporate Debenture",
         "PBLD84",
         "10% Prabhu Bank Debenture 2084 ",
         "0",
         "0.00",
         "0.00"
        ],
        [
         "Corporate Debenture",
         "BOKD2086",
         "8.5% Bank of Kathmadu Limited 2086",
         "0",
         "0.00",
         "0.00"
        ],
        [
         "Corporate Debenture",
         "HBLD83",
         "10% Himalayan Bank Debenture 2083",
         "0",
         "0.00",
         "0.00"
        ],
        [
         "Corporate Debenture",
         "BOKD86",
         "8.5% BOK Debenture 2086",
         "1,600,000",
         "1,000.00",
         "1,600,000,000.00"
        ],
        [
         "Corporate Debenture",
         "NICAD8182",
         "9% NIC Asia Debenture 2081/82",
         "0",
         "0.00",
         "0.00"
        ],
        [
         "Corporate Debenture",
         "NIBD2084",
         "8.5% Nepal Investment Bank Bond ",
         "0",
         "0.00",
         "0.00"
        ],
        [
         "Corporate Debenture",
         "ICFCD83",
         "12% ICFC Finance Limited Debenture 2083",
         "200,000",
         "1,000.00",
         "200,000,000.00"
        ],
        [
         "Corporate Debenture",
         "GWFD83",
         "12% Goodwill finance Debenture 2083",
         "0",
         "0.00",
         "0.00"
        ],
        [
         "Corporate Debenture",
         "PBD85",
         "8.75% Prime Commercial Bank Debenture 2085",
         "2,447,963",
         "1,000.00",
         "2,447,963,000.00"
        ],
        [
         "Corporate Debenture",
         "GBILD86/87",
         "8.5% Global IME Bank Limited Debenture 2086/87",
         "3,000,000",
         "1,000.00",
         "3,000,000,000.00"
        ],
        [
         "Corporate Debenture",
         "NBBD2085",
         "10.25% NBB Debenture 2085",
         "0",
         "0.00",
         "0.00"
        ],
        [
         "Corporate Debenture",
         "MFLD85",
         "9.5% Manjushree Finance Limited Debenture 2085",
         "500,000",
         "1,000.00",
         "500,000,000.00"
        ],
        [
         "Corporate Debenture",
         "NBR2087",
         "8.5% Nepal Bank Rinpatra 2087",
         "3,500,000",
         "1,000.00",
         "3,500,000,000.00"
        ],
        [
         "Corporate Debenture",
         "MBLD2085",
         "10.25% Machhapuchhre Bank Debenture 2085",
         "0",
         "0.00",
         "0.00"
        ],
        [
         "Corporate Debenture",
         "LBLD86",
         "10% Laxmi Bank Debenture 2086",
         "0",
         "0.00",
         "0.00"
        ],
        [
         "Corporate Debenture",
         "ADBLD83",
         "10.35% Agricultural Bank Debenture 2083",
         "0",
         "0.00",
         "0.00"
        ],
        [
         "Corporate Debenture",
         "NMBD87/88",
         "8.50% NMB Rinpatra 2087/88",
         "2,000,000",
         "1,000.00",
         "2,000,000,000.00"
        ],
        [
         "Corporate Debenture",
         "PBLD87",
         "8.5% Prabhu Bank Debenture 2087",
         "2,650,000",
         "1,000.00",
         "2,650,000,000.00"
        ],
        [
         "Corporate Debenture",
         "NMBEB92/93",
         "4% NMB Urja Rinpatra (Energy Bond) 2092/93",
         "1,500,000",
         "1,000.00",
         "1,500,000,000.00"
        ],
        [
         "Corporate Debenture",
         "NBLD82",
         "10% Nabil Debenture 2082",
         "0",
         "0.00",
         "0.00"
        ],
        [
         "Corporate Debenture",
         "RBBD83",
         "8.5% RBBL Debenture 2083",
         "0",
         "0.00",
         "0.00"
        ],
        [
         "Corporate Debenture",
         "SBD87",
         "8.5% Sanima Debenture 2087",
         "0",
         "0.00",
         "0.00"
        ],
        [
         "Corporate Debenture",
         "SBLD84",
         "8.5% SBL Debenture 2084",
         "0",
         "0.00",
         "0.00"
        ],
        [
         "Corporate Debenture",
         "SDBD87",
         "9% Shangri-la Development Bank Debenture 2087",
         "750,000",
         "1,000.00",
         "750,000,000.00"
        ],
        [
         "Corporate Debenture",
         "NICD88",
         "8.5% NIC Asia Rinpatra 2088",
         "1,573,872",
         "1,000.00",
         "1,573,872,000.00"
        ],
        [
         "Corporate Debenture",
         "JBBD87",
         "9% Jyoti Bikas Bank Bond",
         "1,500,000",
         "1,000.00",
         "1,500,000,000.00"
        ],
        [
         "Corporate Debenture",
         "LBLD88",
         "8.5% Laxmi Bank Debenture 2088",
         "2,000,000",
         "1,000.00",
         "2,000,000,000.00"
        ],
        [
         "Corporate Debenture",
         "MBLD87",
         "8.50% Machhapuchchhre Debenture 2087\t",
         "3,000,000",
         "1,000.00",
         "3,000,000,000.00"
        ],
        [
         "Corporate Debenture",
         "MND84/85",
         "8.75% Muktinath Debenture/Rinpatra 2084/85",
         "1,250,000",
         "1,000.00",
         "1,250,000,000.00"
        ],
        [
         "Corporate Debenture",
         "NBLD85",
         "8% Nabil Debenture 2085",
         "3,000,000",
         "1,000.00",
         "3,000,000,000.00"
        ],
        [
         "Corporate Debenture",
         "NCCD86",
         "9.5% NCC Debenture 2086",
         "0",
         "0.00",
         "0.00"
        ],
        [
         "Corporate Debenture",
         "GBBD85",
         "Garima Debenture, 2085",
         "1,000,000",
         "1,000.00",
         "1,000,000,000.00"
        ],
        [
         "Corporate Debenture",
         "NIBD84",
         "8.5% Nepal Investment Bank Debenture 2084",
         "4,000,000",
         "1,000.00",
         "4,000,000,000.00"
        ],
        [
         "Corporate Debenture",
         "CBLD88",
         "Civil Bank Debenture 2088",
         "3,000,000",
         "1,000.00",
         "3,000,000,000.00"
        ],
        [
         "Corporate Debenture",
         "EBLD86",
         "8.5% of Everest Bank Limited Debenture 2086",
         "2,000,000",
         "1,000.00",
         "2,000,000,000.00"
        ],
        [
         "Corporate Debenture",
         "PBD88",
         "10% Prime Debenture 2088",
         "1,741,884",
         "1,000.00",
         "1,741,884,000.00"
        ],
        [
         "Corporate Debenture",
         "NBLD87",
         "8.5% Nepal Bank Debenture 2087",
         "3,500,000",
         "1,000.00",
         "3,500,000,000.00"
        ],
        [
         "Corporate Debenture",
         "NMBUR93/94",
         "4% NMB Urja Rinpatra (Energy Bond II) 4%-2093/94",
         "2,727,437",
         "1,000.00",
         "2,727,437,000.00"
        ],
        [
         "Corporate Debenture",
         "CCBD88",
         "Century Debenture 2088",
         "2,200,000",
         "1,000.00",
         "2,200,000,000.00"
        ],
        [
         "Corporate Debenture",
         "PBD84",
         "10.15% Prime Debenture 2084\t",
         "5,000,000",
         "1,000.00",
         "5,000,000,000.00"
        ],
        [
         "Corporate Debenture",
         "SBLD89",
         "10.75% SBL Debenture 2089",
         "4,000,000",
         "1,000.00",
         "4,000,000,000.00"
        ],
        [
         "Corporate Debenture",
         "SBD89",
         "10.25% Sanima Debenture 2089",
         "5,000,000",
         "1,000.00",
         "5,000,000,000.00"
        ],
        [
         "Corporate Debenture",
         "EBLD85",
         "Everest Bank Limited Rinpatra 2085",
         "2,000,000",
         "1,000.00",
         "2,000,000,000.00"
        ],
        [
         "Corporate Debenture",
         "BOKD86KA",
         "BOK Debenture 2086 (Ka)",
         "1,100,000",
         "1,000.00",
         "1,100,000,000.00"
        ],
        [
         "Corporate Debenture",
         "HBLD86",
         "Himalayan Bank Limited Bond 2086",
         "2,500,000",
         "1,000.00",
         "2,500,000,000.00"
        ],
        [
         "Corporate Debenture",
         "KBLD89",
         "11% KBL Debenture 2089",
         "3,000,000",
         "1,000.00",
         "3,000,000,000.00"
        ],
        [
         "Corporate Debenture",
         "SBID83",
         "10.25% Nepal SBI Bank Debenture 2083",
         "0",
         "0.00",
         "0.00"
        ],
        [
         "Corporate Debenture",
         "NIFRAUR85/86",
         "Nifra Urja 7% -2085/86",
         "5,000,000",
         "1,000.00",
         "5,000,000,000.00"
        ],
        [
         "Corporate Debenture",
         "SCBD",
         "10.30% Standard Chartered Bank Nepal Limited Rinpatra",
         "2,400,000",
         "1,000.00",
         "2,400,000,000.00"
        ],
        [
         "Corporate Debenture",
         "GBILD84/85",
         "Global IME Bank Debenture 2084/85",
         "5,000,000",
         "1,000.00",
         "5,000,000,000.00"
        ],
        [
         "Corporate Debenture",
         "NMBD89/90",
         "NMB Debenture 10.75%-2089/2090",
         "4,000,000",
         "1,000.00",
         "4,000,000,000.00"
        ],
        [
         "Corporate Debenture",
         "MLBLD89",
         "11% Mahalaxmi Debenture-2089",
         "1,000,000",
         "1,000.00",
         "1,000,000,000.00"
        ],
        [
         "Corporate Debenture",
         "EBLE89",
         "Everest Bank Limited Urja Rinpatra 2089",
         "746,830",
         "1,000.00",
         "746,830,000.00"
        ],
        [
         "Corporate Debenture",
         "LBBLD89",
         "11% L.B.B.L Debenture 2089",
         "1,000,000",
         "1,000.00",
         "1,000,000,000.00"
        ],
        [
         "Corporate Debenture",
         "CIZBD86",
         "10.25% Citizens Bank Debenture 2086",
         "2,500,000",
         "1,000.00",
         "2,500,000,000.00"
        ],
        [
         "Development Bank Limited",
         "CORBL",
         "Corporate Development Bank Limited",
         "5,250,000",
         "100.00",
         "525,000,000.00"
        ],
        [
         "Development Bank Limited",
         "EDBL",
         "Excel Development Bank Ltd.",
         "12,496,945",
         "100.00",
         "1,249,694,464.00"
        ],
        [
         "Development Bank Limited",
         "GBBL",
         "Garima Bikas Bank Limited",
         "51,752,784",
         "100.00",
         "5,175,278,592.00"
        ],
        [
         "Development Bank Limited",
         "JBBL",
         "Jyoti Bikas Bank Limited",
         "43,957,860",
         "100.00",
         "4,395,786,000.00"
        ],
        [
         "Development Bank Limited",
         "KRBL",
         "Karnali Development Bank Limited",
         "5,300,100",
         "100.00",
         "530,010,000.00"
        ],
        [
         "Development Bank Limited",
         "MDB",
         "Miteri Development Bank Limited",
         "10,150,015",
         "100.00",
         "1,015,001,472.00"
        ],
        [
         "Development Bank Limited",
         "MNBBL",
         "Muktinath Bikas Bank Ltd.",
         "64,209,004",
         "100.00",
         "6,420,900,352.00"
        ],
        [
         "Development Bank Limited",
         "NABBC",
         "Narayani Development Bank Limited",
         "2,624,676",
         "100.00",
         "262,467,600.00"
        ],
        [
         "Development Bank Limited",
         "SADBL",
         "Shangrila Development Bank Ltd.",
         "30,106,697",
         "100.00",
         "3,010,669,700.00"
        ],
        [
         "Development Bank Limited",
         "SHINE",
         "Shine Resunga Development Bank Ltd.",
         "42,838,832",
         "100.00",
         "4,283,883,264.00"
        ],
        [
         "Development Bank Limited",
         "SINDU",
         "Sindhu Bikash Bank Ltd",
         "5,574,561",
         "100.00",
         "557,456,100.00"
        ],
        [
         "Development Bank Limited",
         "GRDBL",
         "Green Development Bank Ltd.",
         "5,190,000",
         "100.00",
         "519,000,000.00"
        ],
        [
         "Development Bank Limited",
         "MLBL",
         "Mahalaxmi Bikas Bank Ltd.",
         "41,713,184",
         "100.00",
         "4,171,318,528.00"
        ],
        [
         "Development Bank Limited",
         "LBBL",
         "Lumbini Bikas Bank Ltd.",
         "33,828,216",
         "100.00",
         "3,382,821,376.00"
        ],
        [
         "Development Bank Limited",
         "KSBBL",
         "Kamana Sewa Bikas Bank Limited",
         "31,425,771",
         "100.00",
         "3,142,577,100.00"
        ],
        [
         "Development Bank Limited",
         "SAPDBL",
         "Saptakoshi Development Bank Ltd",
         "8,343,385",
         "100.00",
         "834,338,500.00"
        ],
        [
         "Finance",
         "CFCL",
         "Central Finance Co. Ltd.",
         "9,488,756",
         "100.00",
         "948,875,584.00"
        ],
        [
         "Finance",
         "GFCL",
         "Goodwill Finance Co. Ltd.",
         "9,461,152",
         "100.00",
         "946,115,200.00"
        ],
        [
         "Finance",
         "GMFIL",
         "Guheshowori Merchant Bank & Finance Co. Ltd.",
         "10,121,760",
         "100.00",
         "1,012,176,000.00"
        ],
        [
         "Finance",
         "ICFC",
         "ICFC Finance Limited",
         "11,834,710",
         "100.00",
         "1,183,470,976.00"
        ],
        [
         "Finance",
         "JFL",
         "Janaki Finance Ltd.",
         "6,904,728",
         "100.00",
         "690,472,832.00"
        ],
        [
         "Finance",
         "MFIL",
         "Manjushree Finance Ltd.",
         "13,515,529",
         "100.00",
         "1,351,552,896.00"
        ],
        [
         "Finance",
         "MPFL",
         "Multipurpose Finance Company Limited",
         "4,520,000",
         "100.00",
         "452,000,000.00"
        ],
        [
         "Finance",
         "NFS",
         "Nepal Finance Ltd.",
         "8,389,439",
         "100.00",
         "838,943,872.00"
        ],
        [
         "Finance",
         "PFL",
         "Pokhara Finance Ltd.",
         "10,825,567",
         "100.00",
         "1,082,556,672.00"
        ],
        [
         "Finance",
         "PROFL",
         "Progressive Finance Limited",
         "8,561,070",
         "100.00",
         "856,107,008.00"
        ],
        [
         "Finance",
         "SIFC",
         "Shree Investment Finance Co. Ltd.",
         "9,816,832",
         "100.00",
         "981,683,200.00"
        ],
        [
         "Finance",
         "RLFL",
         "Reliance Finance Ltd.",
         "10,530,064",
         "100.00",
         "1,053,006,400.00"
        ],
        [
         "Finance",
         "GUFL",
         "Gurkhas Finance Ltd.",
         "8,679,937",
         "100.00",
         "867,993,700.00"
        ],
        [
         "Finance",
         "BFC",
         "Best Finance Company Ltd.",
         "8,289,138",
         "100.00",
         "828,913,800.00"
        ],
        [
         "Finance",
         "SFCL",
         "Samriddhi Finance Company Limited",
         "8,189,114",
         "100.00",
         "818,911,400.00"
        ],
        [
         "Government Bond",
         "NRBBR2067",
         "Bikash Rinpatra 2067",
         "5,000,000",
         "100.00",
         "500,000,000.00"
        ],
        [
         "Government Bond",
         "NRBBR2067ga",
         "Bikash Rinpatra 2067 Ga",
         "7,500,000",
         "100.00",
         "750,000,000.00"
        ],
        [
         "Government Bond",
         "NRBBR2067ka",
         "Bikash Rinpatra 2067 Ka",
         "10,000,000",
         "100.00",
         "1,000,000,000.00"
        ],
        [
         "Government Bond",
         "NRBBR2067kha",
         "Bikash Rinpatra 2067 Kha",
         "7,500,000",
         "100.00",
         "750,000,000.00"
        ],
        [
         "Government Bond",
         "NRBBR2069",
         "Bikash Rinpatra 2069",
         "15,000,000",
         "100.00",
         "1,500,000,000.00"
        ],
        [
         "Government Bond",
         "NRBBR2071ka",
         "Bikash Rinpatra 2071 Ka",
         "20,000,000",
         "100.00",
         "2,000,000,000.00"
        ],
        [
         "Government Bond",
         "NRBBR2071Kha",
         "Bikash Rinpatra 2071 Kha",
         "30,000,000",
         "100.00",
         "3,000,000,000.00"
        ],
        [
         "Government Bond",
         "NRBBR2072",
         "Bikash Rinpatra 2072",
         "7,500,000",
         "100.00",
         "750,000,000.00"
        ],
        [
         "Government Bond",
         "NRBBR2072ka",
         "Bikash Rinpatra 2072 Ka",
         "15,000,000",
         "100.00",
         "1,500,000,000.00"
        ],
        [
         "Government Bond",
         "NRBBR2073 KA",
         "Bikash Rinpatra 2073 Ka",
         "27,500,000",
         "100.00",
         "2,750,000,000.00"
        ],
        [
         "Government Bond",
         "NRBBR2075",
         "Bikash Rinpatra 2075",
         "12,000,000",
         "100.00",
         "1,200,000,000.00"
        ],
        [
         "Government Bond",
         "NRBBR2075ka",
         "Bikash Rinpatra 2075 Ka",
         "21,000,000",
         "100.00",
         "2,100,000,000.00"
        ],
        [
         "Government Bond",
         "NRBBR2076",
         "Bikash Rinpatra 2076",
         "22,000,000",
         "100.00",
         "2,200,000,000.00"
        ],
        [
         "Government Bond",
         "NRBBR2076Ga",
         "Bikash Rinpatra 2076 Ga",
         "4,600,000",
         "100.00",
         "460,000,000.00"
        ],
        [
         "Government Bond",
         "NRBBR2076ka",
         "Bikash Rinpatra 2076 Ka",
         "9,000,000",
         "100.00",
         "900,000,000.00"
        ],
        [
         "Government Bond",
         "NRBBR2076Kha",
         "Bikash Rinpatra 2076 Kha",
         "10,400,000",
         "100.00",
         "1,040,000,000.00"
        ],
        [
         "Government Bond",
         "9%CSB2082",
         "Nepal Rastra Bank Nagarik Bachatpatra 2082 Ka",
         "0",
         "0.00",
         "0.00"
        ],
        [
         "Government Bond",
         "NRBBR2085Gha",
         "Bikash Rinpatra 2085 Gha",
         "0",
         "0.00",
         "0.00"
        ],
        [
         "Government Bond",
         "9%CSB2083",
         "Nepal Rastra Bank Nagarik Bachatpatra 2083 (5 Years)",
         "0",
         "0.00",
         "0.00"
        ],
        [
         "Government Bond",
         "NRBBR2083Gha",
         "Nepal Rastra Bank Bikash Rinpatra 2083 Gha",
         "0",
         "0.00",
         "0.00"
        ],
        [
         "Hotels And Tourism",
         "OHL",
         "Oriental Hotels Limited",
         "11,280,905",
         "100.00",
         "1,128,090,500.00"
        ],
        [
         "Hotels And Tourism",
         "SHL",
         "Soaltee Hotel Limited",
         "88,471,506",
         "10.00",
         "8,847,150,600.00"
        ],
        [
         "Hotels And Tourism",
         "TRH",
         "Taragaon Regency Hotel Limited",
         "18,866,540",
         "100.00",
         "1,886,654,000.00"
        ],
        [
         "Hotels And Tourism",
         "CGH",
         "Chandragiri Hills Limited",
         "15,340,910",
         "100.00",
         "1,534,091,000.00"
        ],
        [
         "Hotels And Tourism",
         "KDL",
         "Kalinchowk Darshan Limited",
         "6,000,000",
         "100.00",
         "600,000,000.00"
        ],
        [
         "Hotels And Tourism",
         "CITY",
         "City Hotel Limited",
         "16,740,000",
         "100.00",
         "1,674,000,000.00"
        ],
        [
         "Hydro Power",
         "AHPC",
         "Arun Valley Hydropower Development Co. Ltd.",
         "18,679,626",
         "100.00",
         "1,867,962,600.00"
        ],
        [
         "Hydro Power",
         "BPCL",
         "Butwal Power Company Limited",
         "34,086,432",
         "100.00",
         "3,408,643,072.00"
        ],
        [
         "Hydro Power",
         "CHCL",
         "Chilime Hydropower Company Limited",
         "72,581,792",
         "100.00",
         "7,258,179,584.00"
        ],
        [
         "Hydro Power",
         "NHPC",
         "National Hydro Power Company Limited",
         "16,417,919",
         "100.00",
         "1,641,791,872.00"
        ],
        [
         "Hydro Power",
         "SHPC",
         "Sanima Mai Hydropower Ltd.",
         "30,892,510",
         "100.00",
         "3,089,251,000.00"
        ],
        [
         "Hydro Power",
         "RHPC",
         "Ridi Hydropower Development Company Ltd.",
         "3,300,000",
         "100.00",
         "330,000,000.00"
        ],
        [
         "Hydro Power",
         "HURJA",
         "Himalaya Urja Bikas Company Limited",
         "9,900,000",
         "100.00",
         "990,000,000.00"
        ],
        [
         "Hydro Power",
         "AKPL",
         "Arun Kabeli Power Ltd.",
         "20,407,316",
         "100.00",
         "2,040,731,600.00"
        ],
        [
         "Hydro Power",
         "BARUN",
         "Barun Hydropower Co. Ltd.",
         "5,358,150",
         "100.00",
         "535,815,000.00"
        ],
        [
         "Hydro Power",
         "API",
         "Api Power Company Ltd.",
         "41,332,842",
         "100.00",
         "4,133,284,200.00"
        ],
        [
         "Hydro Power",
         "NGPL",
         "Ngadi Group Power Ltd.",
         "18,512,792",
         "100.00",
         "1,851,279,200.00"
        ],
        [
         "Hydro Power",
         "MHL",
         "Mandakini Hydropower Limited",
         "5,880,369",
         "100.00",
         "588,036,900.00"
        ],
        [
         "Hydro Power",
         "NYADI",
         "Nyadi Hydropower Limited",
         "15,000,000",
         "100.00",
         "1,500,000,000.00"
        ],
        [
         "Hydro Power",
         "SJCL",
         "SANJEN JALAVIDHYUT COMPANY LIMITED",
         "32,850,000",
         "100.00",
         "3,285,000,000.00"
        ],
        [
         "Hydro Power",
         "RHPL",
         "RASUWAGADHI HYDROPOWER COMPANY LIMITED",
         "61,578,900",
         "100.00",
         "6,157,890,000.00"
        ],
        [
         "Hydro Power",
         "UMHL",
         "United Modi Hydropower Ltd.",
         "11,500,000",
         "100.00",
         "1,150,000,000.00"
        ],
        [
         "Hydro Power",
         "DORDI",
         "Dordi Khola Jal Bidyut Company Limited",
         "10,542,604",
         "100.00",
         "1,054,260,400.00"
        ],
        [
         "Hydro Power",
         "PHCL",
         "Peoples Hydropower Company Limited",
         "32,000,000",
         "100.00",
         "3,200,000,000.00"
        ],
        [
         "Hydro Power",
         "PPL",
         "People's Power Limited",
         "6,326,000",
         "100.00",
         "632,600,000.00"
        ],
        [
         "Hydro Power",
         "UPCL",
         "UNIVERSAL POWER COMPANY LTD",
         "21,003,500",
         "100.00",
         "2,100,350,000.00"
        ],
        [
         "Hydro Power",
         "SPL",
         "Shuvam Power Company Limited",
         "2,000,000",
         "100.00",
         "200,000,000.00"
        ],
        [
         "Hydro Power",
         "SPDL",
         "Synergy Power Development Ltd.",
         "8,065,750",
         "100.00",
         "806,574,976.00"
        ],
        [
         "Hydro Power",
         "MKJC",
         "Mailung Khola Jal Vidhyut Company  Limited",
         "3,681,430",
         "100.00",
         "368,143,000.00"
        ],
        [
         "Hydro Power",
         "SAHAS",
         "Sahas Urja Limited",
         "35,000,000",
         "100.00",
         "3,500,000,000.00"
        ],
        [
         "Hydro Power",
         "KKHC",
         "Khanikhola Hydropower Co. Ltd.",
         "4,657,143",
         "100.00",
         "465,714,300.00"
        ],
        [
         "Hydro Power",
         "HPPL",
         "Himalayan Power Partner Ltd.",
         "10,654,170",
         "100.00",
         "1,065,417,000.00"
        ],
        [
         "Hydro Power",
         "DHPL",
         "Dibyashwori Hydropower Ltd.",
         "2,640,000",
         "100.00",
         "264,000,000.00"
        ],
        [
         "Hydro Power",
         "BHPL",
         "Barahi Hydropower Public Limited",
         "2,500,000",
         "100.00",
         "250,000,000.00"
        ],
        [
         "Hydro Power",
         "MHNL",
         "Mountain Hydro Nepal Limited",
         "12,500,000",
         "100.00",
         "1,250,000,000.00"
        ],
        [
         "Hydro Power",
         "CHL",
         "Chhyangdi Hydropower Ltd.",
         "3,869,775",
         "100.00",
         "386,977,500.00"
        ],
        [
         "Hydro Power",
         "USHL",
         "Upper Syange  Hydropower Limited",
         "2,200,000",
         "100.00",
         "220,000,000.00"
        ],
        [
         "Hydro Power",
         "SPHL",
         "Sayapatri Hydropower Limited",
         "900,000",
         "0.00",
         "300,000,000.00"
        ],
        [
         "Hydro Power",
         "NHDL",
         "Nepal Hydro Developers Ltd.",
         "3,359,265",
         "100.00",
         "335,926,496.00"
        ],
        [
         "Hydro Power",
         "RADHI",
         "Radhi Bidyut Company Ltd",
         "16,759,799",
         "100.00",
         "1,675,979,900.00"
        ],
        [
         "Hydro Power",
         "BNHC",
         "Buddhabhumi Nepal Hydropower Company Limited",
         "4,000,000",
         "100.00",
         "400,000,000.00"
        ],
        [
         "Hydro Power",
         "RHGCL",
         "Rapti Hydro and General Construction Limited",
         "6,127,938",
         "100.00",
         "612,793,792.00"
        ],
        [
         "Hydro Power",
         "KPCL",
         "Kalika power Company Ltd",
         "7,935,000",
         "100.00",
         "793,500,000.00"
        ],
        [
         "Hydro Power",
         "TAMOR",
         "Sanima Middle Tamor Hydropower Limited",
         "33,325,000",
         "100.00",
         "3,332,500,000.00"
        ],
        [
         "Hydro Power",
         "GHL",
         "Ghalemdi Hydro Limited",
         "5,500,000",
         "100.00",
         "550,000,000.00"
        ],
        [
         "Hydro Power",
         "EHPL",
         "Eastern Hydropower Limited",
         "6,200,000",
         "100.00",
         "620,000,000.00"
        ],
        [
         "Hydro Power",
         "MKHC",
         "Maya Khola Hydropower Company Limited",
         "10,000,000",
         "100.00",
         "1,000,000,000.00"
        ],
        [
         "Hydro Power",
         "BEDC",
         " Bhugol Energy Development Company Limited ",
         "5,440,534",
         "100.00",
         "544,053,400.00"
        ],
        [
         "Hydro Power",
         "PMHPL",
         "Panchakanya Mai Hydropower Ltd",
         "11,000,000",
         "100.00",
         "1,100,000,000.00"
        ],
        [
         "Hydro Power",
         "KBSH",
         "Kutheli Bukhari Small Hydropower Limited",
         "1,218,657",
         "100.00",
         "121,865,700.00"
        ],
        [
         "Hydro Power",
         "MBJC",
         "Madhya Bhotekoshi Jalavidyut Company Limited",
         "60,000,000",
         "100.00",
         "6,000,000,000.00"
        ],
        [
         "Hydro Power",
         "GLH",
         "Greenlife Hydropower Limited",
         "18,000,000",
         "100.00",
         "1,800,000,000.00"
        ],
        [
         "Hydro Power",
         "USHEC",
         "Upper Solu Hydro Electric Company Limited ",
         "13,500,000",
         "100.00",
         "1,350,000,000.00"
        ],
        [
         "Hydro Power",
         "AKJCL",
         "Ankhu Khola Jalvidhyut Company Ltd",
         "8,000,000",
         "100.00",
         "800,000,000.00"
        ],
        [
         "Hydro Power",
         "LEC",
         "Liberty Energy Company Limited",
         "15,000,000",
         "100.00",
         "1,500,000,000.00"
        ],
        [
         "Hydro Power",
         "TPC",
         "Terhathum Power Company Limited",
         "4,000,000",
         "100.00",
         "400,000,000.00"
        ],
        [
         "Hydro Power",
         "SHEL",
         "Singati Hydro Energy Limited",
         "14,500,000",
         "100.00",
         "1,450,000,000.00"
        ],
        [
         "Hydro Power",
         "PPCL",
         "Panchthar Power Company Limited",
         "9,625,000",
         "100.00",
         "962,500,000.00"
        ],
        [
         "Hydro Power",
         "TSHL",
         "Three Star Hydropower Limited",
         "4,925,000",
         "100.00",
         "492,500,000.00"
        ],
        [
         "Hydro Power",
         "SSHL",
         "Shiva Shree Hydropower Limited",
         "14,764,000",
         "100.00",
         "1,476,400,000.00"
        ],
        [
         "Hydro Power",
         "JOSHI",
         "Joshi Hydropower Development Company Ltd",
         "3,714,000",
         "100.00",
         "371,400,000.00"
        ],
        [
         "Hydro Power",
         "UPPER",
         "Upper Tamakoshi Hydropower Ltd",
         "105,900,000",
         "100.00",
         "10,590,000,000.00"
        ],
        [
         "Hydro Power",
         "UNHPL",
         "Union Hydropower Limited",
         "7,500,000",
         "100.00",
         "750,000,000.00"
        ],
        [
         "Hydro Power",
         "SPC",
         "Samling Power Company Limited",
         "5,000,000",
         "100.00",
         "500,000,000.00"
        ],
        [
         "Hydro Power",
         "SGHC",
         "Swet-Ganga Hydropower & Construction Limited ",
         "15,930,000",
         "100.00",
         "1,592,999,936.00"
        ],
        [
         "Hydro Power",
         "AHL",
         "Asian Hydropower Limited",
         "3,400,000",
         "100.00",
         "340,000,000.00"
        ],
        [
         "Hydro Power",
         "BHDC",
         "Bindyabasini Hydropower Development Company Limited",
         "10,000,000",
         "100.00",
         "1,000,000,000.00"
        ],
        [
         "Hydro Power",
         "HDHPC",
         "Himal Dolakha Hydropower Company Limited",
         "16,000,000",
         "100.00",
         "1,600,000,000.00"
        ],
        [
         "Hydro Power",
         "MHCL",
         "Molung Hydropower Company Limited",
         "8,025,000",
         "100.00",
         "802,500,000.00"
        ],
        [
         "Hydro Power",
         "SMH",
         "Super Mai Hydropower Limited",
         "5,000,000",
         "100.00",
         "500,000,000.00"
        ],
        [
         "Hydro Power",
         "RFPL",
         "River Falls Power Limited",
         "7,000,000",
         "100.00",
         "700,000,000.00"
        ],
        [
         "Hydro Power",
         "MEN",
         "Mountain Energy Nepal Limited",
         "19,680,270",
         "100.00",
         "1,968,027,000.00"
        ],
        [
         "Hydro Power",
         "UHEWA",
         "Upper Hewakhola Hydropower Company Limited",
         "5,000,000",
         "100.00",
         "500,000,000.00"
        ],
        [
         "Hydro Power",
         "HHL",
         "Himalayan Hydropower Limited",
         "10,950,000",
         "100.00",
         "1,095,000,000.00"
        ],
        [
         "Hydro Power",
         "UMRH",
         "United IDI Mardi RB Hydropower Limited.",
         "4,200,000",
         "100.00",
         "420,000,000.00"
        ],
        [
         "Hydro Power",
         "SIKLES",
         "Sikles Hydropower Limited",
         "8,500,000",
         "100.00",
         "850,000,000.00"
        ],
        [
         "Hydro Power",
         "MEL",
         "Modi Energy Limited",
         "29,000,000",
         "100.00",
         "2,900,000,000.00"
        ],
        [
         "Hydro Power",
         "RURU",
         "Ru Ru Jalbidhyut Pariyojana Limited",
         "4,933,237",
         "100.00",
         "493,323,712.00"
        ],
        [
         "Hydro Power",
         "MAKAR",
         "Makar Jitumaya Suri Hydropower Limited",
         "7,600,000",
         "100.00",
         "760,000,000.00"
        ],
        [
         "Hydro Power",
         "SMJC",
         "Sagarmatha Jalabidhyut Company Limited",
         "11,200,000",
         "100.00",
         "1,120,000,000.00"
        ],
        [
         "Hydro Power",
         "MKHL",
         "Mai Khola Hydropower Limited",
         "3,921,568",
         "100.00",
         "392,156,800.00"
        ],
        [
         "Hydro Power",
         "DOLTI",
         "Dolti Power Company Limited",
         "5,364,860",
         "100.00",
         "536,486,000.00"
        ],
        [
         "Hydro Power",
         "BHL",
         "Balephi Hydropower Limited",
         "18,279,700",
         "100.00",
         "1,827,970,000.00"
        ],
        [
         "Hydro Power",
         "GVL",
         "Green Ventures Limited",
         "3,125,000",
         "100.00",
         "3,124,999,936.00"
        ],
        [
         "Hydro Power",
         "RIDI",
         "Ridi Power Company Limited",
         "15,489,012",
         "100.00",
         "1,548,901,200.00"
        ],
        [
         "Hydro Power",
         "IHL",
         "Ingwa Hydropower Limited",
         "6,000,000",
         "100.00",
         "600,000,000.00"
        ],
        [
         "Hydro Power",
         "SMHL",
         "Super Madi Hydropower Limited",
         "21,000,000",
         "100.00",
         "2,100,000,000.00"
        ],
        [
         "Hydro Power",
         "MCHL",
         "Menchhiyam Hydropower Limited",
         "5,425,833",
         "100.00",
         "542,583,300.00"
        ],
        [
         "Hydro Power",
         "RAWA",
         "Rawa Energy Development Limited",
         "2,800,000",
         "100.00",
         "280,000,000.00"
        ],
        [
         "Investment",
         "CIT",
         "Citizen Investment Trust",
         "42,510,003",
         "100.00",
         "4,251,000,576.00"
        ],
        [
         "Investment",
         "HIDCL",
         "Hydorelectricity Investment and Development Company Ltd",
         "246,708,000",
         "100.00",
         "24,670,799,872.00"
        ],
        [
         "Investment",
         "NIFRA",
         "Nepal Infrastructure Bank Limited",
         "216,000,000",
         "100.00",
         "21,600,000,000.00"
        ],
        [
         "Investment",
         "ENL",
         "Emerging Nepal Limited",
         "555,600",
         "100.00",
         "55,560,000.00"
        ],
        [
         "Investment",
         "NRN",
         "NRN Infrastructure and Development Limited",
         "12,232,117",
         "100.00",
         "1,223,211,648.00"
        ],
        [
         "Investment",
         "CHDC",
         "CEDB Hydropower Development Company Limited",
         "8,394,100",
         "251,823,000.00",
         "839,409,984.00"
        ],
        [
         "Life Insurance",
         "ALICL",
         "Asian Life Insurance Co. Limited",
         "29,081,112",
         "100.00",
         "2,908,111,104.00"
        ],
        [
         "Life Insurance",
         "LICN",
         "Life Insurance Co. Nepal",
         "26,532,000",
         "100.00",
         "2,653,200,000.00"
        ],
        [
         "Life Insurance",
         "NLIC",
         "Nepal Life Insurance Co. Ltd.",
         "82,079,666",
         "100.00",
         "8,207,966,600.00"
        ],
        [
         "Life Insurance",
         "NLICL",
         "National Life Insurance Co. Ltd.",
         "46,404,320",
         "100.00",
         "4,640,432,128.00"
        ],
        [
         "Life Insurance",
         "RNLI",
         "Reliable Nepal Life Insurance Limited",
         "40,000,000",
         "257.00",
         "10,280,000,000.00"
        ],
        [
         "Life Insurance",
         "ILI",
         "IME Life Insurance Company Limited",
         "40,000,000",
         "236.91",
         "9,476,400,000.00"
        ],
        [
         "Life Insurance",
         "PLI",
         "Prabhu Life Insurance Limited",
         "20,000,000",
         "100.00",
         "2,000,000,000.00"
        ],
        [
         "Life Insurance",
         "SJLIC",
         "SuryaJyoti Life Insurance Company Limited",
         "45,455,721",
         "100.00",
         "4,545,572,100.00"
        ],
        [
         "Life Insurance",
         "SRLI",
         "Sanima Reliance Life Insurance Limited",
         "41,840,000",
         "100.00",
         "4,184,000,000.00"
        ],
        [
         "Life Insurance",
         "HLI",
         "Himalayan Life Insurance Limited",
         "80,203,836",
         "100.00",
         "8,020,383,602.00"
        ],
        [
         "Manufacturing And Processing",
         "BNL",
         "Bottlers Nepal (Balaju) Limited",
         "1,948,887",
         "100.00",
         "194,888,700.00"
        ],
        [
         "Manufacturing And Processing",
         "BNT",
         "Bottlers Nepal (Terai) Limited",
         "1,210,000",
         "100.00",
         "121,000,000.00"
        ],
        [
         "Manufacturing And Processing",
         "HDL",
         "Himalayan Distillery Limited",
         "24,295,666",
         "100.00",
         "2,429,566,720.00"
        ],
        [
         "Manufacturing And Processing",
         "NLO",
         "Nepal Lube Oil Limited",
         "485,749",
         "100.00",
         "48,574,900.00"
        ],
        [
         "Manufacturing And Processing",
         "UNL",
         "Unilever Nepal Limited",
         "920,700",
         "100.00",
         "92,070,000.00"
        ],
        [
         "Manufacturing And Processing",
         "SHIVM",
         "SHIVAM CEMENTS LTD",
         "44,000,000",
         "100.00",
         "4,400,000,000.00"
        ],
        [
         "Manufacturing And Processing",
         "GCIL",
         "Ghorahi Cement Industry Limited",
         "39,719,006",
         "435.00",
         "691,167,000.00"
        ],
        [
         "Microfinance",
         "CBBL",
         "Chhimek Laghubitta Bittiya Sanstha Limited",
         "23,241,000",
         "100.00",
         "2,324,100,000.00"
        ],
        [
         "Microfinance",
         "DDBL",
         "Deprosc Laghubitta Bittiya Sanstha Limited",
         "13,874,985",
         "100.00",
         "1,387,498,500.00"
        ],
        [
         "Microfinance",
         "FMDBL",
         "First Micro Finance Laghubitta Bittiya Sanstha Limited",
         "11,477,460",
         "100.00",
         "1,147,746,048.00"
        ],
        [
         "Microfinance",
         "KMCDB",
         "Kalika Laghubitta Bittiya Sanstha Limited",
         "3,128,755",
         "100.00",
         "312,875,500.00"
        ],
        [
         "Microfinance",
         "NLBBL",
         "Nerude Laghubita Bittiya Sanstha Limited",
         "7,320,000",
         "100.00",
         "732,000,000.00"
        ],
        [
         "Microfinance",
         "NUBL",
         "Nirdhan Utthan Laghubitta Bittiya Sanstha Limited",
         "26,120,798",
         "100.00",
         "26,120,798.00"
        ],
        [
         "Microfinance",
         "SKBBL",
         "Sana Kisan Bikas Laghubitta Bittiya sanstha Limited.",
         "15,644,138",
         "100.00",
         "1,564,413,824.00"
        ],
        [
         "Microfinance",
         "SLBBL",
         "Swarojgar Laghubitta Bittiya Sanstha Ltd.",
         "5,140,992",
         "100.00",
         "514,099,200.00"
        ],
        [
         "Microfinance",
         "SMFDB",
         "Summit Laghubitta Bittiya Sanstha  Ltd.",
         "4,940,000",
         "100.00",
         "494,000,000.00"
        ],
        [
         "Microfinance",
         "SWBBL",
         "Swabalamban Laghubitta Bittiya Sanstha Limited",
         "12,904,955",
         "100.00",
         "1,290,495,500.00"
        ],
        [
         "Microfinance",
         "MLBBL",
         "Mithila Laghubitta Bittiya Sanstha Ltd.",
         "1,960,029",
         "100.00",
         "196,002,900.00"
        ],
        [
         "Microfinance",
         "LLBS",
         "Laxmi Laghubitta Bittiya Sanstha Ltd.",
         "3,840,540",
         "100.00",
         "384,053,984.00"
        ],
        [
         "Microfinance",
         "MMFDB",
         "Mirmire Laghubitta Bittiya Sanstha Ltd.",
         "6,533,828",
         "100.00",
         "653,382,784.00"
        ],
        [
         "Microfinance",
         "JSLBB",
         "Janautthan Samudayic Laghubitta Bittiya Sanstha Limited",
         "1,479,060",
         "100.00",
         "147,906,000.00"
        ],
        [
         "Microfinance",
         "VLBS",
         "Vijaya laghubitta Bittiya Sanstha Ltd.",
         "3,200,000",
         "100.00",
         "320,000,000.00"
        ],
        [
         "Microfinance",
         "RSDC",
         "RSDC Laghubitta Bittiya Sanstha Ltd.",
         "8,695,683",
         "100.00",
         "869,568,320.00"
        ],
        [
         "Microfinance",
         "NMBMF",
         "NMB Laghubitta Bittiya Sanstha Ltd.",
         "6,558,630",
         "100.00",
         "655,862,848.00"
        ],
        [
         "Microfinance",
         "MERO",
         "Meromicrofinance Laghubitta Bittiya Sanstha Ltd.",
         "13,200,000",
         "100.00",
         "1,320,000,000.00"
        ],
        [
         "Microfinance",
         "NADEP",
         "Nadep Laghubitta Bittiya Sanstha Ltd.",
         "0",
         "0.00",
         "0.00"
        ],
        [
         "Microfinance",
         "ALBSL",
         "Asha Laghubitta Bittiya Sanstha Limited",
         "3,339,140",
         "100.00",
         "333,913,984.00"
        ],
        [
         "Microfinance",
         "NMFBS",
         "National Laghubitta Bittiya Sanstha Limited",
         "10,842,063",
         "100.00",
         "1,084,206,300.00"
        ],
        [
         "Microfinance",
         "GMFBS",
         "Ganapati Microfinance Bittiya Sanstha Ltd",
         "1,515,546",
         "100.00",
         "151,554,592.00"
        ],
        [
         "Microfinance",
         "HLBSL",
         "Himalayan Laghubitta Bittiya Sanstha Limited",
         "3,198,182",
         "100.00",
         "319,818,200.00"
        ],
        [
         "Microfinance",
         "ILBS",
         "Infinity Laghubitta Bittiya Sanstha Limited",
         "4,974,160",
         "100.00",
         "497,416,000.00"
        ],
        [
         "Microfinance",
         "FOWAD",
         "Forward Microfinance Laghubitta Bittiya Sanstha Ltd.",
         "10,555,639",
         "100.00",
         "10,555,639.00"
        ],
        [
         "Microfinance",
         "SMATA",
         "Samata Gharelu Laghubitta Bittiya Sanstha Limited",
         "3,427,442",
         "100.00",
         "342,744,224.00"
        ],
        [
         "Microfinance",
         "MSLB",
         "Mahuli Laghubitta Bittiya Sanstha Ltd.",
         "2,821,694",
         "100.00",
         "282,169,408.00"
        ],
        [
         "Microfinance",
         "GILB",
         "Global IME Laghubitta Bittiya Sanstha Ltd.",
         "6,189,001",
         "100.00",
         "618,900,100.00"
        ],
        [
         "Microfinance",
         "SMB",
         "Support Microfinance Bittiya Sanstha Ltd.",
         "858,000",
         "100.00",
         "85,800,000.00"
        ],
        [
         "Microfinance",
         "GBLBS",
         "Grameen Bikas Laghubitta Bittiya Sanstha Ltd.",
         "9,825,000",
         "100.00",
         "982,500,000.00"
        ],
        [
         "Microfinance",
         "NESDO",
         "NESDO Sambridha Laghubitta Bittiye Sanstha Limited",
         "2,550,000",
         "100.00",
         "255,000,000.00"
        ],
        [
         "Microfinance",
         "MLBSL",
         "Mahila Laghubitta Bittiya Sanstha Limited",
         "2,175,625",
         "100.00",
         "217,562,500.00"
        ],
        [
         "Microfinance",
         "MKLB",
         "Manakamana Smart Laghubitta Bittiya Sanstha Limited",
         "1,417,455",
         "0.00",
         "96,232,496.00"
        ],
        [
         "Microfinance",
         "GLBSL",
         "Gurans Laghubitta Bittiya Sanstha Limited",
         "1,014,000",
         "100.00",
         "101,400,000.00"
        ],
        [
         "Microfinance",
         "NICLBSL",
         "NIC Asia Laghubitta Biitiya Sanstha Limited",
         "17,394,400",
         "100.00",
         "1,739,440,000.00"
        ],
        [
         "Microfinance",
         "SLBSL",
         "Samudayik Laghubitta Bittiya Sanstha Limited",
         "1,320,000",
         "100.00",
         "132,000,000.00"
        ],
        [
         "Microfinance",
         "SDLBSL",
         "Sadhana Laghubitta Bittiya Sanstha Limited",
         "3,822,583",
         "100.00",
         "382,258,304.00"
        ],
        [
         "Microfinance",
         "RULB",
         "Rastra Utthan Laghubitta Sanstha Limited",
         "2,600,000",
         "100.00",
         "260,000,000.00"
        ],
        [
         "Microfinance",
         "UNLB",
         "Unique Nepal Laghubitta Bittiya Sanstha Limited",
         "1,106,325",
         "100.00",
         "110,632,500.00"
        ],
        [
         "Microfinance",
         "JBLB",
         "Jeevan Bikas Laghubitta Bittiya Sanstha Limited",
         "10,342,800",
         "100.00",
         "1,034,280,000.00"
        ],
        [
         "Microfinance",
         "SHLB",
         "Shrijanshil Laghubitta Bittiya Sanstha Limited",
         "1,093,750",
         "100.00",
         "109,375,000.00"
        ],
        [
         "Microfinance",
         "ULBSL",
         "Upakar Laghubitta Bittiya Sanstha Limited",
         "1,061,484",
         "100.00",
         "106,148,400.00"
        ],
        [
         "Microfinance",
         "SMFBS",
         "Swabhimaan Laghubitta Bittiya Sanstha Ltd",
         "1,217,822",
         "100.00",
         "121,782,152.00"
        ],
        [
         "Microfinance",
         "WNLB",
         "WEAN Nepal Laghubitta Bittiya Sanstha Limited",
         "792,055",
         "100.00",
         "79,205,504.00"
        ],
        [
         "Microfinance",
         "SABSL",
         "SABAIKO LAGHUBITTA BITTIYA SANSTHA LIMITED",
         "3,186,000",
         "100.00",
         "318,600,000.00"
        ],
        [
         "Microfinance",
         "DLBS",
         "Dhaulagiri Laghubitta Bittiya Sanstha Limited",
         "1,331,000",
         "100.00",
         "133,100,000.00"
        ],
        [
         "Microfinance",
         "ANLB",
         "Aatmanirbhar Laghubitta Bittiya Sanstha Limited",
         "623,380",
         "100.00",
         "62,338,000.00"
        ],
        [
         "Microfinance",
         "MLBS",
         "Manushi Laghubitta Bittiya Sanstha Limited",
         "1,093,750",
         "100.00",
         "109,375,000.00"
        ],
        [
         "Microfinance",
         "AVYAN",
         "Aviyan Laghubitta Bittiya Sanstha Limited",
         "2,500,000",
         "100.00",
         "250,000,000.00"
        ],
        [
         "Microfinance",
         "JALPA",
         "Jalpa Samudayik Laghubitta Bittiya Sanstha Limited",
         "1,600,000",
         "100.00",
         "160,000,000.00"
        ],
        [
         "Microfinance",
         "ACLBSL",
         "Aarambha Chautari Laghubitta Bittiya Sanstha Limited",
         "3,671,435",
         "100.00",
         "367,143,488.00"
        ],
        [
         "Microfinance",
         "USLB",
         "Unnati Sahakarya Laghubitta Bittiya Sanstha Limited",
         "2,290,207",
         "100.00",
         "229,020,704.00"
        ],
        [
         "Microfinance",
         "NSLB",
         "Naya Sarathi Laghubitta Bittiya Sanstha Limited",
         "3,033,953",
         "100.00",
         "303,395,296.00"
        ],
        [
         "Microfinance",
         "CYCL",
         "CYC Nepal Laghubitta Bittiya Sanstha Limited",
         "1,581,343",
         "100.00",
         "158,134,304.00"
        ],
        [
         "Microfinance",
         "KLBSL",
         "Kisan Lagubitta Bittiya Sanstha Limited",
         "4,713,706",
         "100.00",
         "471,370,600.00"
        ],
        [
         "Microfinance",
         "BPW",
         "BPW Laghubitta Bittiya Sanstha Limited",
         "300,000",
         "100.00",
         "30,000,000.00"
        ],
        [
         "Microfinance",
         "KLBS",
         "Khaptad Laghubitta Bittiya Sanstha Limited",
         "400,000",
         "100.00",
         "40,000,000.00"
        ],
        [
         "Microfinance",
         "SWMF",
         "Suryodaya Womi Laghubitta Bittiya Sanstha Limited ",
         "7,919,848",
         "100.00",
         "791,984,800.00"
        ],
        [
         "Mutual Fund",
         "NEF",
         "Nabil Equity Fund",
         "125,000,000",
         "10.00",
         "1,250,000,000.00"
        ],
        [
         "Mutual Fund",
         "NIBLPF",
         "NIBL Pragati Fund",
         "75,000,000",
         "10.00",
         "750,000,000.00"
        ],
        [
         "Mutual Fund",
         "NMBHF1",
         "NMB Hybrid Fund L-1",
         "100,000,000",
         "10.00",
         "1,000,000,000.00"
        ],
        [
         "Mutual Fund",
         "LEMF",
         "Laxmi Equity Fund",
         "125,000,000",
         "10.00",
         "1,250,000,000.00"
        ],
        [
         "Mutual Fund",
         "SEF",
         "Siddhartha Equity Fund",
         "150,000,000",
         "10.00",
         "1,500,000,000.00"
        ],
        [
         "Mutual Fund",
         "SAEF",
         "Sanima Equity Fund",
         "130,000,000",
         "10.00",
         "1,300,000,000.00"
        ],
        [
         "Mutual Fund",
         "NICGF",
         "NIC Asia Growth Fund",
         "83,520,000",
         "10.00",
         "835,200,000.00"
        ],
        [
         "Mutual Fund",
         "CMF1",
         "Citizens Mutual Fund -1",
         "82,000,000",
         "10.00",
         "820,000,000.00"
        ],
        [
         "Mutual Fund",
         "NBF2",
         "NABIL BALANCED FUND-2",
         "112,000,000",
         "10.00",
         "1,120,000,000.00"
        ],
        [
         "Mutual Fund",
         "CMF2",
         "CITIZENS MUTUAL FUND 2",
         "56,000,000",
         "10.00",
         "560,000,000.00"
        ],
        [
         "Mutual Fund",
         "NIBLSF",
         "NIBL Sahabhagita Fund",
         "36,516,605",
         "10.00",
         "365,166,050.00"
        ],
        [
         "Mutual Fund",
         "NMB50",
         "NMB 50",
         "125,000,000",
         "10.00",
         "1,250,000,000.00"
        ],
        [
         "Mutual Fund",
         "SIGS2",
         "Siddhartha Investment Growth Scheme - 2",
         "120,000,000",
         "10.00",
         "1,200,000,000.00"
        ],
        [
         "Mutual Fund",
         "NICBF",
         "NIC Asia Balanced Fund",
         "75,500,000",
         "10.00",
         "755,000,000.00"
        ],
        [
         "Mutual Fund",
         "SFMF",
         "Sunrise First Mutual Fund",
         "86,000,000",
         "10.00",
         "860,000,000.00"
        ],
        [
         "Mutual Fund",
         "LUK",
         "Laxmi unnati Kosh",
         "65,262,360",
         "10.00",
         "652,623,600.00"
        ],
        [
         "Mutual Fund",
         "NADDF",
         "Nic Asia Dynamic Debt Fund",
         "49,898,450",
         "10.00",
         "498,984,500.00"
        ],
        [
         "Mutual Fund",
         "SLCF",
         "Sanima Large Cap Fund",
         "120,000,000",
         "10.00",
         "1,200,000,000.00"
        ],
        [
         "Mutual Fund",
         "KEF",
         "Kumari Equity Fund",
         "100,000,000",
         "10.00",
         "1,000,000,000.00"
        ],
        [
         "Mutual Fund",
         "SBCF",
         "Sunrise Bluechip Fund",
         "125,000,000",
         "10.00",
         "1,250,000,000.00"
        ],
        [
         "Mutual Fund",
         "NIBSF2",
         "NIBL Samriddhi Fund 2",
         "150,000,000",
         "10.00",
         "1,500,000,000.00"
        ],
        [
         "Mutual Fund",
         "PSF",
         "Prabhu Select Fund",
         "125,000,000",
         "10.00",
         "1,250,000,000.00"
        ],
        [
         "Mutual Fund",
         "NICSF",
         "NIC Asia Select - 30 (Index Fund)",
         "125,000,000",
         "10.00",
         "1,250,000,000.00"
        ],
        [
         "Mutual Fund",
         "RMF1",
         "RBB Mutual Fund 1",
         "125,000,000",
         "10.00",
         "1,250,000,000.00"
        ],
        [
         "Mutual Fund",
         "MMF1",
         "Mega Mutual Fund-1",
         "125,000,000",
         "10.00",
         "1,250,000,000.00"
        ],
        [
         "Mutual Fund",
         "NBF3",
         "nabil Balanced Fund-3",
         "125,000,000",
         "10.00",
         "1,250,000,000.00"
        ],
        [
         "Mutual Fund",
         "KDBY",
         "Kumari Dhanabriddhi Yojana",
         "122,507,259",
         "10.00",
         "1,225,072,590.00"
        ],
        [
         "Mutual Fund",
         "NICFC",
         "NIC ASIA Flexi CAP Fund",
         "102,000,000",
         "10.00",
         "1,020,000,000.00"
        ],
        [
         "Mutual Fund",
         "GIBF1",
         "Global IME Balanced Fund-1",
         "102,576,360",
         "10.00",
         "1,025,763,600.00"
        ],
        [
         "Mutual Fund",
         "NSIF2",
         "NMB Sulav Investment Fund - 2",
         "122,100,000",
         "10.00",
         "1,221,000,000.00"
        ],
        [
         "Mutual Fund",
         "SAGF",
         "Sanima Growth Fund",
         "67,253,260",
         "10.00",
         "672,532,600.00"
        ],
        [
         "Mutual Fund",
         "NIBLGF",
         "NIBL Growth Fund",
         "132,000,000",
         "10.00",
         "1,320,000,000.00"
        ],
        [
         "Mutual Fund",
         "SFEF",
         "Sunrise Focused Equity Fund",
         "100,000,000",
         "10.00",
         "1,000,000,000.00"
        ],
        [
         "Mutual Fund",
         "PRSF",
         "Prabhu Smart Fund",
         "100,000,000",
         "10.00",
         "1,000,000,000.00"
        ],
        [
         "Mutual Fund",
         "SIGS3",
         "Siddhartha Investment Growth Scheme 3\t",
         "80,580,000",
         "10.00",
         "805,800,000.00"
        ],
        [
         "Mutual Fund",
         "C30MF",
         "Citizens Super 30 Mutual Fund",
         "75,072,390",
         "10.00",
         "750,723,900.00"
        ],
        [
         "Mutual Fund",
         "RMF2",
         "RBB Mutual Fund 2",
         "84,611,929",
         "10.00",
         "846,119,290.00"
        ],
        [
         "Mutual Fund",
         "LVF2",
         "Laxmi Value Fund II",
         "80,000,000",
         "10.00",
         "800,000,000.00"
        ],
        [
         "Non-Life Insurance",
         "NICL",
         "Nepal Insurance Co. Ltd.",
         "14,947,655",
         "100.00",
         "1,494,765,500.00"
        ],
        [
         "Non-Life Insurance",
         "NIL",
         "Neco Insurance Co. Ltd.",
         "20,123,606",
         "100.00",
         "2,012,360,600.00"
        ],
        [
         "Non-Life Insurance",
         "NLG",
         "NLG Insurance Company Ltd.",
         "13,266,144",
         "100.00",
         "1,326,614,400.00"
        ],
        [
         "Non-Life Insurance",
         "SICL",
         "Shikhar Insurance Co. Ltd.",
         "26,518,542",
         "100.00",
         "2,651,854,200.00"
        ],
        [
         "Non-Life Insurance",
         "PRIN",
         "Prabhu Insurance Ltd.",
         "13,761,223",
         "100.00",
         "1,376,122,300.00"
        ],
        [
         "Non-Life Insurance",
         "RBCL",
         "Rastriya Beema Company Limited",
         "2,666,365",
         "100.00",
         "266,636,500.00"
        ],
        [
         "Non-Life Insurance",
         "IGI",
         "IGI Prudential Insurance Company Limited",
         "18,037,506",
         "100.00",
         "1,803,750,600.00"
        ],
        [
         "Non-Life Insurance",
         "HEI",
         "Himalayan Everest Insurance Limited",
         "22,399,367",
         "100.00",
         "2,239,936,700.00"
        ],
        [
         "Non-Life Insurance",
         "SGIC",
         "Sanima GIC Insurance Limited",
         "20,000,000",
         "100.00",
         "2,000,000,000.00"
        ],
        [
         "Non-Life Insurance",
         "SPIL",
         "Siddhartha Premier Insurance Limited",
         "28,065,499",
         "100.00",
         "2,806,549,900.00"
        ],
        [
         "Non-Life Insurance",
         "SALICO",
         "Sagarmatha Lumbini Insurance Co. Limited",
         "26,226,382",
         "100.00",
         "2,622,638,200.00"
        ],
        [
         "Non-Life Insurance",
         "UAIL",
         "United Ajod Insurance Limited ",
         "19,045,680",
         "100.00",
         "1,904,568,000.00"
        ],
        [
         "Others",
         "NTC",
         "Nepal Doorsanchar Comapany Limited",
         "180,000,000",
         "100.00",
         "17,999,998,976.00"
        ],
        [
         "Others",
         "NRIC",
         "Nepal Re-Insurance Company Limited",
         "122,325,000",
         "100.00",
         "12,232,500,224.00"
        ],
        [
         "Others",
         "SJLICP",
         "Suryajyoti Life Insurance Co. Ltd. Promotor Share",
         "0",
         "0.00",
         "0.00"
        ],
        [
         "Others",
         "NRM",
         "Nepal Republic Media Limited",
         "9,650,000",
         "100.00",
         "965,000,000.00"
        ],
        [
         "Promotor Share",
         "AEFLPO",
         "Alpic Everest Finance Limited Promoter Share",
         "585,000",
         "100.00",
         "58,500,000.00"
        ],
        [
         "Promotor Share",
         "ALICLP",
         "Asian Life Insurance Co. Ltd Promoter Share",
         "100,000",
         "100.00",
         "10,000,000.00"
        ],
        [
         "Promotor Share",
         "BFLPO",
         "Butwal Finance Limited Promoter Share",
         "1,000,000",
         "100.00",
         "100,000,000.00"
        ],
        [
         "Promotor Share",
         "BLDBLP",
         "Biratlaxmi Bikas Bank Limited Promoter Share",
         "100",
         "100.00",
         "10,000.00"
        ],
        [
         "Promotor Share",
         "CEDBLP",
         "Clean Energy Development Bank Ltd. Promoter Share",
         "6,528,000",
         "100.00",
         "652,800,000.00"
        ],
        [
         "Promotor Share",
         "CMBFLP",
         "Capital Merchant Bank. & Fin. Promoter Share",
         "700,000",
         "100.00",
         "70,000,000.00"
        ],
        [
         "Promotor Share",
         "CMBFPO",
         "CMB Finance Ltd. Promoter Share",
         "450,306",
         "100.00",
         "45,030,600.00"
        ],
        [
         "Promotor Share",
         "CMBSLp",
         "Civil Merchant Bittiya Sanstha Limited Promoter Share",
         "600,000",
         "100.00",
         "60,000,000.00"
        ],
        [
         "Promotor Share",
         "CZBILP",
         "Citizens Bank Internatioal Limited Promoter Share",
         "10,000",
         "100.00",
         "1,000,000.00"
        ],
        [
         "Promotor Share",
         "EBLPO",
         "Everest Bank Limited Promoter Share",
         "100,000",
         "100.00",
         "10,000,000.00"
        ],
        [
         "Promotor Share",
         "EFLPO",
         "Everest Finance Limited Promoter Share",
         "120,000",
         "100.00",
         "12,000,000.00"
        ],
        [
         "Promotor Share",
         "GBIMEP",
         "Global IME Bank Limited Promoter Share",
         "100,000",
         "100.00",
         "10,000,000.00"
        ],
        [
         "Promotor Share",
         "GFCLPO",
         "Goodwill Finance Company Limited Promoter Share",
         "461,896",
         "100.00",
         "46,189,600.00"
        ],
        [
         "Promotor Share",
         "GFLKPO",
         "Gorkha Finance Limited Promoter Share",
         "357,300",
         "100.00",
         "35,730,000.00"
        ],
        [
         "Promotor Share",
         "GRANDP",
         "Grand Bank Limited Promoter Share",
         "1,680,000",
         "100.00",
         "168,000,000.00"
        ],
        [
         "Promotor Share",
         "GSDBLP",
         "Gaurishankar Development Bank Ltd. Promoter Share",
         "1,000,000",
         "100.00",
         "100,000,000.00"
        ],
        [
         "Promotor Share",
         "HBLPO",
         "Himalayan Bank Limited Promoter Share",
         "100,000",
         "100.00",
         "10,000,000.00"
        ],
        [
         "Promotor Share",
         "ICFCPO",
         "ICFC Finance Limited Promotor Share",
         "2,223,340",
         "100.00",
         "222,334,000.00"
        ],
        [
         "Promotor Share",
         "IDBLPO",
         "Infrastructure Development Bank Limited Promoter Share",
         "2,464,000",
         "100.00",
         "246,400,000.00"
        ],
        [
         "Promotor Share",
         "IFILPO",
         "Imperial Finance Ltd Promoter Share",
         "200,000",
         "100.00",
         "20,000,000.00"
        ],
        [
         "Promotor Share",
         "IMEFIP",
         "IME Financial Institution Promoter Share",
         "1,621,491",
         "100.00",
         "162,149,100.00"
        ],
        [
         "Promotor Share",
         "JBBLPO",
         "Jyoti Bikash Bank Ltd. Promoter Share",
         "100,000",
         "100.00",
         "10,000,000.00"
        ],
        [
         "Promotor Share",
         "JFLPO",
         "Janaki Finance Limited Promoter Share",
         "240,000",
         "100.00",
         "24,000,000.00"
        ],
        [
         "Promotor Share",
         "KAFILP",
         "Kaski Finanace Ltd. Promoter",
         "1,685,208",
         "100.00",
         "168,520,800.00"
        ],
        [
         "Promotor Share",
         "KBBLPO",
         "Kailash Bikas Bank Limited Promoter Share",
         "1,008,000",
         "100.00",
         "100,800,000.00"
        ],
        [
         "Promotor Share",
         "KBLPO",
         "Kumari Bank Limited Promotor Share",
         "5,250,000",
         "100.00",
         "525,000,000.00"
        ],
        [
         "Promotor Share",
         "KDBLPO",
         "Kasthamandap Dev. Bank Limited Promoter Share",
         "200,000",
         "100.00",
         "20,000,000.00"
        ],
        [
         "Promotor Share",
         "KISTPO",
         "KIST Bank Limited Promoter Share",
         "1,200,000",
         "100.00",
         "120,000,000.00"
        ],
        [
         "Promotor Share",
         "LBLPO",
         "Laxmi Bank Limited Promoter Share",
         "4,717,008",
         "100.00",
         "471,700,800.00"
        ],
        [
         "Promotor Share",
         "LFCPO",
         "Lalitpur Finance Co. Ltd. Promoter Share",
         "417,656",
         "100.00",
         "41,765,600.00"
        ],
        [
         "Promotor Share",
         "LFLCPO",
         "Lumbini Finance Ltd Promoter Share",
         "6,000,000",
         "100.00",
         "600,000,000.00"
        ],
        [
         "Promotor Share",
         "MBBLPO",
         "Mahakali Bikas Bank Ltd. Promoter",
         "100,000",
         "100.00",
         "10,000,000.00"
        ],
        [
         "Promotor Share",
         "MBLPO",
         "Machhapuchchhre Bank Limited Promotor Share",
         "5,751,559",
         "100.00",
         "575,155,900.00"
        ],
        [
         "Promotor Share",
         "MDBLPO",
         "Malika Development Bank Limited Promoter Share",
         "350,000",
         "100.00",
         "35,000,000.00"
        ],
        [
         "Promotor Share",
         "MFLPO",
         "Maha Laxmi Finance Company Limited Promoter Share",
         "100,000",
         "100.00",
         "10,000,000.00"
        ],
        [
         "Promotor Share",
         "NABBPO",
         "Nepal Aawas Finance Limited Promoter Share",
         "944,682",
         "100.00",
         "94,468,200.00"
        ],
        [
         "Promotor Share",
         "NABILP",
         "NABIL Bank Limited Promotor Share",
         "4,811,751",
         "100.00",
         "481,175,100.00"
        ],
        [
         "Promotor Share",
         "NBBPO",
         "Nepal Bangladesh Bank Limited Promoter Share",
         "18,603,890",
         "100.00",
         "1,860,389,000.00"
        ],
        [
         "Promotor Share",
         "NCCBPO",
         "Nepal Credit & Commercial Bank Ltd. Promoter Share",
         "6,880,104",
         "100.00",
         "688,010,400.00"
        ],
        [
         "Promotor Share",
         "NCMPO",
         "N.I.D.C Capital Markets Ltd. Promoter Share",
         "1,000,000",
         "100.00",
         "100,000,000.00"
        ],
        [
         "Promotor Share",
         "NDBPO",
         "Nepal Development Bank Limited Promoter Share",
         "1,120,000",
         "100.00",
         "112,000,000.00"
        ],
        [
         "Promotor Share",
         "NEFLPO",
         "Nepal Express Finance Limited Promoter Share",
         "1,000,000",
         "100.00",
         "100,000,000.00"
        ],
        [
         "Promotor Share",
         "NHMFPO",
         "Nepal Housing & Merchant Co. Ltd. Promoter Share",
         "482,642",
         "100.00",
         "48,264,200.00"
        ],
        [
         "Promotor Share",
         "NIBPO",
         "Nepal Investment Bank Ltd. Promoter Share",
         "100",
         "100.00",
         "10,000.00"
        ],
        [
         "Promotor Share",
         "NICAP",
         "NIC Asia Bank Limted Promoter Share",
         "5,148,000",
         "100.00",
         "514,800,000.00"
        ],
        [
         "Promotor Share",
         "NLICLP",
         "National Life Insurance Co. Ltd. Promoter Share",
         "200,000",
         "100.00",
         "20,000,000.00"
        ],
        [
         "Promotor Share",
         "NMBPO",
         "NMB Bank Limited Promoter Share",
         "8,579,999",
         "100.00",
         "857,999,900.00"
        ],
        [
         "Promotor Share",
         "NNFCPO",
         "Narayani National Finance Company Limited Promoter Share",
         "1,293,176",
         "100.00",
         "129,317,600.00"
        ],
        [
         "Promotor Share",
         "NSMPO",
         "Nepal Share Markets Limited Promoter Share",
         "100,000",
         "100.00",
         "10,000,000.00"
        ],
        [
         "Promotor Share",
         "OFLPO",
         "Om Finance Limited Promoter Share",
         "100",
         "100.00",
         "10,000.00"
        ],
        [
         "Promotor Share",
         "PCBLP",
         "Prime Commercial Bank Limited Promoter Share",
         "400,000",
         "100.00",
         "40,000,000.00"
        ],
        [
         "Promotor Share",
         "PDBLPO",
         "Paschimanchal Bikash Bank Ltd. Promoter Share",
         "600,000",
         "100.00",
         "60,000,000.00"
        ],
        [
         "Promotor Share",
         "PFCLPO",
         "Peoples Finance Limited Promoter Share",
         "338,610",
         "100.00",
         "33,861,000.00"
        ],
        [
         "Promotor Share",
         "PFLBSP",
         "Patan Finance Limited Promoter Share",
         "300,000",
         "100.00",
         "30,000,000.00"
        ],
        [
         "Promotor Share",
         "PFLPO",
         "Pokhara Finance Company Limited Promoter Share",
         "1,862,078",
         "100.00",
         "186,207,800.00"
        ],
        [
         "Promotor Share",
         "PRFLPO",
         "Prabhu Finance Ltd. Promoter Share",
         "3,000,000",
         "100.00",
         "300,000,000.00"
        ],
        [
         "Promotor Share",
         "PROFLP",
         "Progressive Finance Limited Promoter Share",
         "180,000",
         "100.00",
         "18,000,000.00"
        ],
        [
         "Promotor Share",
         "RMBFPO",
         "Royal Merchant Bank & Finance Co. Ltd. Promoter Share",
         "357,500",
         "100.00",
         "35,750,000.00"
        ],
        [
         "Promotor Share",
         "SBBLJP",
         "Sahayogi Bikas Bank Ltd. Promoter Share",
         "100",
         "100.00",
         "10,000.00"
        ],
        [
         "Promotor Share",
         "SNMAPO",
         "Sanima Bank Limited Promoter Share",
         "5,376,000",
         "100.00",
         "537,600,000.00"
        ],
        [
         "Promotor Share",
         "SBIPO",
         "Nepal SBI Bank Ltd. Promoter Share",
         "6,114,353",
         "100.00",
         "611,435,300.00"
        ],
        [
         "Promotor Share",
         "SBLPO",
         "Siddhartha Bank Limited Promoter Share",
         "3,000,000",
         "100.00",
         "300,000,000.00"
        ],
        [
         "Promotor Share",
         "SDBLPO",
         "Siddhartha Development Bank Limited Promoter Share",
         "300,000",
         "100.00",
         "30,000,000.00"
        ],
        [
         "Promotor Share",
         "SETIPO",
         "Seti Finance Ltd. Promoter Share",
         "560,000",
         "100.00",
         "56,000,000.00"
        ],
        [
         "Promotor Share",
         "SEWAPO",
         "Sewa Bikas Bank Ltd. Promoter",
         "100,000",
         "100.00",
         "10,000,000.00"
        ],
        [
         "Promotor Share",
         "SFCPO",
         "Samjhana Finace Co. Ltd. Promoter Share",
         "123,750",
         "100.00",
         "12,375,000.00"
        ],
        [
         "Promotor Share",
         "SFFILP",
         "Srijana Finance Limited Promoter Share",
         "84,000",
         "100.00",
         "8,400,000.00"
        ],
        [
         "Promotor Share",
         "SFLPO",
         "Siddhartha Finance Limited Promoter Share",
         "500,000",
         "100.00",
         "50,000,000.00"
        ],
        [
         "Promotor Share",
         "SIFCPO",
         "Shree Investment & Finance Company Limited Promoter Share",
         "1,000,000",
         "100.00",
         "100,000,000.00"
        ],
        [
         "Promotor Share",
         "SLICLP",
         "Surya Life Insurance Co. Ltd. Promoter Share",
         "900,000",
         "100.00",
         "90,000,000.00"
        ],
        [
         "Promotor Share",
         "SRBLPO",
         "Sunrise Bank Ltd Promoter Share",
         "20,000,000",
         "100.00",
         "2,000,000,000.00"
        ],
        [
         "Promotor Share",
         "STFLPO",
         "Standard Finance Limited Promoter Share",
         "9,437,241",
         "100.00",
         "943,724,100.00"
        ],
        [
         "Promotor Share",
         "SUBBLP",
         "Subbecha Bikas Bank Ltd. Promoter Share",
         "100,000",
         "100.00",
         "10,000,000.00"
        ],
        [
         "Promotor Share",
         "SUPRMP",
         "Supreme Development Bank Ltd. Promoter Share",
         "4,704,000",
         "100.00",
         "470,400,000.00"
        ],
        [
         "Promotor Share",
         "SWBBLP",
         "Swabalamban Laghubitta Bittiya Sanstha Limited Promoter Share",
         "175,000",
         "100.00",
         "17,500,000.00"
        ],
        [
         "Promotor Share",
         "TBBLP",
         "Triveni Bikas Bank Limited Promoter Share",
         "500,000",
         "100.00",
         "50,000,000.00"
        ],
        [
         "Promotor Share",
         "UFCLPO",
         "Union Finance Co. Ltd. Promoter Share",
         "100",
         "100.00",
         "10,000.00"
        ],
        [
         "Promotor Share",
         "UFLKPO",
         "Universal Finance Limited Promoter Share",
         "1,313,787",
         "100.00",
         "131,378,700.00"
        ],
        [
         "Promotor Share",
         "UFLPO",
         "United Finance Company Limited Promoter Share",
         "900,000",
         "100.00",
         "90,000,000.00"
        ],
        [
         "Promotor Share",
         "YFLPO",
         "Yeti Finance Limited Promoter Share",
         "8,812",
         "100.00",
         "881,200.00"
        ],
        [
         "Promotor Share",
         "UFILPO",
         "Unique Finance Limited Promoter Share",
         "100,000",
         "100.00",
         "10,000,000.00"
        ],
        [
         "Promotor Share",
         "MDBPO",
         "Miteri Development Bank Limited Promoter Share",
         "10,000",
         "100.00",
         "1,000,000.00"
        ],
        [
         "Promotor Share",
         "PSDBLP",
         "Pashupati Development Bank Limited Promoter Share",
         "1,200,000",
         "100.00",
         "120,000,000.00"
        ],
        [
         "Promotor Share",
         "PFILPO",
         "Prudential Finance Co. Ltd. Promoter",
         "100,000",
         "100.00",
         "10,000,000.00"
        ],
        [
         "Promotor Share",
         "HAMAPO",
         "Hama Merchant & Finance Ltd. Promoter Share",
         "200,000",
         "100.00",
         "20,000,000.00"
        ],
        [
         "Promotor Share",
         "EDBLPO",
         "Excel Development Bank Ltd. Promoter Share",
         "100,000",
         "100.00",
         "10,000,000.00"
        ],
        [
         "Promotor Share",
         "NILPO",
         "Neco Insurace Co. Ltd. Promoter",
         "1,352,216",
         "100.00",
         "135,221,600.00"
        ],
        [
         "Promotor Share",
         "SICPO",
         "Sagarmatha Insurance Co. Ltd. Promoter Share",
         "100,000",
         "100.00",
         "10,000,000.00"
        ],
        [
         "Promotor Share",
         "GLICLP",
         "Gurans Life Insurance Company Ltd. Promoter Share",
         "100,000",
         "100.00",
         "10,000,000.00"
        ],
        [
         "Promotor Share",
         "ARDBLP",
         "Araniko Development Bank Limited Promoter Share",
         "100,000",
         "100.00",
         "10,000,000.00"
        ],
        [
         "Promotor Share",
         "GBBLPO",
         "Garima Bikas Bank Limited Promoter Share",
         "100,000",
         "100.00",
         "10,000,000.00"
        ],
        [
         "Promotor Share",
         "SYFLPO",
         "Synergy Finance Limited Promoter Share",
         "500,000",
         "100.00",
         "50,000,000.00"
        ],
        [
         "Promotor Share",
         "SICLPO",
         "Shikhar Insurance Company Limited Promoter Share",
         "0",
         "0.00",
         "0.00"
        ],
        [
         "Promotor Share",
         "BSBLPO",
         "Bishwa Bikas Bank Limited Promoter Share",
         "0",
         "0.00",
         "0.00"
        ],
        [
         "Promotor Share",
         "REDBLP",
         "Reliable Development Bank Ltd. Promoter Share",
         "0",
         "0.00",
         "0.00"
        ],
        [
         "Promotor Share",
         "SILPO",
         "Siddhartha Insurance Limited Promoter Share",
         "0",
         "0.00",
         "0.00"
        ],
        [
         "Promotor Share",
         "BHBLPO",
         "Bhargav Bikash Bank Ltd. Promoter Share",
         "0",
         "0.00",
         "0.00"
        ],
        [
         "Promotor Share",
         "PRVUPO",
         "Prabhu Bank Limited Promoter Share",
         "0",
         "0.00",
         "0.00"
        ],
        [
         "Promotor Share",
         "WDBLPO",
         "Western Development Bank Limited Promoter Share",
         "0",
         "0.00",
         "0.00"
        ],
        [
         "Promotor Share",
         "CSDBLP",
         "Cosmos Development Bank Ltd. Promoter Share",
         "0",
         "0.00",
         "0.00"
        ],
        [
         "Promotor Share",
         "CNDBLP",
         "Country Development Bank Limited Promoter Share",
         "0",
         "0.00",
         "0.00"
        ],
        [
         "Promotor Share",
         "EKBLPO",
         "Ekata Bikas Bank Ltd. Promoter Share",
         "0",
         "0.00",
         "0.00"
        ],
        [
         "Promotor Share",
         "HAMROP",
         "Hamro Bikas Bank Limited Promoter Share",
         "0",
         "0.00",
         "0.00"
        ],
        [
         "Promotor Share",
         "KNBLPO",
         "Kankai Bikas Bank Ltd. Promoter Share",
         "0",
         "0.00",
         "0.00"
        ],
        [
         "Promotor Share",
         "LLBSPO",
         "Laxmi Laghubitta Bittiya Sanstha Limited Promoter Share",
         "0",
         "0.00",
         "0.00"
        ],
        [
         "Promotor Share",
         "MNBBLP",
         "Muktinath Bikas Bank Limited Promoter Share",
         "0",
         "0.00",
         "0.00"
        ],
        [
         "Promotor Share",
         "BUDBLP",
         "Business Universal Development Bank Ltd. Promoter Share",
         "0",
         "0.00",
         "0.00"
        ],
        [
         "Promotor Share",
         "PFCPO",
         "Paschimanchal Finance Co. Ltd. Promoter Share",
         "0",
         "0.00",
         "0.00"
        ],
        [
         "Promotor Share",
         "JHBLPO",
         "Jhimruk Bikas Bank Ltd. Promoter Share",
         "0",
         "0.00",
         "0.00"
        ],
        [
         "Promotor Share",
         "NFSPO",
         "Nepal Finance Ltd. Promoter Share",
         "0",
         "0.00",
         "0.00"
        ],
        [
         "Promotor Share",
         "PICLPO",
         "Prudential Insurance Co. Ltd. Promoter Share",
         "0",
         "0.00",
         "0.00"
        ],
        [
         "Promotor Share",
         "RLFLPO",
         "Reliance Finance Limited Promoter Share",
         "0",
         "0.00",
         "0.00"
        ],
        [
         "Promotor Share",
         "ALDBLP",
         "Alpine Development Bank Limited Promoter Share",
         "0",
         "0.00",
         "0.00"
        ],
        [
         "Promotor Share",
         "APEXPO",
         "Apex Development Bank Ltd. Promoter Share",
         "0",
         "0.00",
         "0.00"
        ],
        [
         "Promotor Share",
         "CCBLPO",
         "Century Commercial Bank Limited Promoter Share",
         "0",
         "0.00",
         "0.00"
        ],
        [
         "Promotor Share",
         "CBLPO",
         "Civil Bank Ltd Promoter Share",
         "0",
         "0.00",
         "0.00"
        ],
        [
         "Promotor Share",
         "GDBLPO",
         "Gandaki Bikas Bank Limited Promoter Share",
         "0",
         "0.00",
         "0.00"
        ],
        [
         "Promotor Share",
         "GABLPO",
         "Gaumukhee Bikas Bank Ltd. Promoter Share",
         "0",
         "0.00",
         "0.00"
        ],
        [
         "Promotor Share",
         "JBNLPO",
         "Janata Bank Nepal Ltd. Promoter Share",
         "0",
         "0.00",
         "0.00"
        ],
        [
         "Promotor Share",
         "JEFLPO",
         "Jebils Finance Ltd. Promoter Share",
         "0",
         "0.00",
         "0.00"
        ],
        [
         "Promotor Share",
         "MSBBLP",
         "Manaslu Bikas Bank Limited Promoter Share",
         "0",
         "0.00",
         "0.00"
        ],
        [
         "Promotor Share",
         "MEGAPO",
         "Mega Bank Nepal Limited Promoter Share",
         "0",
         "0.00",
         "0.00"
        ],
        [
         "Promotor Share",
         "MIDBLP",
         "Mission Development Bank Ltd. Promoter Share",
         "0",
         "0.00",
         "0.00"
        ],
        [
         "Promotor Share",
         "NBSLPO",
         "Namaste Bittiya Sanstha Ltd. Promoter Share",
         "0",
         "0.00",
         "0.00"
        ],
        [
         "Promotor Share",
         "NLBBLP",
         "Nerude Laghubita Bittiya Sanstha Limited Promoter Share",
         "0",
         "0.00",
         "0.00"
        ],
        [
         "Promotor Share",
         "NIDCPO",
         "N.I.D.C Development Bank Ltd. Promoter Share",
         "0",
         "0.00",
         "0.00"
        ],
        [
         "Promotor Share",
         "NUBLPO",
         "Nirdhan Utthan Laghubitta Bittiya Sanstha Limited Promoter Share",
         "0",
         "0.00",
         "0.00"
        ],
        [
         "Promotor Share",
         "PRDBLP",
         "Professional Diyalo Bikas Bank Ltd. Promoter Share",
         "0",
         "0.00",
         "0.00"
        ],
        [
         "Promotor Share",
         "RMDCPO",
         "Rural Microfinance Development Centre Limited Promoter Share",
         "0",
         "0.00",
         "0.00"
        ],
        [
         "Promotor Share",
         "SKBBLP",
         "Sana Kisan Bikas Laghubitta Bittiya sanstha Limited Promoter Share",
         "0",
         "0.00",
         "0.00"
        ],
        [
         "Promotor Share",
         "SHINEP",
         "Shine Resunga Development Bank Limited Promoter Share",
         "0",
         "0.00",
         "0.00"
        ],
        [
         "Promotor Share",
         "SINDUP",
         "Sindhu Bikash Bank Limited Promoter Share",
         "0",
         "0.00",
         "0.00"
        ],
        [
         "Promotor Share",
         "SCBPO",
         "Standard Chartered Bank Limited Promoter Share",
         "0",
         "0.00",
         "0.00"
        ],
        [
         "Promotor Share",
         "SMFDBP",
         "Summit Laghubitta Bittiya Sanstha Ltd. Promoter Share",
         "0",
         "0.00",
         "0.00"
        ],
        [
         "Promotor Share",
         "CFCLPO",
         "Central Finance Company Limited Promoter Share",
         "0",
         "0.00",
         "0.00"
        ],
        [
         "Promotor Share",
         "RBCLPO",
         "Rastriya Beema Company Limited Promoter Share",
         "0",
         "0.00",
         "0.00"
        ],
        [
         "Promotor Share",
         "KMCDBP",
         "Kalika Laghubitta Bittiya Sanstha Limited Promoter Share",
         "0",
         "0.00",
         "0.00"
        ],
        [
         "Promotor Share",
         "PADBLP",
         "Pacific Development Bank Ltd. Promoter Share",
         "0",
         "0.00",
         "0.00"
        ],
        [
         "Promotor Share",
         "BGDBLP",
         "Bagmati Development Bank Ltd. Promoter Share",
         "0",
         "0.00",
         "0.00"
        ],
        [
         "Promotor Share",
         "PRINPO",
         "Prabhu Insurance Company Ltd. Promoter",
         "1,000,000",
         "100.00",
         "100,000,000.00"
        ],
        [
         "Promotor Share",
         "DDBLPO",
         "Deprosc LaghuBitta Bittiya Sanstha Limited Promoter Share",
         "0",
         "0.00",
         "0.00"
        ],
        [
         "Promotor Share",
         "INDBPO",
         "Innovative Development Bank Ltd. Promoter Share",
         "0",
         "0.00",
         "0.00"
        ],
        [
         "Promotor Share",
         "NLGPO",
         "NLG Insurance Company Ltd. Promoter Share",
         "0",
         "0.00",
         "0.00"
        ],
        [
         "Promotor Share",
         "SODBLP",
         "Society Development Bank Limited Promoter Share",
         "0",
         "0.00",
         "0.00"
        ],
        [
         "Promotor Share",
         "DBBLPO",
         "Dev BikasBank Ltd. Promoter Share",
         "0",
         "0.00",
         "0.00"
        ],
        [
         "Promotor Share",
         "ILFCPO",
         "International Leasing & Finance Co. Ltd. Promoter Share",
         "0",
         "0.00",
         "0.00"
        ],
        [
         "Promotor Share",
         "NICLPO",
         "Nepal Insurance Co. Ltd Promoter Share",
         "0",
         "0.00",
         "0.00"
        ],
        [
         "Promotor Share",
         "TDBLPO",
         "Tourism Development Bank Limited Prmoter Share",
         "0",
         "0.00",
         "0.00"
        ],
        [
         "Promotor Share",
         "LICNPO",
         "Life Insurance Co. Nepal Promoter Share",
         "0",
         "0.00",
         "0.00"
        ],
        [
         "Promotor Share",
         "CBBLPO",
         "Chhimek Laghubitta Bittiya Sanstha Limited Promoter Share",
         "0",
         "0.00",
         "0.00"
        ],
        [
         "Promotor Share",
         "NCDBPO",
         "Nepal Community Development Bank Ltd. Promoter Share",
         "0",
         "0.00",
         "0.00"
        ],
        [
         "Promotor Share",
         "EICPO",
         "Everest Insurance Company Limited Promoter Share",
         "0",
         "0.00",
         "0.00"
        ],
        [
         "Promotor Share",
         "HGIPO",
         "Himalayan General Insurance Compny Limited Promoter Share",
         "0",
         "0.00",
         "0.00"
        ],
        [
         "Promotor Share",
         "LGILPO",
         "Lumbini General Insurance Co. Ltd. Promoter Share",
         "0",
         "0.00",
         "0.00"
        ],
        [
         "Promotor Share",
         "PLICPO",
         "Prime Life Insurance Company Limited Promoter Share",
         "0",
         "0.00",
         "0.00"
        ],
        [
         "Promotor Share",
         "MLBBLP",
         "Mithila Laghubitta Bikas Bank Limited Promoter Share",
         "0",
         "0.00",
         "0.00"
        ],
        [
         "Promotor Share",
         "SADBLP",
         "Shangrila Development Bank Ltd. Promoter Share",
         "0",
         "0.00",
         "0.00"
        ],
        [
         "Promotor Share",
         "INDBLP",
         "International Development Bank Ltd Promoter Share",
         "0",
         "0.00",
         "0.00"
        ],
        [
         "Promotor Share",
         "KADBLP",
         "Kanchan Development Bank Limited Promoter Share",
         "0",
         "0.00",
         "0.00"
        ],
        [
         "Promotor Share",
         "MMFDBP",
         "Mirmire Laghubitta Bittiya Sanstha Ltd. Promoter Share",
         "0",
         "0.00",
         "0.00"
        ],
        [
         "Promotor Share",
         "PICPO",
         "Premier Insurance Co. Ltd. Promoter Share",
         "0",
         "0.00",
         "0.00"
        ],
        [
         "Promotor Share",
         "PURBLP",
         "Purnima Bikas Bank Limited Promoter Share",
         "0",
         "0.00",
         "0.00"
        ],
        [
         "Promotor Share",
         "SAFLPO",
         "Sagarmatha Finance Limited Promoter Share",
         "0",
         "0.00",
         "0.00"
        ],
        [
         "Promotor Share",
         "VLBSPO",
         "Vijaya laghubitta Bittiya Sanstha Ltd. Promoter Share",
         "0",
         "0.00",
         "0.00"
        ],
        [
         "Promotor Share",
         "JSLBBP",
         "Janautthan Samudayic Laghubitta Bittiya Sanstha Limited Promoter Share",
         "0",
         "0.00",
         "0.00"
        ],
        [
         "Promotor Share",
         "KCDBLP",
         "Kalinchowk Development Bank Ltd. Promoter Share",
         "0",
         "0.00",
         "0.00"
        ],
        [
         "Promotor Share",
         "RBBBLP",
         "Rapti Bheri Bikas Bank Ltd. Promoter Share",
         "0",
         "0.00",
         "0.00"
        ],
        [
         "Promotor Share",
         "SLBBLP",
         "Swarojgar Laghu Bitta Bikas Bank Ltd. Promoter Share",
         "0",
         "0.00",
         "0.00"
        ],
        [
         "Promotor Share",
         "WOMIPO",
         "Womi Microfinance Bittiya Sanstha Limited Promoter Share",
         "0",
         "0.00",
         "0.00"
        ],
        [
         "Promotor Share",
         "FBBLPO",
         "Fewa Bikas Bank Ltd. Promoter Share",
         "0",
         "0.00",
         "0.00"
        ],
        [
         "Promotor Share",
         "FMDBLP",
         "First Micro Finance Laghubitta Bittiya Sanstha Ltd. Promoter Share",
         "0",
         "0.00",
         "0.00"
        ],
        [
         "Promotor Share",
         "MMDBLP",
         "Mount Makalu Development Bank Ltd. Promoter Share",
         "0",
         "0.00",
         "0.00"
        ],
        [
         "Promotor Share",
         "BFCLPO",
         "Bhaktapur Finance Co. Ltd. Promoter Share",
         "0",
         "0.00",
         "0.00"
        ],
        [
         "Promotor Share",
         "GMFILP",
         "Guheyshwori Merchant & Finance Ltd. Promoter Share",
         "0",
         "0.00",
         "0.00"
        ],
        [
         "Promotor Share",
         "KEBLPO",
         "Kabeli BIkas Bank Ltd. Promoter Share",
         "0",
         "0.00",
         "0.00"
        ],
        [
         "Promotor Share",
         "KKBLPO",
         "Kankre Bihar Bikash Bank Limited Promoter Share",
         "0",
         "0.00",
         "0.00"
        ],
        [
         "Promotor Share",
         "UICPO",
         "United Insurance Co. (Nepal) Ltd. Promoter Share",
         "0",
         "0.00",
         "0.00"
        ],
        [
         "Promotor Share",
         "MFILPO",
         "Manjushree Finance Limited Promoter Share",
         "0",
         "0.00",
         "0.00"
        ],
        [
         "Promotor Share",
         "GUFLPO",
         "Gurkhas Finance Limited Promoter Share",
         "0",
         "0.00",
         "0.00"
        ],
        [
         "Promotor Share",
         "KRBLPO",
         "Karnali Development Bank Limited Promoter Share",
         "0",
         "0.00",
         "0.00"
        ],
        [
         "Promotor Share",
         "BOKLPO",
         "Bank of Kathmandu Limited Promoter Share",
         "0",
         "0.00",
         "0.00"
        ],
        [
         "Promotor Share",
         "ODBLPO",
         "Om Development Bank Ltd. Promoter",
         "0",
         "0.00",
         "0.00"
        ],
        [
         "Promotor Share",
         "KSBBLP",
         "Kamana Sewa Bikas Bank Limited Promoter Share",
         "0",
         "0.00",
         "0.00"
        ],
        [
         "Promotor Share",
         "MLBLPO",
         "Mahalxmi Bikas Bank Ltd. Promotor Share",
         "0",
         "0.00",
         "0.00"
        ],
        [
         "Promotor Share",
         "MPFLPO",
         "Multipurpose Finance Company  Limited Promoter Share",
         "0",
         "0.00",
         "0.00"
        ],
        [
         "Promotor Share",
         "LBBLPO",
         "Lumbini Bikas Bank Ltd. Promoter Share",
         "0",
         "0.00",
         "0.00"
        ],
        [
         "Promotor Share",
         "CEFLPO",
         "City Express Finance Co. Ltd. Promoter Share",
         "0",
         "0.00",
         "0.00"
        ],
        [
         "Promotor Share",
         "IGIPO",
         "IME General Insurance  Ltd. Promoter Share",
         "0",
         "0.00",
         "0.00"
        ],
        [
         "Promotor Share",
         "NADEPP",
         "Nadep Laghubitta Bittiya Sanstha Ltd. Promoter Share",
         "0",
         "0.00",
         "0.00"
        ],
        [
         "Promotor Share",
         "HATHPO",
         "Hathway Finance Company Limited Promoter Share",
         "0",
         "0.00",
         "0.00"
        ],
        [
         "Promotor Share",
         "TMDBLP",
         "Tinau Mission Development Bank Limited Promoter",
         "0",
         "0.00",
         "0.00"
        ],
        [
         "Promotor Share",
         "NMBMFP",
         "NMB  Microfinance Bittiya Sanstha Ltd. Promoter Share",
         "0",
         "0.00",
         "0.00"
        ],
        [
         "Promotor Share",
         "SFCLP",
         "Samriddhi Finance Company Limited Promoter Share",
         "0",
         "0.00",
         "0.00"
        ],
        [
         "Promotor Share",
         "GRDBLP",
         "Green Development Bank Ltd. Promoter Share",
         "0",
         "0.00",
         "0.00"
        ],
        [
         "Promotor Share",
         "GBLBSP",
         "Grameen Bikas Lagubitta Bittiya Sanstha Limited (Promoter Share)",
         "0",
         "0.00",
         "0.00"
        ],
        [
         "Promotor Share",
         "SDESIP",
         "Swadeshi Laghubitta Bittiya Sanstha Ltd Promoter Share",
         "0",
         "0.00",
         "0.00"
        ],
        [
         "Promotor Share",
         "AKBSLP",
         "ADHIKHOLA LAGHUBITTA BITTIYA SANSTHA LIMITED PROMOTER SHARE",
         "0",
         "100.00",
         "0.00"
        ],
        [
         "Promotor Share",
         "SAPDBLP",
         "Saptakoshi Development Bank Ltd Promoter Share",
         "0",
         "0.00",
         "0.00"
        ],
        [
         "Promotor Share",
         "RSDCP",
         "RSDC Laghubitta Bittiya Sanstha Ltd. Promoter Share",
         "0",
         "0.00",
         "0.00"
        ],
        [
         "Promotor Share",
         "NMFBSP",
         "National Microfinance Laghubitta Bittiya Sanstha Ltd. Promoter",
         "0",
         "0.00",
         "0.00"
        ],
        [
         "Promotor Share",
         "FOWADP",
         "Forward Community Microfinance Bittiya Sanstha Ltd Promoter Share",
         "0",
         "100.00",
         "0.00"
        ],
        [
         "Promotor Share",
         "MSLBP",
         "Mahuli Laghubitta Bittiya Sanstha Ltd Promoter",
         "0",
         "100.00",
         "0.00"
        ],
        [
         "Promotor Share",
         "HLBSLP",
         "Himalayan Laghubitta Bittiya Sanstha Promoter",
         "0",
         "0.00",
         "0.00"
        ],
        [
         "Promotor Share",
         "MEROPO",
         "Meromicrofinance Laghubitta Bittiya Sanstha Limited Promoter Share",
         "0",
         "0.00",
         "0.00"
        ],
        [
         "Promotor Share",
         "SNLBPO",
         "Sarathi Nepal Laghubitta Bittiya Sanstha Limited Promoter Share",
         "0",
         "0.00",
         "0.00"
        ],
        [
         "Promotor Share",
         "KLBSLP",
         "Kisan Lagubitta Bittiya Sanstha Limited Promoter Share",
         "0",
         "0.00",
         "0.00"
        ],
        [
         "Promotor Share",
         "HIDCLP",
         "Hydroelectricity Investment and Development Company Limited Promoter Share",
         "0",
         "0.00",
         "0.00"
        ],
        [
         "Promotor Share",
         "SMBPO",
         "Support Laghubitta Bittiya Sanstha Limited Promoter Share",
         "0",
         "0.00",
         "0.00"
        ],
        [
         "Promotor Share",
         "NICLBSLP",
         "NIC ASIA Laghubitta Bittiya Sanstha Limited Promoter Share",
         "0",
         "0.00",
         "0.00"
        ],
        [
         "Promotor Share",
         "NABBCP",
         "Narayani Development Bank Limited Promoter",
         "0",
         "0.00",
         "0.00"
        ],
        [
         "Promotor Share",
         "JBLBP",
         "Jeevan Bikas Laghubitta Bittiya Sanstha Limited Promoter Share",
         "0",
         "0.00",
         "0.00"
        ],
        [
         "Promotor Share",
         "NSLBP",
         "Naya Sarathi Laghubitta Bittiya Sanstha Limited Promoter Share",
         "0",
         "0.00",
         "0.00"
        ],
        [
         "Promotor Share",
         "CORBLPO",
         "Corporate Development Bank Limited Promoter Share",
         "0",
         "0.00",
         "0.00"
        ],
        [
         "Promotor Share",
         "ACLBSLP",
         "Aarambha Chautari Laghubitta Bittiya Sanstha Limited Promoter Share",
         "0",
         "0.00",
         "0.00"
        ],
        [
         "Promotor Share",
         "ALBSLP",
         "Asha Laghubitta Bittiya Sanstha Ltd Promoter Share",
         "0",
         "0.00",
         "0.00"
        ],
        [
         "Promotor Share",
         "SMFBSP",
         "Swabhimaan Laghubitta Bittiya sanstha Limited",
         "0",
         "0.00",
         "0.00"
        ],
        [
         "Promotor Share",
         "ILBSP",
         "Infinity Laghubitta Bittiya Sanstha Limited Promoter Share",
         "0",
         "0.00",
         "0.00"
        ],
        [
         "Promotor Share",
         "SMATAP",
         "Samata Gharelu Laghubitta Bittiya Sanstha Limited Promoter Share",
         "0",
         "0.00",
         "0.00"
        ],
        [
         "Promotor Share",
         "GILBPO",
         "Global IME Laghubitta Bittiya Sanstha Ltd. Promoter Share",
         "0",
         "0.00",
         "0.00"
        ],
        [
         "Promotor Share",
         "SABSLPO",
         "SABAIKO LAGHUBITTA BITTIYA SANSTHA LIMITED PROMOTER SHARE",
         "0",
         "0.00",
         "0.00"
        ],
        [
         "Promotor Share",
         "SWMFPO",
         "Suryodaya Womi Laghubitta Bittiya Sanstha Limited Promoter",
         "0",
         "0.00",
         "0.00"
        ],
        [
         "Promotor Share",
         "USLBP",
         "Unnati Sahakarya Laghubitta Bittiya Sanstha Limited Promoter Share",
         "0",
         "0.00",
         "0.00"
        ],
        [
         "Promotor Share",
         "HEIP",
         "Himalayan Everest Insurance Limited Promoter",
         "0",
         "210.00",
         "0.00"
        ],
        [
         "Promotor Share",
         "AVYANP",
         "Aviyan Laghubitta Bittiya Sanstha Limited Promotor Share",
         "0",
         "0.00",
         "0.00"
        ],
        [
         "Promotor Share",
         "NIMBPO",
         "Nepal Investment Mega Bank Ltd. Promoter Share ",
         "183,075,408",
         "100.00",
         "18,307,540,800.00"
        ],
        [
         "Promotor Share",
         "SPILPO",
         "Siddhartha Premier Insurance Limited Promoter Share",
         "5,480,256",
         "0.00",
         "287,502,300.00"
        ],
        [
         "Promotor Share",
         "BPWP",
         "BPW Laghubitta Bittiya Sanstha Limited Promoter Share",
         "0",
         "0.00",
         "0.00"
        ],
        [
         "Promotor Share",
         "ANLBP",
         "Aatmanirbhar Laghubitta Bittiya Sanstha Limited Promoter Share",
         "0",
         "0.00",
         "0.00"
        ],
        [
         "Promotor Share",
         "WNLBP",
         "Wean Nepal Laghubitta Bittiya Sanstha Limited Promoter Share",
         "600,000",
         "100.00",
         "60,000,000.00"
        ],
        [
         "Promotor Share",
         "HLIPO",
         "Himalayan Life Insurance Limited Promoter Share",
         "4,881,600",
         "100.00",
         "488,160,000.00"
        ],
        [
         "Promotor Share",
         "SDLBSLP",
         "Sadhana Laghubitta Bittiya Sanstha Limited Promoter Share",
         "0",
         "0.00",
         "0.00"
        ],
        [
         "Promotor Share",
         "KPCLPO",
         " Kalika Power Company Limited Promoter Share",
         "0",
         "0.00",
         "0.00"
        ],
        [
         "Promotor Share",
         "SALICOPO",
         "Sagarmatha Lumbini Insurance Co. Limited Promoter Share ",
         "100,000",
         "100.00",
         "10,000,000.00"
        ],
        [
         "Promotor Share",
         "LSLPO",
         "Laxmi Sunrise Bank Limited Promoter Share",
         "4,717,008",
         "0.00",
         "100.00"
        ],
        [
         "Tradings",
         "BBC",
         "Bishal Bazar Company Limited",
         "491,400",
         "100.00",
         "49,140,000.00"
        ],
        [
         "Tradings",
         "STC",
         "Salt Trading Corporation",
         "2,535,312",
         "100.00",
         "253,531,200.00"
        ],
        [
         "Tradings",
         "SEBON",
         "Securities Board of Nepal",
         "0",
         "0.00",
         "0.00"
        ]
       ],
       "datasetInfos": [],
       "dbfsResultPath": null,
       "isJsonSchema": true,
       "metadata": {},
       "overflow": false,
       "plotOptions": {
        "customPlotOptions": {},
        "displayType": "table",
        "pivotAggregation": null,
        "pivotColumns": null,
        "xColumns": null,
        "yColumns": null
       },
       "removedWidgets": [],
       "schema": [
        {
         "metadata": "{}",
         "name": "company_category",
         "type": "\"string\""
        },
        {
         "metadata": "{}",
         "name": "company_code",
         "type": "\"string\""
        },
        {
         "metadata": "{}",
         "name": "company_name",
         "type": "\"string\""
        },
        {
         "metadata": "{}",
         "name": "listed_shares",
         "type": "\"string\""
        },
        {
         "metadata": "{}",
         "name": "paidup_value",
         "type": "\"string\""
        },
        {
         "metadata": "{}",
         "name": "total_paidup",
         "type": "\"string\""
        }
       ],
       "type": "table"
      }
     },
     "output_type": "display_data"
    }
   ],
   "source": [
    "display(df)"
   ]
  },
  {
   "cell_type": "code",
   "execution_count": 0,
   "metadata": {
    "application/vnd.databricks.v1+cell": {
     "cellMetadata": {
      "byteLimit": 2048000,
      "rowLimit": 10000
     },
     "inputWidgets": {},
     "nuid": "4d0ea212-cc53-44cc-8f87-aa21b9ae7563",
     "showTitle": false,
     "title": ""
    }
   },
   "outputs": [],
   "source": [
    "transformed_df=df.withColumn( 'paidup_value', col('paidup_value').cast( FloatType() ) )\\\n",
    "                .withColumn( 'listed_shares', regexp_replace(\"listed_shares\",\",\", \"\") )\\\n",
    "                .withColumn( 'listed_shares', regexp_replace(\"listed_shares\",\",\", \"\") )\\\n",
    "                .withColumn( 'total_paidup', regexp_replace(\"total_paidup\",\",\", \"\") )\\\n",
    "                .withColumn( 'total_paidup', col('total_paidup').cast('long') )\\\n",
    "                "
   ]
  },
  {
   "cell_type": "code",
   "execution_count": 0,
   "metadata": {
    "application/vnd.databricks.v1+cell": {
     "cellMetadata": {
      "byteLimit": 2048000,
      "rowLimit": 10000
     },
     "inputWidgets": {},
     "nuid": "9e8a8d1a-6985-4a87-9689-31857a5d1149",
     "showTitle": false,
     "title": ""
    }
   },
   "outputs": [
    {
     "output_type": "stream",
     "name": "stdout",
     "output_type": "stream",
     "text": [
      "root\n |-- company_category: string (nullable = true)\n |-- company_code: string (nullable = true)\n |-- company_name: string (nullable = true)\n |-- listed_shares: string (nullable = true)\n |-- paidup_value: float (nullable = true)\n |-- total_paidup: long (nullable = true)\n\n"
     ]
    }
   ],
   "source": [
    "transformed_df.printSchema()"
   ]
  },
  {
   "cell_type": "code",
   "execution_count": 0,
   "metadata": {
    "application/vnd.databricks.v1+cell": {
     "cellMetadata": {
      "byteLimit": 2048000,
      "rowLimit": 10000
     },
     "inputWidgets": {},
     "nuid": "8a8e9b1b-1a26-412e-b51b-775e41dd0436",
     "showTitle": false,
     "title": ""
    }
   },
   "outputs": [],
   "source": [
    "final_company_df = transformed_df.fillna(value=0, subset='paidup_value')"
   ]
  },
  {
   "cell_type": "code",
   "execution_count": 0,
   "metadata": {
    "application/vnd.databricks.v1+cell": {
     "cellMetadata": {
      "byteLimit": 2048000,
      "rowLimit": 10000
     },
     "inputWidgets": {},
     "nuid": "3a975a08-fbc2-4e4b-b8ff-f94e319c689b",
     "showTitle": false,
     "title": ""
    }
   },
   "outputs": [],
   "source": [
    "df.write.parquet('/FileStore/shared_uploads/pandeyvivak25@gmail.com/cleansed/company', mode=\"overwrite\")"
   ]
  },
  {
   "cell_type": "code",
   "execution_count": 0,
   "metadata": {
    "application/vnd.databricks.v1+cell": {
     "cellMetadata": {},
     "inputWidgets": {},
     "nuid": "bc95b33a-66a2-430d-8e0a-d65a1f791db3",
     "showTitle": false,
     "title": ""
    }
   },
   "outputs": [],
   "source": []
  }
 ],
 "metadata": {
  "application/vnd.databricks.v1+notebook": {
   "dashboards": [],
   "language": "python",
   "notebookMetadata": {
    "pythonIndentUnit": 4
   },
   "notebookName": "company_cleansing",
   "widgets": {}
  }
 },
 "nbformat": 4,
 "nbformat_minor": 0
}
