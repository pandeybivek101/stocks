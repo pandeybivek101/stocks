{
 "cells": [
  {
   "cell_type": "code",
   "execution_count": 0,
   "metadata": {
    "application/vnd.databricks.v1+cell": {
     "cellMetadata": {
      "byteLimit": 2048000,
      "rowLimit": 10000
     },
     "inputWidgets": {},
     "nuid": "ca90c79b-afdf-45b5-974e-0c3454862948",
     "showTitle": false,
     "title": ""
    }
   },
   "outputs": [],
   "source": [
    "%run /stockexhange/crawler/crawler.py"
   ]
  },
  {
   "cell_type": "code",
   "execution_count": 0,
   "metadata": {
    "application/vnd.databricks.v1+cell": {
     "cellMetadata": {
      "byteLimit": 2048000,
      "rowLimit": 10000
     },
     "inputWidgets": {},
     "nuid": "714d94a8-209e-4f61-beab-2c741251f6a8",
     "showTitle": false,
     "title": ""
    }
   },
   "outputs": [
    {
     "output_type": "stream",
     "name": "stdout",
     "output_type": "stream",
     "text": [
      "[('D01', 'Nagarik Stock Dealer', '', ''), ('1', 'Kumari Securities Pvt. Limited', '01-4418036, 01-4423689', 'Kumari Marg, Dillibazar-30, Kathmandu, Nepal'), ('1_RWS', 'Kumari Securities Pvt. Limited', '061-537411, 061-537511 ', 'New Road, Pokhara'), ('3', 'Arun Securities Pvt. Limited', '01-4113750', 'Pingalasthan,Kathmandu 44600'), ('4', 'Opal Securities Investment Pvt. Limited', '01-4420313,01-4420314', 'Uttardhoka,Kathmandu'), ('5', 'Market Securities Exchange Company Pvt. Limited', '01-4248973, 01-4249558', 'OM DEV PLAZA COMPLEX, 4TH FLOOR, Kichha Pokhari,Kathmandu'), ('6', 'Agrawal Securities Pvt. Limited', '01-5970106', 'Radhe Marg, Dillibazaar ,Kathmandu'), ('6_RWS', 'Agrawal Securities Pvt. Limited', '021-571667, 021-570857', 'Main Road, Biratnagar'), ('6_RWS1', 'Agrawal Securities Pvt. Ltd.', '041-420420', 'Kadam chowk-2, Janakpur'), ('7', 'J.F. Securities Company Pvt. Limited', '01-4256099,\\xa001-4248202,\\xa001-4212072', 'Newroad,Kathmandu'), ('8', 'Ashutosh Brokerage & Securities Pvt. Limited', '01-4490232/3', 'Battisputali Rode (Near SBI Bank),Kathmandu'), ('8_RWS', 'Ashutosh Brokerage & Securities Pvt. Limited', '977-25-586684', 'Dharan Purav Line Bus Stand, United Insurance Building, Itahari'), ('10', 'Pragyan Securities Pvt. Limited', '01-4413392', 'Kamaladi, Kathmandu'), ('10_RWS', 'Pragyan Securities Pvt. Limited', '021-527283', 'College Road, Biratnagar '), ('11', 'Malla & Malla Stock Broking Company Pvt. Limited', '01-4432088,\\xa001-4414008', 'Lalupate Marg, Hattisar, Kathmandu'), ('13', 'Thrive Brokerage House Pvt. Limited ', '01-4419051', 'Naxal,,Kathmandu'), ('13_RWS', 'Thrive Brokerage House Pvt. Limited ', '061-526877,061-522935', 'Gairipatan, Pokhara '), ('14', 'Nepal Stock House Pvt. Limited', '01-4265888', 'Anamnagar,Kathmandu'), ('14_RWS', 'Nepal Stock House Pvt. Limited', '061-536258,061-534694', 'Gairapatan, Pokhara '), ('16', 'Primo Securities Pvt. Limited', '01-4168164', ' Putalisadak,Kathmandu'), ('17', 'ABC Securities Pvt. Limited', '01-4230787', 'Indrachowk,Kathmandu'), ('18', 'Sagarmatha Securities Pvt. Limited', '01-4439315', 'Putalisadak,Kathmandu'), ('19', 'Nepal Investment & Securities Trading Pvt. Limited', '01-4495450', 'Bhimsengola ,Kathmandu'), ('19_RWS', 'Nepal Investment & Securities Trading Pvt. Limited', '021-440127', 'Main Road, Biratnagar'), ('20', 'Sipla Securities Pvt. Limited', '01-4255782', 'NewRoad,Kathmandu'), ('21', 'Midas Stock Broking Company Pvt. Limited', '01-5970056', 'Kamaladi Mode, Kathmandu'), ('21_RWS1', 'Midas Stock Broking Company Pvt. Limited', '015970056', 'Haramtari-6, Gorkha'), ('21_RWS2', 'Midas Stock Broking Company Pvt. Limited', '071-438332, 071-438336', 'Rajmarg Chouraha, Butwal-9'), ('22', 'Siprabi Securities Pvt. Limited', '01-5530701', 'Kupondol,Lalitpur'), ('22_RWS', 'Siprabi Securities Pvt. Limited', '051-523818', 'Resham Kothi, Birgunj '), ('25', 'Sweta Securities Pvt. Limited', '01-4444791', 'Putalisadak,Kathmandu'), ('26', 'Asian Securities Pvt. Limited', '01-4524351,4524385', 'Putalisadak-29, Kathmandu'), ('26_RWS', 'Asian Securities Private Ltd.', '071-541385', 'asainsecurities26@gmail.com'), ('28', 'Shree Krishna Securities Limited', '01-4224262', 'Dharmapath, Kathmandu'), ('29', 'Trishul Securities And Investment Limited', '01-4440709', 'Putalisadak,Kathmandu'), ('29_RWS', 'Trishul Securities And Investment Limited', '056-528426', 'Milan Road, Narayanghat '), ('32', 'Premier Securites Company Limited', '01-4231339', 'Putalisadak,Kathmandu'), ('32_RWS', 'Premier Securites Company Limited', '061-534201', 'New Road, Pokhara'), ('33', 'Dakshinkali Investment and Securities Pvt. Ltd.', '01-4168640', 'Kathmandu Plaza, Kathmandu'), ('34', 'Vision Securities Pvt. Ltd.', '01-4438621', 'Laxmi Plaza, Kathmandu'), ('35', 'Kohinoor Investment and Securites Pvt. Ltd.', '01-4442857', 'Near Marcopolo Hotel, Kathmandu'), ('36', 'Secured Securities Ltd.', '01-4168172', 'Opposite to Shanker Dev campus, Kathmandu'), ('37', 'Swarnalaxmi Securities Pvt. Ltd.', '01-4417178', 'Behind City Center, Kathmandu'), ('38', 'Dipshikha Dhitopatra Karobar Co. Pvt. Ltd.', '01-4102532', 'Ranabhat Complex, Anamnagar, Kathmandu'), ('39', 'Sumeru Securities Pvt. Ltd.', '01-4444740', 'Kathmandu'), ('40', 'Creative Securities Pvt. Ltd.', '01-4168205', 'Putalisadak, Kathmandu'), ('41', 'Linch Stock Market Ltd.', '01-4469367', 'New Baneshowar, Kathmandu'), ('42', 'Sani Securities Co. Ltd.', '01-401006', 'Jamal, Kathmandu'), ('43', 'South Asian Bulls Pvt. Ltd.', '01-4284785', 'Kuleshowar, Kathmandu'), ('44', 'Dynamic Money Managers Securities Pvt. Ltd.', '', 'Kamal Pokhari, Kathmandu'), ('45', 'Imperial Securities Co. Pvt. Ltd.', '01-4231004', 'Anamnagar, Kathmandu'), ('46', 'Kalika Securities Pvt. Ltd.', '01-5705565', 'Hanumansthan, Anamnagar, Kathmandu, Nepal'), ('47', 'Neev Securities Pvt. Ltd.', '01-4168601, 01-4168572', 'X-Block, 4th Floor, Kathmandu Plaza, Kathmandu'), ('48', 'Trishakti Securities Public Limited', '01-4232132', 'Putalisadak, Kathmandu'), ('49', 'Online Securities Pvt. Ltd.', '01-4246390,01-4246392', 'Bagbazar, Kathmandu'), ('50', 'Crystal Kanchanjungha Securities Pvt. Ltd.', '01-4422376,01-4428072', 'New Plaza, Kathmandu'), ('51', 'Oxford Securities Pvt. Ltd.', '01-4273850,01-4278113', 'Kalimati, Kathmandu'), ('52', 'Sundhara Securities Ltd.', '01-4212215,01-4263583', 'Sundhara, Kathmandu'), ('53', ' Investment Management Nepal Pvt. Ltd.', '01-4256589', 'Tripureshwor,Kathmandu'), ('54', 'Sewa Securities Pvt. Ltd.', '01-4256642', 'Tripureshwor,Kathmandu'), ('55', 'Bhrikuti Stock Broking Co. Pvt. Ltd.', '01-4223466', 'Newroad, Kathmandu'), ('56', 'Sri Hari Securities Pvt. Ltd.', '01-4437562', 'Kamaladi, Kathmandu'), ('57', 'Arya Tara Investment And Securities Pvt. Ltd.', '01-5705596, 5706297', 'Anamnagar, Kathmandu'), ('58', 'Naasa Securities Co. Ltd.', '01-5970084', 'Naxal, Kathmandu'), ('59', 'Deevyaa Securities & Stock House Pvt. Ltd', '01-4421488', 'New Plaza, Putalisadak, Kathmandu'), ('60', 'Nagarik Stock Dealer Company Ltd.', '01-4790331, 01-5902765', 'New Baneshwor, Kathmandu'), ('61', 'Bhole Ganesh Securities Limited', '', 'Kathmandu'), ('62', 'Capital Max Securities Limited', '', 'Kathmandu'), ('63', 'Himalayan Brokerage Company Limited', '', 'Kathmandu'), ('64', 'SUN SECURITIES PVT LTD', '', 'Kathmandu'), ('65', 'Sharepro Securities Private Limited', '', 'Kathmandu'), ('66', 'Miyo Securities Pvt Ltd', '', 'Kathmandu'), ('67', 'Property Wiard Limited', '9851349930', 'Kathmandu'), ('68', 'Elite Stock House Limited', '9851046054', ''), ('69', 'INDEX SECURITIES LIMITED', '9851057896', 'Kathmandu'), ('70', 'Infinity Securities Limited', '9851351802', 'Kathmandu'), ('71', 'SHUBHAKAMANA SECURITIES PVT. LTD', '9852027296', 'Kathmandu'), ('72', 'Hatemalo Financial Services Private Limited', '9851112907', ''), ('73', 'Money World Share Exchange PVT Ltd', '9849892892', ''), ('74', 'KALASH STOCK MARKET PVT. LTD.', '9851254622', ''), ('75', 'Mega Stock Markets Limited', '9851010052', ''), ('76', 'Machhapuchchhre Securities Limited', '9851106225', ''), ('77', 'Nabil Securities Ltd', '9851016369', '')]\n"
     ]
    }
   ],
   "source": [
    "url=\"https://merolagani.com/BrokerList.aspx\"\n",
    "data=f_crawl_broker_data(url)\n",
    "\n",
    "print(data)"
   ]
  },
  {
   "cell_type": "code",
   "execution_count": 0,
   "metadata": {
    "application/vnd.databricks.v1+cell": {
     "cellMetadata": {
      "byteLimit": 2048000,
      "rowLimit": 10000
     },
     "inputWidgets": {},
     "nuid": "6cf615d3-2c22-43b6-9845-296e7b0854a7",
     "showTitle": false,
     "title": ""
    }
   },
   "outputs": [],
   "source": [
    "from pyspark.sql.types import StructField, StructType, IntegerType, StringType\n",
    "\n",
    "schema = StructType([\n",
    "    StructField('broker_id', StringType()),\n",
    "    StructField('broker_name', StringType()),\n",
    "    StructField('broker_phone', StringType()),\n",
    "    StructField('broker_address', StringType())\n",
    "])"
   ]
  },
  {
   "cell_type": "code",
   "execution_count": 0,
   "metadata": {
    "application/vnd.databricks.v1+cell": {
     "cellMetadata": {
      "byteLimit": 2048000,
      "rowLimit": 10000
     },
     "inputWidgets": {},
     "nuid": "46777b07-c9a2-4c06-bf51-41c41d9d0f12",
     "showTitle": false,
     "title": ""
    }
   },
   "outputs": [],
   "source": [
    "df = spark.createDataFrame(data=data, schema=schema)"
   ]
  },
  {
   "cell_type": "code",
   "execution_count": 0,
   "metadata": {
    "application/vnd.databricks.v1+cell": {
     "cellMetadata": {
      "byteLimit": 2048000,
      "rowLimit": 10000
     },
     "inputWidgets": {},
     "nuid": "ad440f8c-63f7-40b0-860c-adafb32ef191",
     "showTitle": false,
     "title": ""
    }
   },
   "outputs": [
    {
     "output_type": "display_data",
     "data": {
      "text/html": [
       "<style scoped>\n",
       "  .table-result-container {\n",
       "    max-height: 300px;\n",
       "    overflow: auto;\n",
       "  }\n",
       "  table, th, td {\n",
       "    border: 1px solid black;\n",
       "    border-collapse: collapse;\n",
       "  }\n",
       "  th, td {\n",
       "    padding: 5px;\n",
       "  }\n",
       "  th {\n",
       "    text-align: left;\n",
       "  }\n",
       "</style><div class='table-result-container'><table class='table-result'><thead style='background-color: white'><tr><th>broker_id</th><th>broker_name</th><th>broker_phone</th><th>broker_address</th></tr></thead><tbody><tr><td>D01</td><td>Nagarik Stock Dealer</td><td></td><td></td></tr><tr><td>1</td><td>Kumari Securities Pvt. Limited</td><td>01-4418036, 01-4423689</td><td>Kumari Marg, Dillibazar-30, Kathmandu, Nepal</td></tr><tr><td>1_RWS</td><td>Kumari Securities Pvt. Limited</td><td>061-537411, 061-537511 </td><td>New Road, Pokhara</td></tr><tr><td>3</td><td>Arun Securities Pvt. Limited</td><td>01-4113750</td><td>Pingalasthan,Kathmandu 44600</td></tr><tr><td>4</td><td>Opal Securities Investment Pvt. Limited</td><td>01-4420313,01-4420314</td><td>Uttardhoka,Kathmandu</td></tr><tr><td>5</td><td>Market Securities Exchange Company Pvt. Limited</td><td>01-4248973, 01-4249558</td><td>OM DEV PLAZA COMPLEX, 4TH FLOOR, Kichha Pokhari,Kathmandu</td></tr><tr><td>6</td><td>Agrawal Securities Pvt. Limited</td><td>01-5970106</td><td>Radhe Marg, Dillibazaar ,Kathmandu</td></tr><tr><td>6_RWS</td><td>Agrawal Securities Pvt. Limited</td><td>021-571667, 021-570857</td><td>Main Road, Biratnagar</td></tr><tr><td>6_RWS1</td><td>Agrawal Securities Pvt. Ltd.</td><td>041-420420</td><td>Kadam chowk-2, Janakpur</td></tr><tr><td>7</td><td>J.F. Securities Company Pvt. Limited</td><td>01-4256099, 01-4248202, 01-4212072</td><td>Newroad,Kathmandu</td></tr><tr><td>8</td><td>Ashutosh Brokerage & Securities Pvt. Limited</td><td>01-4490232/3</td><td>Battisputali Rode (Near SBI Bank),Kathmandu</td></tr><tr><td>8_RWS</td><td>Ashutosh Brokerage & Securities Pvt. Limited</td><td>977-25-586684</td><td>Dharan Purav Line Bus Stand, United Insurance Building, Itahari</td></tr><tr><td>10</td><td>Pragyan Securities Pvt. Limited</td><td>01-4413392</td><td>Kamaladi, Kathmandu</td></tr><tr><td>10_RWS</td><td>Pragyan Securities Pvt. Limited</td><td>021-527283</td><td>College Road, Biratnagar </td></tr><tr><td>11</td><td>Malla & Malla Stock Broking Company Pvt. Limited</td><td>01-4432088, 01-4414008</td><td>Lalupate Marg, Hattisar, Kathmandu</td></tr><tr><td>13</td><td>Thrive Brokerage House Pvt. Limited </td><td>01-4419051</td><td>Naxal,,Kathmandu</td></tr><tr><td>13_RWS</td><td>Thrive Brokerage House Pvt. Limited </td><td>061-526877,061-522935</td><td>Gairipatan, Pokhara </td></tr><tr><td>14</td><td>Nepal Stock House Pvt. Limited</td><td>01-4265888</td><td>Anamnagar,Kathmandu</td></tr><tr><td>14_RWS</td><td>Nepal Stock House Pvt. Limited</td><td>061-536258,061-534694</td><td>Gairapatan, Pokhara </td></tr><tr><td>16</td><td>Primo Securities Pvt. Limited</td><td>01-4168164</td><td> Putalisadak,Kathmandu</td></tr><tr><td>17</td><td>ABC Securities Pvt. Limited</td><td>01-4230787</td><td>Indrachowk,Kathmandu</td></tr><tr><td>18</td><td>Sagarmatha Securities Pvt. Limited</td><td>01-4439315</td><td>Putalisadak,Kathmandu</td></tr><tr><td>19</td><td>Nepal Investment & Securities Trading Pvt. Limited</td><td>01-4495450</td><td>Bhimsengola ,Kathmandu</td></tr><tr><td>19_RWS</td><td>Nepal Investment & Securities Trading Pvt. Limited</td><td>021-440127</td><td>Main Road, Biratnagar</td></tr><tr><td>20</td><td>Sipla Securities Pvt. Limited</td><td>01-4255782</td><td>NewRoad,Kathmandu</td></tr><tr><td>21</td><td>Midas Stock Broking Company Pvt. Limited</td><td>01-5970056</td><td>Kamaladi Mode, Kathmandu</td></tr><tr><td>21_RWS1</td><td>Midas Stock Broking Company Pvt. Limited</td><td>015970056</td><td>Haramtari-6, Gorkha</td></tr><tr><td>21_RWS2</td><td>Midas Stock Broking Company Pvt. Limited</td><td>071-438332, 071-438336</td><td>Rajmarg Chouraha, Butwal-9</td></tr><tr><td>22</td><td>Siprabi Securities Pvt. Limited</td><td>01-5530701</td><td>Kupondol,Lalitpur</td></tr><tr><td>22_RWS</td><td>Siprabi Securities Pvt. Limited</td><td>051-523818</td><td>Resham Kothi, Birgunj </td></tr><tr><td>25</td><td>Sweta Securities Pvt. Limited</td><td>01-4444791</td><td>Putalisadak,Kathmandu</td></tr><tr><td>26</td><td>Asian Securities Pvt. Limited</td><td>01-4524351,4524385</td><td>Putalisadak-29, Kathmandu</td></tr><tr><td>26_RWS</td><td>Asian Securities Private Ltd.</td><td>071-541385</td><td>asainsecurities26@gmail.com</td></tr><tr><td>28</td><td>Shree Krishna Securities Limited</td><td>01-4224262</td><td>Dharmapath, Kathmandu</td></tr><tr><td>29</td><td>Trishul Securities And Investment Limited</td><td>01-4440709</td><td>Putalisadak,Kathmandu</td></tr><tr><td>29_RWS</td><td>Trishul Securities And Investment Limited</td><td>056-528426</td><td>Milan Road, Narayanghat </td></tr><tr><td>32</td><td>Premier Securites Company Limited</td><td>01-4231339</td><td>Putalisadak,Kathmandu</td></tr><tr><td>32_RWS</td><td>Premier Securites Company Limited</td><td>061-534201</td><td>New Road, Pokhara</td></tr><tr><td>33</td><td>Dakshinkali Investment and Securities Pvt. Ltd.</td><td>01-4168640</td><td>Kathmandu Plaza, Kathmandu</td></tr><tr><td>34</td><td>Vision Securities Pvt. Ltd.</td><td>01-4438621</td><td>Laxmi Plaza, Kathmandu</td></tr><tr><td>35</td><td>Kohinoor Investment and Securites Pvt. Ltd.</td><td>01-4442857</td><td>Near Marcopolo Hotel, Kathmandu</td></tr><tr><td>36</td><td>Secured Securities Ltd.</td><td>01-4168172</td><td>Opposite to Shanker Dev campus, Kathmandu</td></tr><tr><td>37</td><td>Swarnalaxmi Securities Pvt. Ltd.</td><td>01-4417178</td><td>Behind City Center, Kathmandu</td></tr><tr><td>38</td><td>Dipshikha Dhitopatra Karobar Co. Pvt. Ltd.</td><td>01-4102532</td><td>Ranabhat Complex, Anamnagar, Kathmandu</td></tr><tr><td>39</td><td>Sumeru Securities Pvt. Ltd.</td><td>01-4444740</td><td>Kathmandu</td></tr><tr><td>40</td><td>Creative Securities Pvt. Ltd.</td><td>01-4168205</td><td>Putalisadak, Kathmandu</td></tr><tr><td>41</td><td>Linch Stock Market Ltd.</td><td>01-4469367</td><td>New Baneshowar, Kathmandu</td></tr><tr><td>42</td><td>Sani Securities Co. Ltd.</td><td>01-401006</td><td>Jamal, Kathmandu</td></tr><tr><td>43</td><td>South Asian Bulls Pvt. Ltd.</td><td>01-4284785</td><td>Kuleshowar, Kathmandu</td></tr><tr><td>44</td><td>Dynamic Money Managers Securities Pvt. Ltd.</td><td></td><td>Kamal Pokhari, Kathmandu</td></tr><tr><td>45</td><td>Imperial Securities Co. Pvt. Ltd.</td><td>01-4231004</td><td>Anamnagar, Kathmandu</td></tr><tr><td>46</td><td>Kalika Securities Pvt. Ltd.</td><td>01-5705565</td><td>Hanumansthan, Anamnagar, Kathmandu, Nepal</td></tr><tr><td>47</td><td>Neev Securities Pvt. Ltd.</td><td>01-4168601, 01-4168572</td><td>X-Block, 4th Floor, Kathmandu Plaza, Kathmandu</td></tr><tr><td>48</td><td>Trishakti Securities Public Limited</td><td>01-4232132</td><td>Putalisadak, Kathmandu</td></tr><tr><td>49</td><td>Online Securities Pvt. Ltd.</td><td>01-4246390,01-4246392</td><td>Bagbazar, Kathmandu</td></tr><tr><td>50</td><td>Crystal Kanchanjungha Securities Pvt. Ltd.</td><td>01-4422376,01-4428072</td><td>New Plaza, Kathmandu</td></tr><tr><td>51</td><td>Oxford Securities Pvt. Ltd.</td><td>01-4273850,01-4278113</td><td>Kalimati, Kathmandu</td></tr><tr><td>52</td><td>Sundhara Securities Ltd.</td><td>01-4212215,01-4263583</td><td>Sundhara, Kathmandu</td></tr><tr><td>53</td><td> Investment Management Nepal Pvt. Ltd.</td><td>01-4256589</td><td>Tripureshwor,Kathmandu</td></tr><tr><td>54</td><td>Sewa Securities Pvt. Ltd.</td><td>01-4256642</td><td>Tripureshwor,Kathmandu</td></tr><tr><td>55</td><td>Bhrikuti Stock Broking Co. Pvt. Ltd.</td><td>01-4223466</td><td>Newroad, Kathmandu</td></tr><tr><td>56</td><td>Sri Hari Securities Pvt. Ltd.</td><td>01-4437562</td><td>Kamaladi, Kathmandu</td></tr><tr><td>57</td><td>Arya Tara Investment And Securities Pvt. Ltd.</td><td>01-5705596, 5706297</td><td>Anamnagar, Kathmandu</td></tr><tr><td>58</td><td>Naasa Securities Co. Ltd.</td><td>01-5970084</td><td>Naxal, Kathmandu</td></tr><tr><td>59</td><td>Deevyaa Securities & Stock House Pvt. Ltd</td><td>01-4421488</td><td>New Plaza, Putalisadak, Kathmandu</td></tr><tr><td>60</td><td>Nagarik Stock Dealer Company Ltd.</td><td>01-4790331, 01-5902765</td><td>New Baneshwor, Kathmandu</td></tr><tr><td>61</td><td>Bhole Ganesh Securities Limited</td><td></td><td>Kathmandu</td></tr><tr><td>62</td><td>Capital Max Securities Limited</td><td></td><td>Kathmandu</td></tr><tr><td>63</td><td>Himalayan Brokerage Company Limited</td><td></td><td>Kathmandu</td></tr><tr><td>64</td><td>SUN SECURITIES PVT LTD</td><td></td><td>Kathmandu</td></tr><tr><td>65</td><td>Sharepro Securities Private Limited</td><td></td><td>Kathmandu</td></tr><tr><td>66</td><td>Miyo Securities Pvt Ltd</td><td></td><td>Kathmandu</td></tr><tr><td>67</td><td>Property Wiard Limited</td><td>9851349930</td><td>Kathmandu</td></tr><tr><td>68</td><td>Elite Stock House Limited</td><td>9851046054</td><td></td></tr><tr><td>69</td><td>INDEX SECURITIES LIMITED</td><td>9851057896</td><td>Kathmandu</td></tr><tr><td>70</td><td>Infinity Securities Limited</td><td>9851351802</td><td>Kathmandu</td></tr><tr><td>71</td><td>SHUBHAKAMANA SECURITIES PVT. LTD</td><td>9852027296</td><td>Kathmandu</td></tr><tr><td>72</td><td>Hatemalo Financial Services Private Limited</td><td>9851112907</td><td></td></tr><tr><td>73</td><td>Money World Share Exchange PVT Ltd</td><td>9849892892</td><td></td></tr><tr><td>74</td><td>KALASH STOCK MARKET PVT. LTD.</td><td>9851254622</td><td></td></tr><tr><td>75</td><td>Mega Stock Markets Limited</td><td>9851010052</td><td></td></tr><tr><td>76</td><td>Machhapuchchhre Securities Limited</td><td>9851106225</td><td></td></tr><tr><td>77</td><td>Nabil Securities Ltd</td><td>9851016369</td><td></td></tr></tbody></table></div>"
      ]
     },
     "metadata": {
      "application/vnd.databricks.v1+output": {
       "addedWidgets": {},
       "aggData": [],
       "aggError": "",
       "aggOverflow": false,
       "aggSchema": [],
       "aggSeriesLimitReached": false,
       "aggType": "",
       "arguments": {},
       "columnCustomDisplayInfos": {},
       "data": [
        [
         "D01",
         "Nagarik Stock Dealer",
         "",
         ""
        ],
        [
         "1",
         "Kumari Securities Pvt. Limited",
         "01-4418036, 01-4423689",
         "Kumari Marg, Dillibazar-30, Kathmandu, Nepal"
        ],
        [
         "1_RWS",
         "Kumari Securities Pvt. Limited",
         "061-537411, 061-537511 ",
         "New Road, Pokhara"
        ],
        [
         "3",
         "Arun Securities Pvt. Limited",
         "01-4113750",
         "Pingalasthan,Kathmandu 44600"
        ],
        [
         "4",
         "Opal Securities Investment Pvt. Limited",
         "01-4420313,01-4420314",
         "Uttardhoka,Kathmandu"
        ],
        [
         "5",
         "Market Securities Exchange Company Pvt. Limited",
         "01-4248973, 01-4249558",
         "OM DEV PLAZA COMPLEX, 4TH FLOOR, Kichha Pokhari,Kathmandu"
        ],
        [
         "6",
         "Agrawal Securities Pvt. Limited",
         "01-5970106",
         "Radhe Marg, Dillibazaar ,Kathmandu"
        ],
        [
         "6_RWS",
         "Agrawal Securities Pvt. Limited",
         "021-571667, 021-570857",
         "Main Road, Biratnagar"
        ],
        [
         "6_RWS1",
         "Agrawal Securities Pvt. Ltd.",
         "041-420420",
         "Kadam chowk-2, Janakpur"
        ],
        [
         "7",
         "J.F. Securities Company Pvt. Limited",
         "01-4256099, 01-4248202, 01-4212072",
         "Newroad,Kathmandu"
        ],
        [
         "8",
         "Ashutosh Brokerage & Securities Pvt. Limited",
         "01-4490232/3",
         "Battisputali Rode (Near SBI Bank),Kathmandu"
        ],
        [
         "8_RWS",
         "Ashutosh Brokerage & Securities Pvt. Limited",
         "977-25-586684",
         "Dharan Purav Line Bus Stand, United Insurance Building, Itahari"
        ],
        [
         "10",
         "Pragyan Securities Pvt. Limited",
         "01-4413392",
         "Kamaladi, Kathmandu"
        ],
        [
         "10_RWS",
         "Pragyan Securities Pvt. Limited",
         "021-527283",
         "College Road, Biratnagar "
        ],
        [
         "11",
         "Malla & Malla Stock Broking Company Pvt. Limited",
         "01-4432088, 01-4414008",
         "Lalupate Marg, Hattisar, Kathmandu"
        ],
        [
         "13",
         "Thrive Brokerage House Pvt. Limited ",
         "01-4419051",
         "Naxal,,Kathmandu"
        ],
        [
         "13_RWS",
         "Thrive Brokerage House Pvt. Limited ",
         "061-526877,061-522935",
         "Gairipatan, Pokhara "
        ],
        [
         "14",
         "Nepal Stock House Pvt. Limited",
         "01-4265888",
         "Anamnagar,Kathmandu"
        ],
        [
         "14_RWS",
         "Nepal Stock House Pvt. Limited",
         "061-536258,061-534694",
         "Gairapatan, Pokhara "
        ],
        [
         "16",
         "Primo Securities Pvt. Limited",
         "01-4168164",
         " Putalisadak,Kathmandu"
        ],
        [
         "17",
         "ABC Securities Pvt. Limited",
         "01-4230787",
         "Indrachowk,Kathmandu"
        ],
        [
         "18",
         "Sagarmatha Securities Pvt. Limited",
         "01-4439315",
         "Putalisadak,Kathmandu"
        ],
        [
         "19",
         "Nepal Investment & Securities Trading Pvt. Limited",
         "01-4495450",
         "Bhimsengola ,Kathmandu"
        ],
        [
         "19_RWS",
         "Nepal Investment & Securities Trading Pvt. Limited",
         "021-440127",
         "Main Road, Biratnagar"
        ],
        [
         "20",
         "Sipla Securities Pvt. Limited",
         "01-4255782",
         "NewRoad,Kathmandu"
        ],
        [
         "21",
         "Midas Stock Broking Company Pvt. Limited",
         "01-5970056",
         "Kamaladi Mode, Kathmandu"
        ],
        [
         "21_RWS1",
         "Midas Stock Broking Company Pvt. Limited",
         "015970056",
         "Haramtari-6, Gorkha"
        ],
        [
         "21_RWS2",
         "Midas Stock Broking Company Pvt. Limited",
         "071-438332, 071-438336",
         "Rajmarg Chouraha, Butwal-9"
        ],
        [
         "22",
         "Siprabi Securities Pvt. Limited",
         "01-5530701",
         "Kupondol,Lalitpur"
        ],
        [
         "22_RWS",
         "Siprabi Securities Pvt. Limited",
         "051-523818",
         "Resham Kothi, Birgunj "
        ],
        [
         "25",
         "Sweta Securities Pvt. Limited",
         "01-4444791",
         "Putalisadak,Kathmandu"
        ],
        [
         "26",
         "Asian Securities Pvt. Limited",
         "01-4524351,4524385",
         "Putalisadak-29, Kathmandu"
        ],
        [
         "26_RWS",
         "Asian Securities Private Ltd.",
         "071-541385",
         "asainsecurities26@gmail.com"
        ],
        [
         "28",
         "Shree Krishna Securities Limited",
         "01-4224262",
         "Dharmapath, Kathmandu"
        ],
        [
         "29",
         "Trishul Securities And Investment Limited",
         "01-4440709",
         "Putalisadak,Kathmandu"
        ],
        [
         "29_RWS",
         "Trishul Securities And Investment Limited",
         "056-528426",
         "Milan Road, Narayanghat "
        ],
        [
         "32",
         "Premier Securites Company Limited",
         "01-4231339",
         "Putalisadak,Kathmandu"
        ],
        [
         "32_RWS",
         "Premier Securites Company Limited",
         "061-534201",
         "New Road, Pokhara"
        ],
        [
         "33",
         "Dakshinkali Investment and Securities Pvt. Ltd.",
         "01-4168640",
         "Kathmandu Plaza, Kathmandu"
        ],
        [
         "34",
         "Vision Securities Pvt. Ltd.",
         "01-4438621",
         "Laxmi Plaza, Kathmandu"
        ],
        [
         "35",
         "Kohinoor Investment and Securites Pvt. Ltd.",
         "01-4442857",
         "Near Marcopolo Hotel, Kathmandu"
        ],
        [
         "36",
         "Secured Securities Ltd.",
         "01-4168172",
         "Opposite to Shanker Dev campus, Kathmandu"
        ],
        [
         "37",
         "Swarnalaxmi Securities Pvt. Ltd.",
         "01-4417178",
         "Behind City Center, Kathmandu"
        ],
        [
         "38",
         "Dipshikha Dhitopatra Karobar Co. Pvt. Ltd.",
         "01-4102532",
         "Ranabhat Complex, Anamnagar, Kathmandu"
        ],
        [
         "39",
         "Sumeru Securities Pvt. Ltd.",
         "01-4444740",
         "Kathmandu"
        ],
        [
         "40",
         "Creative Securities Pvt. Ltd.",
         "01-4168205",
         "Putalisadak, Kathmandu"
        ],
        [
         "41",
         "Linch Stock Market Ltd.",
         "01-4469367",
         "New Baneshowar, Kathmandu"
        ],
        [
         "42",
         "Sani Securities Co. Ltd.",
         "01-401006",
         "Jamal, Kathmandu"
        ],
        [
         "43",
         "South Asian Bulls Pvt. Ltd.",
         "01-4284785",
         "Kuleshowar, Kathmandu"
        ],
        [
         "44",
         "Dynamic Money Managers Securities Pvt. Ltd.",
         "",
         "Kamal Pokhari, Kathmandu"
        ],
        [
         "45",
         "Imperial Securities Co. Pvt. Ltd.",
         "01-4231004",
         "Anamnagar, Kathmandu"
        ],
        [
         "46",
         "Kalika Securities Pvt. Ltd.",
         "01-5705565",
         "Hanumansthan, Anamnagar, Kathmandu, Nepal"
        ],
        [
         "47",
         "Neev Securities Pvt. Ltd.",
         "01-4168601, 01-4168572",
         "X-Block, 4th Floor, Kathmandu Plaza, Kathmandu"
        ],
        [
         "48",
         "Trishakti Securities Public Limited",
         "01-4232132",
         "Putalisadak, Kathmandu"
        ],
        [
         "49",
         "Online Securities Pvt. Ltd.",
         "01-4246390,01-4246392",
         "Bagbazar, Kathmandu"
        ],
        [
         "50",
         "Crystal Kanchanjungha Securities Pvt. Ltd.",
         "01-4422376,01-4428072",
         "New Plaza, Kathmandu"
        ],
        [
         "51",
         "Oxford Securities Pvt. Ltd.",
         "01-4273850,01-4278113",
         "Kalimati, Kathmandu"
        ],
        [
         "52",
         "Sundhara Securities Ltd.",
         "01-4212215,01-4263583",
         "Sundhara, Kathmandu"
        ],
        [
         "53",
         " Investment Management Nepal Pvt. Ltd.",
         "01-4256589",
         "Tripureshwor,Kathmandu"
        ],
        [
         "54",
         "Sewa Securities Pvt. Ltd.",
         "01-4256642",
         "Tripureshwor,Kathmandu"
        ],
        [
         "55",
         "Bhrikuti Stock Broking Co. Pvt. Ltd.",
         "01-4223466",
         "Newroad, Kathmandu"
        ],
        [
         "56",
         "Sri Hari Securities Pvt. Ltd.",
         "01-4437562",
         "Kamaladi, Kathmandu"
        ],
        [
         "57",
         "Arya Tara Investment And Securities Pvt. Ltd.",
         "01-5705596, 5706297",
         "Anamnagar, Kathmandu"
        ],
        [
         "58",
         "Naasa Securities Co. Ltd.",
         "01-5970084",
         "Naxal, Kathmandu"
        ],
        [
         "59",
         "Deevyaa Securities & Stock House Pvt. Ltd",
         "01-4421488",
         "New Plaza, Putalisadak, Kathmandu"
        ],
        [
         "60",
         "Nagarik Stock Dealer Company Ltd.",
         "01-4790331, 01-5902765",
         "New Baneshwor, Kathmandu"
        ],
        [
         "61",
         "Bhole Ganesh Securities Limited",
         "",
         "Kathmandu"
        ],
        [
         "62",
         "Capital Max Securities Limited",
         "",
         "Kathmandu"
        ],
        [
         "63",
         "Himalayan Brokerage Company Limited",
         "",
         "Kathmandu"
        ],
        [
         "64",
         "SUN SECURITIES PVT LTD",
         "",
         "Kathmandu"
        ],
        [
         "65",
         "Sharepro Securities Private Limited",
         "",
         "Kathmandu"
        ],
        [
         "66",
         "Miyo Securities Pvt Ltd",
         "",
         "Kathmandu"
        ],
        [
         "67",
         "Property Wiard Limited",
         "9851349930",
         "Kathmandu"
        ],
        [
         "68",
         "Elite Stock House Limited",
         "9851046054",
         ""
        ],
        [
         "69",
         "INDEX SECURITIES LIMITED",
         "9851057896",
         "Kathmandu"
        ],
        [
         "70",
         "Infinity Securities Limited",
         "9851351802",
         "Kathmandu"
        ],
        [
         "71",
         "SHUBHAKAMANA SECURITIES PVT. LTD",
         "9852027296",
         "Kathmandu"
        ],
        [
         "72",
         "Hatemalo Financial Services Private Limited",
         "9851112907",
         ""
        ],
        [
         "73",
         "Money World Share Exchange PVT Ltd",
         "9849892892",
         ""
        ],
        [
         "74",
         "KALASH STOCK MARKET PVT. LTD.",
         "9851254622",
         ""
        ],
        [
         "75",
         "Mega Stock Markets Limited",
         "9851010052",
         ""
        ],
        [
         "76",
         "Machhapuchchhre Securities Limited",
         "9851106225",
         ""
        ],
        [
         "77",
         "Nabil Securities Ltd",
         "9851016369",
         ""
        ]
       ],
       "datasetInfos": [],
       "dbfsResultPath": null,
       "isJsonSchema": true,
       "metadata": {},
       "overflow": false,
       "plotOptions": {
        "customPlotOptions": {},
        "displayType": "table",
        "pivotAggregation": null,
        "pivotColumns": null,
        "xColumns": null,
        "yColumns": null
       },
       "removedWidgets": [],
       "schema": [
        {
         "metadata": "{}",
         "name": "broker_id",
         "type": "\"string\""
        },
        {
         "metadata": "{}",
         "name": "broker_name",
         "type": "\"string\""
        },
        {
         "metadata": "{}",
         "name": "broker_phone",
         "type": "\"string\""
        },
        {
         "metadata": "{}",
         "name": "broker_address",
         "type": "\"string\""
        }
       ],
       "type": "table"
      }
     },
     "output_type": "display_data"
    }
   ],
   "source": [
    "display(df)"
   ]
  },
  {
   "cell_type": "code",
   "execution_count": 0,
   "metadata": {
    "application/vnd.databricks.v1+cell": {
     "cellMetadata": {
      "byteLimit": 2048000,
      "rowLimit": 10000
     },
     "inputWidgets": {},
     "nuid": "436f2deb-8b7a-4e8b-8bea-beeebc479b22",
     "showTitle": false,
     "title": ""
    }
   },
   "outputs": [],
   "source": [
    "df.write.parquet('/FileStore/shared_uploads/pandeyvivak25@gmail.com/cleansed/broker', mode=\"overwrite\")"
   ]
  },
  {
   "cell_type": "code",
   "execution_count": 0,
   "metadata": {
    "application/vnd.databricks.v1+cell": {
     "cellMetadata": {},
     "inputWidgets": {},
     "nuid": "cbe3aa5f-ed93-4093-80b0-9957bac37245",
     "showTitle": false,
     "title": ""
    }
   },
   "outputs": [],
   "source": []
  }
 ],
 "metadata": {
  "application/vnd.databricks.v1+notebook": {
   "dashboards": [],
   "language": "python",
   "notebookMetadata": {
    "pythonIndentUnit": 4
   },
   "notebookName": "broker_cleansing",
   "widgets": {}
  }
 },
 "nbformat": 4,
 "nbformat_minor": 0
}
